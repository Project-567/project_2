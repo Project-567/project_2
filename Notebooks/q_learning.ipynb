{
 "cells": [
  {
   "cell_type": "markdown",
   "metadata": {},
   "source": [
    "# Q Learning "
   ]
  },
  {
   "cell_type": "code",
   "execution_count": 1,
   "metadata": {},
   "outputs": [],
   "source": [
    "import numpy as np\n",
    "import matplotlib.pyplot as plt\n",
    "import pandas as pd\n",
    "from random import uniform\n",
    "import random\n",
    "from IPython.display import display, clear_output"
   ]
  },
  {
   "cell_type": "code",
   "execution_count": 2,
   "metadata": {},
   "outputs": [],
   "source": [
    "actions = [[-1, 0], [0, 1], [1, 0], [0, -1]] #up, right, down, left = (clockwise from up) \n",
    "action_count = len(actions) # total number of actions\n",
    "gridSize = 5 # create a square grid of gridSize by gridSize\n",
    "state_count = gridSize*gridSize # total number of states"
   ]
  },
  {
   "cell_type": "code",
   "execution_count": 3,
   "metadata": {},
   "outputs": [],
   "source": [
    "class Gridworld():\n",
    "    def __init__(self, gridSize):\n",
    "        self.valueMap = np.zeros((gridSize, gridSize))\n",
    "        self.states = [[i, j] for i in range(gridSize) for j in range(gridSize)]\n",
    "        self.size = gridSize\n",
    "        self.new_pos = [0, 0] # initialize new position for p_transition\n",
    "        self.transition_prob = 1 # deterministic\n",
    "    \n",
    "    def initial_state(self):        # return initial state\n",
    "        return grid.states[gridSize*gridSize-1]\n",
    "   \n",
    "    def transition_reward(self, current_pos, action): # return the transition probability\n",
    "\n",
    "        # get next position: state: [0, 0], action: [0, 1], new_state = [0, 1]\n",
    "        self.new_pos = np.array(current_pos) + np.array(action)\n",
    "\n",
    "        # normally, reward = 0\n",
    "        reward = 0\n",
    "\n",
    "        # if new pos results in off the grid, return reward -1\n",
    "        if -1 in self.new_pos or self.size in self.new_pos:\n",
    "            reward = -1\n",
    "        # if in state A, receive + 10\n",
    "        if current_pos == [0, 1]:\n",
    "            reward = 10\n",
    "        # if in state B, receive + 5\n",
    "        if current_pos == [0, 3]:\n",
    "            reward = 5\n",
    "\n",
    "        # if taking an action crosses the border; agent's new_pos is the same as the current pos\n",
    "        if -1 in self.new_pos or self.size in self.new_pos: \n",
    "            self.new_pos = current_pos\n",
    "            \n",
    "        # if in state A, transition to state A'\n",
    "        if current_pos == [0, 1]:\n",
    "            self.new_pos = [4, 1]\n",
    "            \n",
    "        # if in state B, transition to state B'\n",
    "        if current_pos == [0, 3]:\n",
    "            self.new_pos = [2, 3]\n",
    "\n",
    "        return self.new_pos, reward"
   ]
  },
  {
   "cell_type": "markdown",
   "metadata": {},
   "source": [
    "## Define Functions"
   ]
  },
  {
   "cell_type": "code",
   "execution_count": 4,
   "metadata": {},
   "outputs": [],
   "source": [
    "# define a function that chooses action based on epsilon-greedy\n",
    "def choose_action(state, epsilon):\n",
    "    \n",
    "    # choose an action type: explore or exploit\n",
    "    action_type = int(np.random.choice(2, 1, p=[epsilon,1-epsilon]))\n",
    "\n",
    "    # find best action based on Q values\n",
    "    best_action_index = np.argmax(Q_values[state])\n",
    "\n",
    "    # pick a random action\n",
    "    random_action_index = random.choice(range(4))\n",
    "\n",
    "    # choose an action based on exploit or explore\n",
    "    if action_type == 0:\n",
    "        # explore\n",
    "        # while random action is the same as the best action, pick a new action\n",
    "        while random_action_index == best_action_index:\n",
    "            random_action_index = random.choice(range(4))\n",
    "        action_index = random_action_index\n",
    "    else:\n",
    "        # exploit\n",
    "        # print(\"exploit\")\n",
    "        action_index = best_action_index\n",
    "    \n",
    "    # if Q_values is all zero, randomly pick an action\n",
    "    if np.count_nonzero(Q_values[state]) == 0:\n",
    "        action_index = random.randint(0,3)\n",
    "        \n",
    "    return action_index"
   ]
  },
  {
   "cell_type": "code",
   "execution_count": 5,
   "metadata": {},
   "outputs": [],
   "source": [
    "# define average function\n",
    "def Average(lst): \n",
    "    return sum(lst) / len(lst) "
   ]
  },
  {
   "cell_type": "code",
   "execution_count": 6,
   "metadata": {},
   "outputs": [],
   "source": [
    "# define a function that generates an episode\n",
    "def generate_episode(steps):\n",
    "\n",
    "    # set initial state\n",
    "    state_vector = grid.initial_state()\n",
    "\n",
    "    # initialize state (with iniitial state), action list and reward list\n",
    "    state_list = [state_vector]\n",
    "    action_list = []\n",
    "    reward_list = []\n",
    "\n",
    "    # generate an episode\n",
    "    for i in range(steps):\n",
    "\n",
    "        # pick an action based on categorical distribution in policy\n",
    "        action_index = int(np.random.choice(action_count, 1, p=policy[grid.states.index(state_vector)])) \n",
    "        action_vector = actions[action_index] # convert the integer index (ie. 0) to action (ie. [-1, 0])\n",
    "\n",
    "        # get new state and reward after taking action from current state\n",
    "        new_state_vector, reward = grid.transition_reward(state_vector, action_vector)\n",
    "        state_vector = list(new_state_vector)\n",
    "\n",
    "        # save state, action chosen and reward to list\n",
    "        state_list.append(state_vector)\n",
    "        action_list.append(action_vector)\n",
    "        reward_list.append(reward)\n",
    "        \n",
    "    return state_list, action_list, reward_list"
   ]
  },
  {
   "cell_type": "markdown",
   "metadata": {},
   "source": [
    "## Q Learning Algorithm "
   ]
  },
  {
   "cell_type": "code",
   "execution_count": 7,
   "metadata": {},
   "outputs": [],
   "source": [
    "# create a grid object\n",
    "grid = Gridworld(5)\n",
    "\n",
    "# initialize q values for all state action pairs\n",
    "Q_values = np.zeros((state_count, action_count))\n",
    "\n",
    "# initialize other parameters\n",
    "gamma = 0.99\n",
    "lr = 0.1\n",
    "epsilon = 0.1\n",
    "\n",
    "# define lists for plots\n",
    "average_reward_list = []\n",
    "cumulative_reward_list = []\n",
    "cumulative_reward = 0\n",
    "delta_list = []\n",
    "episode_test_reward_list = []\n",
    "average_test_reward_list = []"
   ]
  },
  {
   "cell_type": "code",
   "execution_count": 8,
   "metadata": {},
   "outputs": [
    {
     "data": {
      "text/plain": [
       "'Episode: 499'"
      ]
     },
     "metadata": {},
     "output_type": "display_data"
    }
   ],
   "source": [
    "# iterate over 500 episodes\n",
    "\n",
    "episode_length = 500\n",
    "\n",
    "for episode in range(episode_length):\n",
    "\n",
    "    # initialize state (output: [4, 4])\n",
    "    state = grid.initial_state()\n",
    "\n",
    "    reward_list = []\n",
    "    delta = 0\n",
    "    \n",
    "    # iterate over 200 steps within each episode\n",
    "    for step in range(200):\n",
    "\n",
    "        # get state index (output: 24)\n",
    "        state_index = grid.states.index(state)\n",
    "\n",
    "        # choose an action based on epsilon-greedy (output: action index ie. 0)\n",
    "        action_index = choose_action(state_index, epsilon)\n",
    "        action_vector = actions[action_index] # convert action_index (0) to action_vector ([-1, 0])\n",
    "\n",
    "        # get the next state and reward after taking the chosen action in the current state\n",
    "        next_state_vector, reward = grid.transition_reward(state, action_vector)\n",
    "        next_state_index = grid.states.index(list(next_state_vector))\n",
    "\n",
    "        # add reward to list\n",
    "        reward_list.append(reward)\n",
    "        \n",
    "        # calculate max delta change for plotting max q value change\n",
    "        Q_value = Q_values[state_index][action_index] + lr*(reward + gamma*np.max(Q_values[next_state_index])-Q_values[state_index][action_index])\n",
    "        delta = max(delta, np.abs(Q_value - Q_values[state_index][action_index]))   \n",
    "        \n",
    "        # update Q value\n",
    "        Q_values[state_index][action_index] = Q_values[state_index][action_index] + lr*(reward + gamma*np.max(Q_values[next_state_index])-Q_values[state_index][action_index])\n",
    "\n",
    "        # set the next state as the current state\n",
    "        state = list(next_state_vector)\n",
    "    \n",
    "    # append max change in Q value to list\n",
    "    delta_list.append(delta)\n",
    "    \n",
    "    # average rewards\n",
    "    average_reward_list.append(Average(reward_list))\n",
    "    \n",
    "    # add cumulative reward\n",
    "    cumulative_reward = cumulative_reward + sum(reward_list)\n",
    "    cumulative_reward_list.append(cumulative_reward)\n",
    "    \n",
    "    \n",
    "    #TESTING AT THE END OF EPISODE-------------------------------------------------------\n",
    "    # initialize policy\n",
    "    policy = np.zeros((state_count, action_count))\n",
    "    \n",
    "    # Generate Greedy policy based on Q_values after each episode\n",
    "    for state in range(len(Q_values)):\n",
    "        # find the best action at each state\n",
    "        best_action = np.argmax(Q_values[state])\n",
    "        # write deterministic policy based on Q_values\n",
    "        policy[state][best_action] = 1\n",
    "    \n",
    "    # Generate test trajectory with the greedy policy\n",
    "    state_list, action_list, test_reward_list = generate_episode(200)\n",
    "    \n",
    "#     # calculate discounted rewards\n",
    "#     discounted_test_reward_list = []\n",
    "#     for i in range(len(test_reward_list)):\n",
    "#         discounted_test_reward_list.append(test_reward_list[i]*gamma**i) \n",
    "    \n",
    "    # sum up all the rewards obtained during test trajectory and append to list\n",
    "    episode_test_reward_list.append(sum(test_reward_list))\n",
    "    \n",
    "    # print current episode\n",
    "    clear_output(wait=True)\n",
    "    display('Episode: ' + str(episode))"
   ]
  },
  {
   "cell_type": "markdown",
   "metadata": {},
   "source": [
    "## Plots "
   ]
  },
  {
   "cell_type": "code",
   "execution_count": 9,
   "metadata": {},
   "outputs": [],
   "source": [
    "window_length = int(episode_length/20)"
   ]
  },
  {
   "cell_type": "code",
   "execution_count": 10,
   "metadata": {},
   "outputs": [
    {
     "data": {
      "text/plain": [
       "Text(0, 0.5, 'Reward')"
      ]
     },
     "execution_count": 10,
     "metadata": {},
     "output_type": "execute_result"
    },
    {
     "data": {
      "image/png": "[encoded data removed]",
      "text/plain": [
       "<Figure size 432x288 with 1 Axes>"
      ]
     },
     "metadata": {
      "needs_background": "light"
     },
     "output_type": "display_data"
    }
   ],
   "source": [
    "# test reward of each episode, where delta is the change in Q values\n",
    "plt.plot(episode_test_reward_list)\n",
    "plt.title('Test Reward per Episode')\n",
    "plt.xlabel('Episode')\n",
    "plt.ylabel('Reward')"
   ]
  },
  {
   "cell_type": "code",
   "execution_count": 11,
   "metadata": {},
   "outputs": [
    {
     "data": {
      "text/plain": [
       "[<matplotlib.lines.Line2D at 0x7fbbea629eb8>]"
      ]
     },
     "execution_count": 11,
     "metadata": {},
     "output_type": "execute_result"
    },
    {
     "data": {
      "image/png": "[encoded data removed]",
      "text/plain": [
       "<Figure size 432x288 with 1 Axes>"
      ]
     },
     "metadata": {
      "needs_background": "light"
     },
     "output_type": "display_data"
    }
   ],
   "source": [
    "# max delta of each episode, where delta is the change in Q values\n",
    "plt.plot(delta_list)\n",
    "plt.title('Max Delta per Episode during Training')\n",
    "plt.xlabel('Episode')\n",
    "plt.ylabel('Max Delta')\n",
    "\n",
    "# plot moving average\n",
    "delta_frame = pd.DataFrame(delta_list)\n",
    "rolling_mean = delta_frame.rolling(window=window_length).mean()\n",
    "plt.plot(rolling_mean, label='Moving Average', color='orange')"
   ]
  },
  {
   "cell_type": "code",
   "execution_count": 12,
   "metadata": {},
   "outputs": [
    {
     "data": {
      "text/plain": [
       "[<matplotlib.lines.Line2D at 0x7fbbea583c18>]"
      ]
     },
     "execution_count": 12,
     "metadata": {},
     "output_type": "execute_result"
    },
    {
     "data": {
      "image/png": "[encoded data removed]",
      "text/plain": [
       "<Figure size 432x288 with 1 Axes>"
      ]
     },
     "metadata": {
      "needs_background": "light"
     },
     "output_type": "display_data"
    }
   ],
   "source": [
    "# average reward per episode\n",
    "plt.plot(average_reward_list)\n",
    "plt.title('Average Reward per Episode during Training')\n",
    "plt.xlabel('Episode')\n",
    "plt.ylabel('Average Reward')\n",
    "\n",
    "# plot moving average\n",
    "reward_frame = pd.DataFrame(average_reward_list)\n",
    "rolling_mean = reward_frame.rolling(window=window_length).mean()\n",
    "plt.plot(rolling_mean, label='Moving Average', color='orange')"
   ]
  },
  {
   "cell_type": "code",
   "execution_count": 13,
   "metadata": {},
   "outputs": [
    {
     "data": {
      "text/plain": [
       "Text(0, 0.5, 'Cumulative Reward')"
      ]
     },
     "execution_count": 13,
     "metadata": {},
     "output_type": "execute_result"
    },
    {
     "data": {
      "image/png": "[encoded data removed]",
      "text/plain": [
       "<Figure size 432x288 with 1 Axes>"
      ]
     },
     "metadata": {
      "needs_background": "light"
     },
     "output_type": "display_data"
    }
   ],
   "source": [
    "# cumulative reward per episode\n",
    "plt.plot(cumulative_reward_list)\n",
    "plt.title('Cumulative Reward per Episode during Training')\n",
    "plt.xlabel('Episode')\n",
    "plt.ylabel('Cumulative Reward')"
   ]
  },
  {
   "cell_type": "code",
   "execution_count": 14,
   "metadata": {
    "scrolled": true
   },
   "outputs": [
    {
     "data": {
      "text/plain": [
       "array([[-1.0000e-01,  5.9201e+00,  0.0000e+00, -1.0000e-01],\n",
       "       [ 0.0000e+00,  3.1783e+00,  7.5448e+00,  2.7489e+01],\n",
       "       [ 0.0000e+00,  1.6849e+01,  1.5817e+02,  3.2678e+00],\n",
       "       [ 1.6834e+02,  1.6834e+02,  1.6834e+02,  1.6834e+02],\n",
       "       [ 1.6383e+02,  1.6394e+02,  1.6332e+02,  1.6666e+02],\n",
       "       [ 1.0475e+00,  0.0000e+00,  0.0000e+00, -2.0029e-01],\n",
       "       [ 3.5053e+00,  1.6187e+02,  0.0000e+00,  1.4883e-01],\n",
       "       [ 1.4279e+02,  1.6499e+02,  1.6171e+02,  1.4593e+02],\n",
       "       [ 1.6666e+02,  1.6334e+02,  1.6334e+02,  1.6334e+02],\n",
       "       [ 1.6499e+02,  1.6234e+02,  1.6165e+02,  1.6492e+02],\n",
       "       [ 1.2323e-02,  0.0000e+00,  0.0000e+00, -1.0000e-01],\n",
       "       [ 1.5419e+02,  4.3752e+01,  2.7583e+01,  5.2833e-04],\n",
       "       [ 1.6189e+02,  1.6334e+02,  1.5890e+02,  1.4005e+02],\n",
       "       [ 1.6499e+02,  1.6171e+02,  1.6171e+02,  1.6171e+02],\n",
       "       [ 1.6334e+02,  1.6040e+02,  1.5934e+02,  1.6300e+02],\n",
       "       [ 0.0000e+00,  0.0000e+00,  0.0000e+00, -1.0000e-01],\n",
       "       [ 8.5265e+00,  1.3397e+02,  0.0000e+00,  0.0000e+00],\n",
       "       [ 1.6171e+02,  2.7064e+01,  1.7784e+00,  1.7527e+01],\n",
       "       [ 1.6334e+02,  1.5506e+02,  1.3894e+02,  1.5880e+02],\n",
       "       [ 1.6171e+02,  1.3236e+02,  1.2081e+02,  1.3731e+02],\n",
       "       [ 0.0000e+00,  0.0000e+00,  0.0000e+00, -1.0000e-01],\n",
       "       [ 6.8574e+01,  0.0000e+00, -2.7100e-01,  0.0000e+00],\n",
       "       [ 5.4364e+01,  0.0000e+00,  0.0000e+00,  0.0000e+00],\n",
       "       [ 1.5790e+02,  4.2268e+01,  1.3782e+01,  6.8655e+00],\n",
       "       [ 1.6009e+02,  1.3369e+02,  1.2208e+02,  7.9143e+01]])"
      ]
     },
     "execution_count": 14,
     "metadata": {},
     "output_type": "execute_result"
    }
   ],
   "source": [
    "np.set_printoptions(precision=4)\n",
    "Q_values"
   ]
  },
  {
   "cell_type": "markdown",
   "metadata": {},
   "source": [
    "## Visualize Final Policy "
   ]
  },
  {
   "cell_type": "code",
   "execution_count": 15,
   "metadata": {},
   "outputs": [
    {
     "name": "stdout",
     "output_type": "stream",
     "text": [
      "Policy Table: \n",
      "       0      1      2      3     4\n",
      "0  right   left   down  right  left\n",
      "1     up  right  right     up    up\n",
      "2     up     up  right     up    up\n",
      "3     up  right     up     up    up\n",
      "4     up     up     up     up    up\n",
      "\n"
     ]
    }
   ],
   "source": [
    "# PRINT POLICY TABLE ################################################################################\n",
    "# define column and index\n",
    "columns=range(grid.size)\n",
    "index = range(grid.size)\n",
    "# define dataframe to represent policy table\n",
    "policy_table = pd.DataFrame(index = index, columns=columns)\n",
    "\n",
    "# iterate through policy to make a table that represents action number\n",
    "# as action name (eg. left, right, up, down)\n",
    "for state in range(len(Q_values)):\n",
    "    \n",
    "    # find the best action at each state\n",
    "    best_action = np.argmax(Q_values[state])\n",
    "\n",
    "    # if Q_values is all zero, randomly pick an action\n",
    "    if np.count_nonzero(Q_values[state]) == 0:\n",
    "        best_action = random.randint(0,3)\n",
    "    \n",
    "    # get action name\n",
    "    if best_action == 0:\n",
    "        action_name = 'up'\n",
    "    elif best_action == 1:\n",
    "        action_name = 'right'\n",
    "    elif best_action == 2:\n",
    "        action_name = 'down'\n",
    "    else:\n",
    "        action_name = 'left'\n",
    "\n",
    "    # calculate the row and column coordinate of the current state number\n",
    "    row = int(state/grid.size)\n",
    "    column = round((state/grid.size - int(state/grid.size))*grid.size)\n",
    "            \n",
    "    # assign action name\n",
    "    policy_table.loc[row][column] = action_name\n",
    "\n",
    "print(\"Policy Table: \")\n",
    "print(policy_table)\n",
    "print()"
   ]
  },
  {
   "cell_type": "code",
   "execution_count": 16,
   "metadata": {},
   "outputs": [
    {
     "data": {
      "text/html": [
       "<div>\n",
       "<style scoped>\n",
       "    .dataframe tbody tr th:only-of-type {\n",
       "        vertical-align: middle;\n",
       "    }\n",
       "\n",
       "    .dataframe tbody tr th {\n",
       "        vertical-align: top;\n",
       "    }\n",
       "\n",
       "    .dataframe thead th {\n",
       "        text-align: right;\n",
       "    }\n",
       "</style>\n",
       "<table border=\"1\" class=\"dataframe\">\n",
       "  <thead>\n",
       "    <tr style=\"text-align: right;\">\n",
       "      <th></th>\n",
       "      <th>0</th>\n",
       "      <th>1</th>\n",
       "      <th>2</th>\n",
       "      <th>3</th>\n",
       "      <th>4</th>\n",
       "    </tr>\n",
       "  </thead>\n",
       "  <tbody>\n",
       "    <tr>\n",
       "      <th>0</th>\n",
       "      <td>right</td>\n",
       "      <td>left</td>\n",
       "      <td>down</td>\n",
       "      <td>right</td>\n",
       "      <td>left</td>\n",
       "    </tr>\n",
       "    <tr>\n",
       "      <th>1</th>\n",
       "      <td>up</td>\n",
       "      <td>right</td>\n",
       "      <td>right</td>\n",
       "      <td>up</td>\n",
       "      <td>up</td>\n",
       "    </tr>\n",
       "    <tr>\n",
       "      <th>2</th>\n",
       "      <td>up</td>\n",
       "      <td>up</td>\n",
       "      <td>right</td>\n",
       "      <td>up</td>\n",
       "      <td>up</td>\n",
       "    </tr>\n",
       "    <tr>\n",
       "      <th>3</th>\n",
       "      <td>up</td>\n",
       "      <td>right</td>\n",
       "      <td>up</td>\n",
       "      <td>up</td>\n",
       "      <td>up</td>\n",
       "    </tr>\n",
       "    <tr>\n",
       "      <th>4</th>\n",
       "      <td>up</td>\n",
       "      <td>up</td>\n",
       "      <td>up</td>\n",
       "      <td>up</td>\n",
       "      <td>up</td>\n",
       "    </tr>\n",
       "  </tbody>\n",
       "</table>\n",
       "</div>"
      ],
      "text/plain": [
       "       0      1      2      3     4\n",
       "0  right   left   down  right  left\n",
       "1     up  right  right     up    up\n",
       "2     up     up  right     up    up\n",
       "3     up  right     up     up    up\n",
       "4     up     up     up     up    up"
      ]
     },
     "execution_count": 16,
     "metadata": {},
     "output_type": "execute_result"
    }
   ],
   "source": [
    "policy_table"
   ]
  }
 ],
 "metadata": {
  "kernelspec": {
   "display_name": "Python 3",
   "language": "python",
   "name": "python3"
  },
  "language_info": {
   "codemirror_mode": {
    "name": "ipython",
    "version": 3
   },
   "file_extension": ".py",
   "mimetype": "text/x-python",
   "name": "python",
   "nbconvert_exporter": "python",
   "pygments_lexer": "ipython3",
   "version": "3.5.2"
  }
 },
 "nbformat": 4,
 "nbformat_minor": 4
}
