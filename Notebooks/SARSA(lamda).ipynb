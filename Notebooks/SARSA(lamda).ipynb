{
 "cells": [
  {
   "cell_type": "markdown",
   "metadata": {},
   "source": [
    "# SARSA(lambda)"
   ]
  },
  {
   "cell_type": "code",
   "execution_count": 1,
   "metadata": {},
   "outputs": [],
   "source": [
    "# Find the value function of policy\n",
    "import numpy as np\n",
    "import matplotlib.pyplot as plt\n",
    "# display output\n",
    "import random\n",
    "from random import uniform\n",
    "import time\n",
    "from IPython.display import display, clear_output"
   ]
  },
  {
   "cell_type": "code",
   "execution_count": 2,
   "metadata": {},
   "outputs": [],
   "source": [
    "actions = [[-1, 0], [0, 1], [1, 0], [0, -1]] #up, right, down, left = (clockwise from up) \n",
    "action_count = len(actions) # total number of actions\n",
    "gridSize = 5 # create a square grid of gridSize by gridSize\n",
    "state_count = gridSize*gridSize # total number of states"
   ]
  },
  {
   "cell_type": "code",
   "execution_count": 3,
   "metadata": {},
   "outputs": [],
   "source": [
    "class Gridworld():\n",
    "    def __init__(self, gridSize):\n",
    "        self.valueMap = np.zeros((gridSize, gridSize))\n",
    "        self.states = [[i, j] for i in range(gridSize) for j in range(gridSize)]\n",
    "        self.size = gridSize\n",
    "        self.new_pos = [0, 0] # initialize new position for p_transition\n",
    "        self.transition_prob = 1 # deterministic\n",
    "    \n",
    "    def initial_state(self):        # return initial state\n",
    "        return grid.states[gridSize*gridSize-1]\n",
    "   \n",
    "    def transition_reward(self, current_pos, action): # return the transition probability\n",
    "\n",
    "        # get next position: state: [0, 0], action: [0, 1], new_state = [0, 1]\n",
    "        self.new_pos = np.array(current_pos) + np.array(action)\n",
    "\n",
    "        # normally, reward = 0\n",
    "        reward = 0\n",
    "\n",
    "        # if new pos results in off the grid, return reward -1\n",
    "        if -1 in self.new_pos or self.size in self.new_pos:\n",
    "            reward = -1\n",
    "        # if in state A, receive + 10\n",
    "        if current_pos == [0, 1]:\n",
    "            reward = 10\n",
    "        # if in state B, receive + 5\n",
    "        if current_pos == [0, 3]:\n",
    "            reward = 5\n",
    "\n",
    "        # if taking an action crosses the border; agent's new_pos is the same as the current pos\n",
    "        if -1 in self.new_pos or self.size in self.new_pos: \n",
    "            self.new_pos = current_pos\n",
    "            \n",
    "        # if in state A, transition to state A'\n",
    "        if current_pos == [0, 1]:\n",
    "            self.new_pos = [4, 1]\n",
    "            \n",
    "        # if in state B, transition to state B'\n",
    "        if current_pos == [0, 3]:\n",
    "            self.new_pos = [2, 3]\n",
    "\n",
    "        return self.new_pos, reward"
   ]
  },
  {
   "cell_type": "code",
   "execution_count": 4,
   "metadata": {},
   "outputs": [],
   "source": [
    "# create a grid object\n",
    "grid = Gridworld(5)"
   ]
  },
  {
   "cell_type": "code",
   "execution_count": 5,
   "metadata": {},
   "outputs": [
    {
     "data": {
      "text/plain": [
       "[4, 4]"
      ]
     },
     "execution_count": 5,
     "metadata": {},
     "output_type": "execute_result"
    }
   ],
   "source": [
    "# get initial state (bottom right)\n",
    "grid.initial_state()"
   ]
  },
  {
   "cell_type": "markdown",
   "metadata": {},
   "source": [
    "### SARSA(Lamda)"
   ]
  },
  {
   "cell_type": "code",
   "execution_count": 6,
   "metadata": {},
   "outputs": [
    {
     "data": {
      "text/plain": [
       "array([[796, 815, 668, 885],\n",
       "       [665, 184, 125, 691],\n",
       "       [784, 174,  53, 311],\n",
       "       [401, 280, 467, 752],\n",
       "       [ 19,  38, 900, 594],\n",
       "       [834, 237, 552, 378],\n",
       "       [582, 509, 946, 896],\n",
       "       [148, 216, 807, 294],\n",
       "       [224, 965, 973, 790],\n",
       "       [ 26, 905, 396, 555],\n",
       "       [566, 169, 165,  78],\n",
       "       [ 89, 689, 478, 688],\n",
       "       [293, 479, 351, 606],\n",
       "       [746,  58,   4, 138],\n",
       "       [997, 923, 504, 484],\n",
       "       [137, 170, 875,   6],\n",
       "       [918, 586,  18,  16],\n",
       "       [746,  67, 334, 408],\n",
       "       [565, 452, 484, 401],\n",
       "       [178, 433, 951, 672],\n",
       "       [ 44, 897, 145, 208],\n",
       "       [426,  47, 400, 712],\n",
       "       [435, 160, 861, 328],\n",
       "       [840, 527, 582, 739],\n",
       "       [ 82, 187, 463, 422]])"
      ]
     },
     "execution_count": 6,
     "metadata": {},
     "output_type": "execute_result"
    }
   ],
   "source": [
    "# initialize q values for all state action pairs\n",
    "Q_values = np.random.randint(0,1000,size = (state_count, action_count))\n",
    "Q_values"
   ]
  },
  {
   "cell_type": "code",
   "execution_count": 7,
   "metadata": {},
   "outputs": [],
   "source": [
    "# intialize parameters\n",
    "gamma = 0.99\n",
    "epsilon = 0.1\n",
    "lamda = 0.9\n",
    "alpha = 0.1"
   ]
  },
  {
   "cell_type": "code",
   "execution_count": 8,
   "metadata": {},
   "outputs": [],
   "source": [
    "# iterate 500 times: each time, generating an episode of 200 steps\n",
    "max_steps = 200\n",
    "\n",
    "# define variables for keeping track of time steps\n",
    "Terminal = max_steps\n",
    "t_list=[]\n",
    "for i in range(1,max_steps+1):\n",
    "    t = Terminal - i\n",
    "    t_list.append(t)"
   ]
  },
  {
   "cell_type": "code",
   "execution_count": 9,
   "metadata": {},
   "outputs": [],
   "source": [
    "def choose_action(state, epsilon):\n",
    "    \n",
    "    # choose an action type: explore or exploit\n",
    "    action_type = int(np.random.choice(2, 1, p=[epsilon,1-epsilon]))\n",
    "\n",
    "    # find best action based on Q values\n",
    "    best_action_index = np.argmax(Q_values[state])\n",
    "\n",
    "    # pick a random action\n",
    "    random_action_index = random.choice(range(4))\n",
    "\n",
    "    # choose an action based on exploit or explore\n",
    "    if action_type == 0:\n",
    "        \n",
    "        # while random action is the same as the best action, pick a new action\n",
    "        while random_action_index == best_action_index:\n",
    "            random_action_index = random.choice(range(4))\n",
    "        \n",
    "        # explore\n",
    "        # print(\"explore\")\n",
    "        action_index = random_action_index\n",
    "    else:\n",
    "        # exploit\n",
    "        # print(\"exploit\")\n",
    "        action_index = best_action_index\n",
    "        \n",
    "    return action_index"
   ]
  },
  {
   "cell_type": "code",
   "execution_count": 10,
   "metadata": {},
   "outputs": [],
   "source": [
    "# initialize q values for all state action pairs\n",
    "Q_values = np.zeros((state_count, action_count))"
   ]
  },
  {
   "cell_type": "code",
   "execution_count": 11,
   "metadata": {},
   "outputs": [],
   "source": [
    "# define average function\n",
    "def Average(lst): \n",
    "    return sum(lst) / len(lst) "
   ]
  },
  {
   "cell_type": "code",
   "execution_count": 12,
   "metadata": {},
   "outputs": [],
   "source": [
    "average_reward_list = []\n",
    "cumulative_reward_list = []\n",
    "cumulative_reward = 0\n",
    "delta_list = []\n",
    "\n",
    "# iteration 500 times\n",
    "for iteration in range(500):\n",
    "    \n",
    "    # initialize delta\n",
    "    delta_ = 0\n",
    "    \n",
    "    # delta for change in Q values\n",
    "    delta = 0\n",
    "    \n",
    "    # initialize S,A (? should i choose an Action using epsilon-greedy here or just select an Action?)\n",
    "    state_vector = grid.initial_state()\n",
    "    state_index = grid.states.index(state_vector)\n",
    "    \n",
    "    # initialize  eligibility traces for all state action pairs of all states to 0\n",
    "    z_values = np.zeros((state_count, action_count))\n",
    "    \n",
    "    action_index = choose_action(state_index, epsilon)\n",
    "    action_vector = actions[action_index]\n",
    "    \n",
    "    reward_list = []\n",
    "    \n",
    "    # iteration 200 steps of the episode\n",
    "    for i in range(max_steps):\n",
    "\n",
    "        # Take action A, oberserve R, S'\n",
    "        next_state_vector, reward = grid.transition_reward(state_vector, action_vector)\n",
    "        next_state_index = grid.states.index(list(next_state_vector))\n",
    "        \n",
    "        reward_list.append(reward)\n",
    "\n",
    "        # Choose A' from S' using policy derived from Q (eg. epsilon-greedy)\n",
    "        next_action_index = choose_action(next_state_index, epsilon)\n",
    "        next_action_vector = actions[next_action_index]\n",
    "\n",
    "        # update the action-value form of the TD error\n",
    "        delta_ = reward + gamma*Q_values[next_state_index][next_action_index] - Q_values[state_index][action_index]\n",
    "        \n",
    "        # accumulate traces (? big S and big A?)\n",
    "        z_values[state_index][action_index] +=1\n",
    "        \n",
    "        # calculate max Q_value change for plotting max delta\n",
    "        Q_value = Q_values[state_index][action_index] + alpha*delta_*z_values[state_index][action_index]\n",
    "        delta = max(delta, np.abs(Q_value - Q_values[state_index][action_index]))   \n",
    "        \n",
    "        # update Q value\n",
    "        Q_values[state_index][action_index] = Q_values[state_index][action_index] + alpha*delta_*z_values[state_index][action_index]\n",
    "        \n",
    "        # update z value\n",
    "        z_values[state_index][action_index] = gamma*lamda*z_values[state_index][action_index]\n",
    "        \n",
    "        # update state and action vector\n",
    "        state_vector = list(next_state_vector)\n",
    "        state_index = grid.states.index(state_vector)\n",
    "        action_vector = list(next_action_vector)\n",
    "        action_index = next_action_index\n",
    "    \n",
    "    delta_list.append(delta)\n",
    "    \n",
    "    average_reward_list.append(Average(reward_list))\n",
    "    \n",
    "    cumulative_reward = cumulative_reward + sum(reward_list)\n",
    "    cumulative_reward_list.append(cumulative_reward)"
   ]
  },
  {
   "cell_type": "code",
   "execution_count": 13,
   "metadata": {},
   "outputs": [
    {
     "data": {
      "text/plain": [
       "Text(0, 0.5, 'Max Delta')"
      ]
     },
     "execution_count": 13,
     "metadata": {},
     "output_type": "execute_result"
    },
    {
     "data": {
      "image/png": "[encoded data removed]",
      "text/plain": [
       "<Figure size 432x288 with 1 Axes>"
      ]
     },
     "metadata": {
      "needs_background": "light"
     },
     "output_type": "display_data"
    }
   ],
   "source": [
    "# max delta of each episode, where delta is the change in Q values\n",
    "plt.plot(delta_list)\n",
    "plt.title('Max Delta per Episode during Training')\n",
    "plt.xlabel('Episode')\n",
    "plt.ylabel('Max Delta')"
   ]
  },
  {
   "cell_type": "code",
   "execution_count": 14,
   "metadata": {},
   "outputs": [
    {
     "data": {
      "text/plain": [
       "Text(0, 0.5, 'Average Reward')"
      ]
     },
     "execution_count": 14,
     "metadata": {},
     "output_type": "execute_result"
    },
    {
     "data": {
      "image/png": "[encoded data removed]",
      "text/plain": [
       "<Figure size 432x288 with 1 Axes>"
      ]
     },
     "metadata": {
      "needs_background": "light"
     },
     "output_type": "display_data"
    }
   ],
   "source": [
    "# average reward per episode\n",
    "plt.plot(average_reward_list)\n",
    "plt.title('Average Reward per Episode during Training')\n",
    "plt.xlabel('Episode')\n",
    "plt.ylabel('Average Reward')"
   ]
  },
  {
   "cell_type": "code",
   "execution_count": 15,
   "metadata": {},
   "outputs": [
    {
     "data": {
      "text/plain": [
       "Text(0, 0.5, 'Cumulative Reward')"
      ]
     },
     "execution_count": 15,
     "metadata": {},
     "output_type": "execute_result"
    },
    {
     "data": {
      "image/png": "[encoded data removed]",
      "text/plain": [
       "<Figure size 432x288 with 1 Axes>"
      ]
     },
     "metadata": {
      "needs_background": "light"
     },
     "output_type": "display_data"
    }
   ],
   "source": [
    "# cumulative reward per episode\n",
    "plt.plot(cumulative_reward_list)\n",
    "plt.title('Cumulative Reward per Episode during Training')\n",
    "plt.xlabel('Episode')\n",
    "plt.ylabel('Cumulative Reward')"
   ]
  },
  {
   "cell_type": "code",
   "execution_count": 16,
   "metadata": {},
   "outputs": [
    {
     "data": {
      "text/plain": [
       "array([[0.        , 0.        , 0.        , 0.        ],\n",
       "       [0.        , 0.        , 0.        , 0.        ],\n",
       "       [0.        , 0.        , 0.        , 0.        ],\n",
       "       [7.36147152, 0.891     , 7.52901337, 0.891     ],\n",
       "       [0.        , 0.        , 0.        , 0.        ],\n",
       "       [0.        , 0.        , 0.        , 0.        ],\n",
       "       [0.        , 0.        , 0.        , 0.        ],\n",
       "       [0.        , 4.92738258, 0.        , 0.        ],\n",
       "       [8.12337061, 5.28129788, 0.891     , 4.08436728],\n",
       "       [0.        , 0.        , 0.        , 5.28129788],\n",
       "       [0.        , 0.        , 0.        , 0.        ],\n",
       "       [0.        , 0.        , 0.        , 0.        ],\n",
       "       [1.684881  , 3.58402613, 0.891     , 0.        ],\n",
       "       [8.11713873, 4.92738258, 0.        , 4.53017125],\n",
       "       [0.        , 0.        , 0.        , 5.28129788],\n",
       "       [0.        , 0.        , 0.        , 0.        ],\n",
       "       [0.        , 0.        , 0.        , 0.        ],\n",
       "       [0.891     , 0.        , 0.        , 0.        ],\n",
       "       [0.        , 0.        , 0.        , 0.        ],\n",
       "       [0.891     , 0.        , 0.        , 0.        ],\n",
       "       [0.        , 0.        , 0.        , 0.        ],\n",
       "       [0.        , 0.        , 0.        , 0.        ],\n",
       "       [0.        , 0.        , 0.        , 0.        ],\n",
       "       [0.        , 0.        , 0.        , 0.        ],\n",
       "       [0.891     , 0.891     , 0.        , 0.        ]])"
      ]
     },
     "execution_count": 16,
     "metadata": {},
     "output_type": "execute_result"
    }
   ],
   "source": [
    "z_values"
   ]
  },
  {
   "cell_type": "code",
   "execution_count": 17,
   "metadata": {},
   "outputs": [
    {
     "data": {
      "text/plain": [
       "array([[-2.70e-01,  2.25e+01,  0.00e+00,  8.49e-01],\n",
       "       [ 1.84e+01,  1.39e+01,  1.51e+01,  2.42e+01],\n",
       "       [-2.70e-01,  7.84e+01,  2.58e+01,  5.77e+00],\n",
       "       [ 7.64e+01,  7.61e+01,  8.84e+01,  7.74e+01],\n",
       "       [ 2.61e+01,  2.56e+01,  7.12e+01,  2.11e+01],\n",
       "       [ 2.16e+01,  0.00e+00,  0.00e+00, -1.00e-01],\n",
       "       [ 1.73e+01,  7.19e+01,  1.73e+01,  9.10e+00],\n",
       "       [ 6.94e+01,  7.38e+01,  6.92e+01,  6.75e+01],\n",
       "       [ 8.62e+01,  7.77e+01,  7.16e+01,  7.76e+01],\n",
       "       [ 6.49e+01,  7.01e+01,  6.86e+01,  7.76e+01],\n",
       "       [ 1.46e+01,  0.00e+00,  2.03e-02,  0.00e+00],\n",
       "       [ 6.57e+01,  1.68e+01,  1.01e+01,  3.87e+00],\n",
       "       [ 7.10e+01,  7.78e+01,  6.00e+01,  6.01e+01],\n",
       "       [ 8.44e+01,  7.46e+01,  7.04e+01,  7.55e+01],\n",
       "       [ 6.78e+01,  6.71e+01,  6.75e+01,  7.43e+01],\n",
       "       [ 4.46e+00,  0.00e+00,  0.00e+00,  0.00e+00],\n",
       "       [ 4.15e+01,  4.59e+00,  4.88e+00,  7.94e-01],\n",
       "       [ 7.07e+01,  1.32e+01,  1.82e+01,  1.31e+01],\n",
       "       [ 7.72e+01,  6.32e+01,  5.82e+01,  6.31e+01],\n",
       "       [ 7.29e+01,  5.03e+01,  5.25e+01,  6.06e+01],\n",
       "       [ 1.54e-01,  0.00e+00,  0.00e+00,  0.00e+00],\n",
       "       [ 2.49e+01,  5.09e+00,  5.08e+00,  6.23e-03],\n",
       "       [ 4.60e+01,  0.00e+00,  3.92e+00,  2.30e+00],\n",
       "       [ 6.77e+01,  2.58e+01,  0.00e+00,  8.81e+00],\n",
       "       [ 6.82e+01,  4.79e+01,  3.71e+01,  2.64e+01]])"
      ]
     },
     "execution_count": 17,
     "metadata": {},
     "output_type": "execute_result"
    }
   ],
   "source": [
    "np.set_printoptions(precision=2)\n",
    "Q_values"
   ]
  },
  {
   "cell_type": "markdown",
   "metadata": {},
   "source": [
    "## Visualization "
   ]
  },
  {
   "cell_type": "code",
   "execution_count": 18,
   "metadata": {},
   "outputs": [
    {
     "name": "stdout",
     "output_type": "stream",
     "text": [
      "Policy Table: \n",
      "       0      1      2     3     4\n",
      "0  right   left  right  down  down\n",
      "1     up  right  right    up  left\n",
      "2     up     up  right    up  left\n",
      "3     up     up     up    up    up\n",
      "4     up     up     up    up    up\n",
      "\n"
     ]
    }
   ],
   "source": [
    "# PRINT POLICY TABLE ################################################################################\n",
    "# import pandas library\n",
    "import pandas as pd\n",
    "# define column and index\n",
    "columns=range(grid.size)\n",
    "index = range(grid.size)\n",
    "# define dataframe to represent policy table\n",
    "policy_table = pd.DataFrame(index = index, columns=columns)\n",
    "\n",
    "# iterate through policy to make a table that represents action number\n",
    "# as action name (eg. left, right, up, down)\n",
    "for state in range(len(Q_values)):\n",
    "    \n",
    "    # find the best action at each state\n",
    "    best_action = np.argmax(Q_values[state])\n",
    "\n",
    "    # get action name\n",
    "    if best_action == 0:\n",
    "        action_name = 'up'\n",
    "    elif best_action == 1:\n",
    "        action_name = 'right'\n",
    "    elif best_action == 2:\n",
    "        action_name = 'down'\n",
    "    else:\n",
    "        action_name = 'left'\n",
    "\n",
    "    # calculate the row and column coordinate of the current state number\n",
    "    row = int(state/grid.size)\n",
    "    column = round((state/grid.size - int(state/grid.size))*grid.size)\n",
    "            \n",
    "    # assign action name\n",
    "    policy_table.loc[row][column] = action_name\n",
    "\n",
    "print(\"Policy Table: \")\n",
    "print(policy_table)\n",
    "print()"
   ]
  },
  {
   "cell_type": "markdown",
   "metadata": {},
   "source": [
    "## Extract Policy "
   ]
  },
  {
   "cell_type": "code",
   "execution_count": 19,
   "metadata": {},
   "outputs": [],
   "source": [
    "# initialize q values for all state action pairs\n",
    "policy = np.zeros((state_count, action_count))"
   ]
  },
  {
   "cell_type": "code",
   "execution_count": 20,
   "metadata": {},
   "outputs": [],
   "source": [
    "for state in range(len(Q_values)):\n",
    "    \n",
    "    # find the best action at each state\n",
    "    best_action = np.argmax(Q_values[state])\n",
    "    \n",
    "    policy[state][best_action] = 1"
   ]
  },
  {
   "cell_type": "code",
   "execution_count": 21,
   "metadata": {},
   "outputs": [
    {
     "data": {
      "text/plain": [
       "array([[0., 1., 0., 0.],\n",
       "       [0., 0., 0., 1.],\n",
       "       [0., 1., 0., 0.],\n",
       "       [0., 0., 1., 0.],\n",
       "       [0., 0., 1., 0.],\n",
       "       [1., 0., 0., 0.],\n",
       "       [0., 1., 0., 0.],\n",
       "       [0., 1., 0., 0.],\n",
       "       [1., 0., 0., 0.],\n",
       "       [0., 0., 0., 1.],\n",
       "       [1., 0., 0., 0.],\n",
       "       [1., 0., 0., 0.],\n",
       "       [0., 1., 0., 0.],\n",
       "       [1., 0., 0., 0.],\n",
       "       [0., 0., 0., 1.],\n",
       "       [1., 0., 0., 0.],\n",
       "       [1., 0., 0., 0.],\n",
       "       [1., 0., 0., 0.],\n",
       "       [1., 0., 0., 0.],\n",
       "       [1., 0., 0., 0.],\n",
       "       [1., 0., 0., 0.],\n",
       "       [1., 0., 0., 0.],\n",
       "       [1., 0., 0., 0.],\n",
       "       [1., 0., 0., 0.],\n",
       "       [1., 0., 0., 0.]])"
      ]
     },
     "execution_count": 21,
     "metadata": {},
     "output_type": "execute_result"
    }
   ],
   "source": [
    "policy"
   ]
  },
  {
   "cell_type": "markdown",
   "metadata": {},
   "source": [
    "## Testing "
   ]
  },
  {
   "cell_type": "code",
   "execution_count": 22,
   "metadata": {},
   "outputs": [],
   "source": [
    "def generate_episode(steps):\n",
    "\n",
    "    # set initial state\n",
    "    state_vector = grid.initial_state()\n",
    "\n",
    "    # initialize state (with iniitial state), action list and reward list\n",
    "    state_list = [state_vector]\n",
    "    action_list = []\n",
    "    reward_list = []\n",
    "\n",
    "    # generate an episode\n",
    "    for i in range(steps):\n",
    "\n",
    "        # pick an action based on categorical distribution in policy\n",
    "        action_index = int(np.random.choice(action_count, 1, p=policy[grid.states.index(state_vector)])) \n",
    "        action_vector = actions[action_index] # convert the integer index (ie. 0) to action (ie. [-1, 0])\n",
    "\n",
    "        # get new state and reward after taking action from current state\n",
    "        new_state_vector, reward = grid.transition_reward(state_vector, action_vector)\n",
    "        state_vector = list(new_state_vector)\n",
    "\n",
    "        # save state, action chosen and reward to list\n",
    "        state_list.append(state_vector)\n",
    "        action_list.append(action_vector)\n",
    "        reward_list.append(reward)\n",
    "        \n",
    "    return state_list, action_list, reward_list"
   ]
  },
  {
   "cell_type": "code",
   "execution_count": 23,
   "metadata": {},
   "outputs": [],
   "source": [
    "avg_test_reward_list = []\n",
    "\n",
    "# using the trained policy, generate 20 episodes\n",
    "for test in range(20):\n",
    "    \n",
    "    # generate an episode of specified step count\n",
    "    state_list, action_list, reward_list = generate_episode(200)\n",
    "    \n",
    "    avg_test_reward_list.append(Average(reward_list))"
   ]
  },
  {
   "cell_type": "code",
   "execution_count": 24,
   "metadata": {},
   "outputs": [
    {
     "data": {
      "text/plain": [
       "Text(0, 0.5, 'Average Reward')"
      ]
     },
     "execution_count": 24,
     "metadata": {},
     "output_type": "execute_result"
    },
    {
     "data": {
      "image/png": "[encoded data removed]",
      "text/plain": [
       "<Figure size 432x288 with 1 Axes>"
      ]
     },
     "metadata": {
      "needs_background": "light"
     },
     "output_type": "display_data"
    }
   ],
   "source": [
    "# average reward per episode\n",
    "plt.plot(avg_test_reward_list)\n",
    "plt.title('Average Reward per Episode during Testing')\n",
    "plt.xlabel('Episode')\n",
    "plt.ylabel('Average Reward')"
   ]
  }
 ],
 "metadata": {
  "kernelspec": {
   "display_name": "Python 3",
   "language": "python",
   "name": "python3"
  },
  "language_info": {
   "codemirror_mode": {
    "name": "ipython",
    "version": 3
   },
   "file_extension": ".py",
   "mimetype": "text/x-python",
   "name": "python",
   "nbconvert_exporter": "python",
   "pygments_lexer": "ipython3",
   "version": "3.5.2"
  }
 },
 "nbformat": 4,
 "nbformat_minor": 4
}
