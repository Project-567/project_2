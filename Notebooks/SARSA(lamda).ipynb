{
 "cells": [
  {
   "cell_type": "markdown",
   "metadata": {},
   "source": [
    "# Gridworld"
   ]
  },
  {
   "cell_type": "code",
   "execution_count": 1,
   "metadata": {},
   "outputs": [],
   "source": [
    "# Find the value function of policy\n",
    "import numpy as np\n",
    "\n",
    "# display output\n",
    "from random import uniform\n",
    "import time\n",
    "from IPython.display import display, clear_output"
   ]
  },
  {
   "cell_type": "code",
   "execution_count": 2,
   "metadata": {},
   "outputs": [],
   "source": [
    "actions = [[-1, 0], [0, 1], [1, 0], [0, -1]] #up, right, down, left = (clockwise from up) \n",
    "action_count = len(actions) # total number of actions\n",
    "gridSize = 5 # create a square grid of gridSize by gridSize\n",
    "state_count = gridSize*gridSize # total number of states"
   ]
  },
  {
   "cell_type": "code",
   "execution_count": 3,
   "metadata": {},
   "outputs": [],
   "source": [
    "class Gridworld():\n",
    "    def __init__(self, gridSize):\n",
    "        self.valueMap = np.zeros((gridSize, gridSize))\n",
    "        self.states = [[i, j] for i in range(gridSize) for j in range(gridSize)]\n",
    "        self.size = gridSize\n",
    "        self.new_pos = [0, 0] # initialize new position for p_transition\n",
    "        self.transition_prob = 1 # deterministic\n",
    "    \n",
    "    def initial_state(self):        # return initial state\n",
    "        return grid.states[gridSize*gridSize-1] # ? self.states\n",
    "   \n",
    "    def transition_reward(self, current_pos, action): # return the transition probability\n",
    "\n",
    "        # get next position: state: [0, 0], action: [0, 1], new_state = [0, 1]\n",
    "        self.new_pos = np.array(current_pos) + np.array(action)\n",
    "\n",
    "        # normally, reward = 0\n",
    "        reward = 0\n",
    "\n",
    "        # if new pos results in off the grid, return reward -1\n",
    "        if -1 in self.new_pos or self.size in self.new_pos:\n",
    "            reward = -1\n",
    "        # if in state A, receive + 10\n",
    "        if current_pos == [0, 1]:\n",
    "            reward = 10\n",
    "        # if in state B, receive + 5\n",
    "        if current_pos == [0, 3]:\n",
    "            reward = 5\n",
    "\n",
    "        # if taking an action crosses the border; agent's new_pos is the same as the current pos\n",
    "        if -1 in self.new_pos or self.size in self.new_pos: \n",
    "            self.new_pos = current_pos\n",
    "            \n",
    "        # if in state A, transition to state A'\n",
    "        if current_pos == [0, 1]:\n",
    "            self.new_pos = [4, 1]\n",
    "            \n",
    "        # if in state B, transition to state B'\n",
    "        if current_pos == [0, 3]:\n",
    "            self.new_pos = [2, 3]\n",
    "\n",
    "        return self.new_pos, reward"
   ]
  },
  {
   "cell_type": "code",
   "execution_count": 4,
   "metadata": {},
   "outputs": [],
   "source": [
    "# create a grid object\n",
    "grid = Gridworld(5)"
   ]
  },
  {
   "cell_type": "code",
   "execution_count": 5,
   "metadata": {},
   "outputs": [
    {
     "data": {
      "text/plain": [
       "[4, 4]"
      ]
     },
     "execution_count": 5,
     "metadata": {},
     "output_type": "execute_result"
    }
   ],
   "source": [
    "# get initial state (bottom right)\n",
    "grid.initial_state()"
   ]
  },
  {
   "cell_type": "markdown",
   "metadata": {},
   "source": [
    "Initialize a random policy"
   ]
  },
  {
   "cell_type": "code",
   "execution_count": 6,
   "metadata": {},
   "outputs": [],
   "source": [
    "# Initiate a random policy\n",
    "random_policy = np.random.randint(1000, size=(state_count, action_count))\n",
    "random_policy = random_policy/random_policy.sum(axis=1)[:,None]\n",
    "policy = random_policy"
   ]
  },
  {
   "cell_type": "code",
   "execution_count": 7,
   "metadata": {},
   "outputs": [
    {
     "data": {
      "text/plain": [
       "array([[0.28571429, 0.34325397, 0.20337302, 0.16765873],\n",
       "       [0.71367521, 0.04188034, 0.21623932, 0.02820513],\n",
       "       [0.52989935, 0.22439313, 0.15748964, 0.08821788],\n",
       "       [0.43598972, 0.33470437, 0.18200514, 0.04730077],\n",
       "       [0.29850142, 0.30376671, 0.3799109 , 0.01782098],\n",
       "       [0.32075472, 0.03054807, 0.56693621, 0.08176101],\n",
       "       [0.37383635, 0.23272905, 0.27143557, 0.12199902],\n",
       "       [0.14667941, 0.27806976, 0.23076923, 0.34448161],\n",
       "       [0.30411449, 0.1842576 , 0.16744186, 0.34418605],\n",
       "       [0.25082978, 0.26126126, 0.46277857, 0.02513039],\n",
       "       [0.33826248, 0.18558226, 0.12791128, 0.34824399],\n",
       "       [0.37379868, 0.30197269, 0.19018715, 0.13404148],\n",
       "       [0.41270509, 0.31131679, 0.16323096, 0.11274716],\n",
       "       [0.44218316, 0.34273821, 0.11979648, 0.09528215],\n",
       "       [0.06121045, 0.42365887, 0.50343879, 0.01169188],\n",
       "       [0.37399747, 0.06922752, 0.26973407, 0.28704095],\n",
       "       [0.08014862, 0.38163482, 0.16613588, 0.37208068],\n",
       "       [0.0212766 , 0.22727273, 0.48742747, 0.26402321],\n",
       "       [0.02183174, 0.28753994, 0.21618743, 0.47444089],\n",
       "       [0.33603491, 0.26995012, 0.04488778, 0.34912718],\n",
       "       [0.28003573, 0.02411791, 0.41804377, 0.27780259],\n",
       "       [0.02141582, 0.53777513, 0.37834622, 0.06246282],\n",
       "       [0.45914845, 0.1127733 , 0.141542  , 0.28653625],\n",
       "       [0.4058193 , 0.13425217, 0.34558448, 0.11434405],\n",
       "       [0.0391198 , 0.3602282 , 0.29706601, 0.30358598]])"
      ]
     },
     "execution_count": 7,
     "metadata": {},
     "output_type": "execute_result"
    }
   ],
   "source": [
    "# random policy\n",
    "policy"
   ]
  },
  {
   "cell_type": "markdown",
   "metadata": {},
   "source": [
    "### Create an Episode following policy"
   ]
  },
  {
   "cell_type": "code",
   "execution_count": 8,
   "metadata": {},
   "outputs": [],
   "source": [
    "def generate_episode(steps):\n",
    "\n",
    "    # set initial state\n",
    "    state = grid.initial_state()\n",
    "\n",
    "    # initialize state (with iniitial state), action list and reward list\n",
    "    state_list = [state]\n",
    "    action_list = []\n",
    "    reward_list = []\n",
    "\n",
    "    # generate an episode\n",
    "    for i in range(steps):\n",
    "\n",
    "        # pick an action based on categorical distribution in policy\n",
    "        action = int(np.random.choice(action_count, 1, p=policy[grid.states.index(state)])) # get index in int\n",
    "        action = actions[action] # convert the integer index (ie. 0) to action (ie. [-1, 0])\n",
    "\n",
    "        # get reward (integer value)\n",
    "        reward = grid.reward(state, action)\n",
    "\n",
    "        # get the new state with the chosen action\n",
    "        new_state = list(grid.p_transition(state, action)) # (ie. [1,0])\n",
    "        state = new_state # set the next state as the current state\n",
    "\n",
    "        # save state, action chosen and reward to list\n",
    "        state_list.append(state)\n",
    "        action_list.append(action)\n",
    "        reward_list.append(reward)\n",
    "        \n",
    "    return state_list, action_list, reward_list"
   ]
  },
  {
   "cell_type": "markdown",
   "metadata": {},
   "source": [
    "### SARSA(Lamda)"
   ]
  },
  {
   "cell_type": "code",
   "execution_count": 9,
   "metadata": {},
   "outputs": [
    {
     "data": {
      "text/plain": [
       "array([[  4,  88, 727,  28],\n",
       "       [568, 664, 725, 219],\n",
       "       [451, 519, 517, 494],\n",
       "       [378, 854, 118, 563],\n",
       "       [682, 610,  58, 184],\n",
       "       [285, 232, 476,  58],\n",
       "       [231, 132, 267,  18],\n",
       "       [499, 751, 621, 732],\n",
       "       [964, 649, 746, 329],\n",
       "       [581, 128, 639, 451],\n",
       "       [617, 131,  76, 556],\n",
       "       [988,  56,  36, 853],\n",
       "       [762, 284, 314, 380],\n",
       "       [507, 256, 962, 938],\n",
       "       [575, 407, 330, 936],\n",
       "       [506, 574, 880, 246],\n",
       "       [888, 161, 577, 324],\n",
       "       [658, 810, 352, 636],\n",
       "       [334, 182, 822, 520],\n",
       "       [140, 130, 459,  97],\n",
       "       [839,  99, 176, 376],\n",
       "       [983, 562, 287, 829],\n",
       "       [880, 590, 614, 949],\n",
       "       [238, 586, 967, 201],\n",
       "       [769, 543, 989,  66]])"
      ]
     },
     "execution_count": 9,
     "metadata": {},
     "output_type": "execute_result"
    }
   ],
   "source": [
    "# initialize q values for all state action pairs\n",
    "Q_values = np.random.randint(0,1000,size = (state_count, action_count))\n",
    "Q_values"
   ]
  },
  {
   "cell_type": "code",
   "execution_count": 10,
   "metadata": {},
   "outputs": [],
   "source": [
    "# intialize parameters\n",
    "gamma = 0.99\n",
    "epsilon = 0.2\n",
    "lamda = 0.9\n",
    "alpha = 0.1"
   ]
  },
  {
   "cell_type": "code",
   "execution_count": 11,
   "metadata": {},
   "outputs": [],
   "source": [
    "# iterate 500 times: each time, generating an episode of 200 steps\n",
    "max_steps = 200\n",
    "\n",
    "# define variables for keeping track of time steps\n",
    "Terminal = max_steps\n",
    "t_list=[]\n",
    "for i in range(1,max_steps+1):\n",
    "    t = Terminal - i\n",
    "    t_list.append(t)"
   ]
  },
  {
   "cell_type": "code",
   "execution_count": 12,
   "metadata": {},
   "outputs": [],
   "source": [
    "def choose_action(state, epsilon):\n",
    "    \n",
    "    # choose an action type: explore or exploit\n",
    "    #action_type = int(np.random.choice(2, 1, p=[epsilon,1-epsilon]))\n",
    "    action_type = int(np.random.choice(2, 1, p=[(len(actions)-1)*(epsilon/len(actions)),1-(len(actions)-1)*(epsilon/len(actions))]))\n",
    "\n",
    "    # find best action based on Q values\n",
    "    best_action_index = np.argmax(Q_values[state])\n",
    "\n",
    "    # choose an action based on exploit or explore\n",
    "    if action_type == 0:\n",
    "        # explore\n",
    "        # print(\"explore\")\n",
    "        \n",
    "        # pick a random action\n",
    "        random_action_index = np.random.choice(range(4))\n",
    "        \n",
    "        # while random action is the same as the best action, pick a new action\n",
    "        while random_action_index == best_action_index:\n",
    "            random_action_index = np.random.choice(range(4))\n",
    "        \n",
    "        action_index = random_action_index\n",
    "    else:\n",
    "        # exploit\n",
    "        # print(\"exploit\")\n",
    "        action_index = best_action_index\n",
    "        \n",
    "    return action_index"
   ]
  },
  {
   "cell_type": "code",
   "execution_count": 13,
   "metadata": {},
   "outputs": [],
   "source": [
    "#action_type = int(np.random.choice(2, 1, p=[epsilon,1-epsilon]))\n",
    "#action_type"
   ]
  },
  {
   "cell_type": "code",
   "execution_count": 14,
   "metadata": {},
   "outputs": [],
   "source": [
    "# iteration 500 times\n",
    "for iteration in range(500):\n",
    "    \n",
    "    # initialize delta\n",
    "    delta = 0\n",
    "    \n",
    "    # initialize S,A (? should i choose an Action using epsilon-greedy here or just select an Action?)\n",
    "    state_vector = grid.initial_state()\n",
    "    state_index = grid.states.index(state_vector)\n",
    "    \n",
    "    # initialize  eligibility traces for all state action pairs of all states to 0\n",
    "    z_values = np.zeros((state_count, action_count))\n",
    "    \n",
    "    action_index = choose_action(state_index, epsilon)\n",
    "    action_vector = actions[action_index]\n",
    "    \n",
    "    # iteration 200 steps of the episode\n",
    "    for i in range(max_steps):\n",
    "        \n",
    "        # Take action A, oberserve R, S'\n",
    "        next_state_vector, reward = grid.transition_reward(state_vector, action_vector)\n",
    "        next_state_index = grid.states.index(list(next_state_vector))\n",
    "        \n",
    "        # Choose A' from S' using policy derived from Q (eg. epsilon-greedy)\n",
    "        next_action_index = choose_action(next_state_index, epsilon)\n",
    "        next_action_vector = actions[next_action_index]\n",
    "        \n",
    "        # update the action-value form of the TD error\n",
    "        delta = reward + gamma*Q_values[next_state_index][next_action_index] - Q_values[state_index][action_index]\n",
    "        \n",
    "        # accumulate traces (? big S and big A?)\n",
    "        z_values[state_index][action_index] +=1\n",
    "        \n",
    "        # update Q value\n",
    "        Q_values[state_index][action_index] = Q_values[state_index][action_index] + alpha*delta*z_values[state_index][action_index]\n",
    "        \n",
    "        # update z value\n",
    "        z_values[state_index][action_index] = gamma*lamda*z_values[state_index][action_index]\n",
    "        \n",
    "        # update state and action vector\n",
    "        state_vector = list(next_state_vector)\n",
    "        state_index = grid.states.index(state_vector)\n",
    "        action_vector = list(next_action_vector)\n",
    "        action_index = next_action_index"
   ]
  },
  {
   "cell_type": "code",
   "execution_count": 15,
   "metadata": {},
   "outputs": [
    {
     "data": {
      "text/plain": [
       "array([[ 7, 17,  9,  8],\n",
       "       [11, 11, 10, 10],\n",
       "       [10,  8,  7, 14],\n",
       "       [ 8,  8,  8,  8],\n",
       "       [ 6,  6,  7,  8],\n",
       "       [11,  7,  4,  7],\n",
       "       [20,  6,  4,  6],\n",
       "       [12,  6,  6,  7],\n",
       "       [ 7,  6,  3,  7],\n",
       "       [ 5,  5,  4,  6],\n",
       "       [ 7,  5,  3,  5],\n",
       "       [17,  6,  1,  3],\n",
       "       [ 9,  4,  4,  5],\n",
       "       [ 4,  4,  3,  5],\n",
       "       [ 4,  4,  4,  3],\n",
       "       [ 4,  4,  0,  3],\n",
       "       [ 7,  3,  0,  2],\n",
       "       [ 7,  3,  3,  4],\n",
       "       [ 3,  3,  3,  4],\n",
       "       [ 3,  2,  2,  3],\n",
       "       [ 1,  1,  0,  0],\n",
       "       [ 7,  0,  4,  0],\n",
       "       [ 2,  2,  1,  2],\n",
       "       [ 3,  3,  2,  3],\n",
       "       [ 2,  0,  0,  2]])"
      ]
     },
     "execution_count": 15,
     "metadata": {},
     "output_type": "execute_result"
    }
   ],
   "source": [
    "np.set_printoptions(precision=2)\n",
    "Q_values"
   ]
  },
  {
   "cell_type": "code",
   "execution_count": 16,
   "metadata": {},
   "outputs": [
    {
     "name": "stdout",
     "output_type": "stream",
     "text": [
      "Policy Table: \n",
      "       0   1     2     3     4\n",
      "0  right  up  left    up  left\n",
      "1     up  up    up    up  left\n",
      "2     up  up    up  left    up\n",
      "3     up  up    up  left    up\n",
      "4     up  up    up    up    up\n",
      "\n"
     ]
    }
   ],
   "source": [
    "# PRINT POLICY TABLE ################################################################################\n",
    "# import pandas library\n",
    "import pandas as pd\n",
    "# define column and index\n",
    "columns=range(grid.size)\n",
    "index = range(grid.size)\n",
    "# define dataframe to represent policy table\n",
    "policy_table = pd.DataFrame(index = index, columns=columns)\n",
    "\n",
    "# iterate through policy to make a table that represents action number\n",
    "# as action name (eg. left, right, up, down)\n",
    "for state in range(len(Q_values)):\n",
    "    \n",
    "    # find the best action at each state\n",
    "    best_action = np.argmax(Q_values[state])\n",
    "\n",
    "    # get action name\n",
    "    if best_action == 0:\n",
    "        action_name = 'up'\n",
    "    elif best_action == 1:\n",
    "        action_name = 'right'\n",
    "    elif best_action == 2:\n",
    "        action_name = 'down'\n",
    "    else:\n",
    "        action_name = 'left'\n",
    "\n",
    "    # calculate the row and column coordinate of the current state number\n",
    "    row = int(state/grid.size)\n",
    "    column = round((state/grid.size - int(state/grid.size))*grid.size)\n",
    "            \n",
    "    # assign action name\n",
    "    policy_table.loc[row][column] = action_name\n",
    "\n",
    "print(\"Policy Table: \")\n",
    "print(policy_table)\n",
    "print()"
   ]
  },
  {
   "cell_type": "code",
   "execution_count": null,
   "metadata": {},
   "outputs": [],
   "source": []
  }
 ],
 "metadata": {
  "kernelspec": {
   "display_name": "Python 3",
   "language": "python",
   "name": "python3"
  },
  "language_info": {
   "codemirror_mode": {
    "name": "ipython",
    "version": 3
   },
   "file_extension": ".py",
   "mimetype": "text/x-python",
   "name": "python",
   "nbconvert_exporter": "python",
   "pygments_lexer": "ipython3",
   "version": "3.7.4"
  }
 },
 "nbformat": 4,
 "nbformat_minor": 4
}
