{
 "cells": [
  {
   "cell_type": "markdown",
   "metadata": {},
   "source": [
    "# Gridworld with First Visit"
   ]
  },
  {
   "cell_type": "code",
   "execution_count": 1,
   "metadata": {},
   "outputs": [],
   "source": [
    "# Find the value function of policy\n",
    "import numpy as np\n",
    "\n",
    "# display output\n",
    "from random import uniform\n",
    "import random\n",
    "import time\n",
    "from IPython.display import display, clear_output"
   ]
  },
  {
   "cell_type": "code",
   "execution_count": 2,
   "metadata": {},
   "outputs": [],
   "source": [
    "actions = [[-1, 0], [0, 1], [1, 0], [0, -1]] #up, right, down, left = (clockwise from up) \n",
    "action_count = len(actions) # total number of actions\n",
    "gridSize = 5 # create a square grid of gridSize by gridSize\n",
    "state_count = gridSize*gridSize # total number of states"
   ]
  },
  {
   "cell_type": "code",
   "execution_count": 3,
   "metadata": {},
   "outputs": [],
   "source": [
    "class Gridworld():\n",
    "    def __init__(self, gridSize):\n",
    "        self.valueMap = np.zeros((gridSize, gridSize))\n",
    "        self.states = [[i, j] for i in range(gridSize) for j in range(gridSize)]\n",
    "        self.size = gridSize\n",
    "        self.new_pos = [0, 0] # initialize new position for p_transition\n",
    "        self.transition_prob = 1 # deterministic\n",
    "    \n",
    "    def initial_state(self):        # return initial state\n",
    "        return grid.states[gridSize*gridSize-1]\n",
    "   \n",
    "    def transition_reward(self, current_pos, action): # return the transition probability\n",
    "\n",
    "        # get next position: state: [0, 0], action: [0, 1], new_state = [0, 1]\n",
    "        self.new_pos = np.array(current_pos) + np.array(action)\n",
    "\n",
    "        # normally, reward = 0\n",
    "        reward = 0\n",
    "\n",
    "        # if new pos results in off the grid, return reward -1\n",
    "        if -1 in self.new_pos or self.size in self.new_pos:\n",
    "            reward = -1\n",
    "        # if in state A, receive + 10\n",
    "        if current_pos == [0, 1]:\n",
    "            reward = 10\n",
    "        # if in state B, receive + 5\n",
    "        if current_pos == [0, 3]:\n",
    "            reward = 5\n",
    "\n",
    "        # if taking an action crosses the border; agent's new_pos is the same as the current pos\n",
    "        if -1 in self.new_pos or self.size in self.new_pos: \n",
    "            self.new_pos = current_pos\n",
    "            \n",
    "        # if in state A, transition to state A'\n",
    "        if current_pos == [0, 1]:\n",
    "            self.new_pos = [4, 1]\n",
    "            \n",
    "        # if in state B, transition to state B'\n",
    "        if current_pos == [0, 3]:\n",
    "            self.new_pos = [2, 3]\n",
    "\n",
    "        return self.new_pos, reward"
   ]
  },
  {
   "cell_type": "markdown",
   "metadata": {},
   "source": [
    "## First-visit MC Control "
   ]
  },
  {
   "cell_type": "code",
   "execution_count": 4,
   "metadata": {},
   "outputs": [],
   "source": [
    "# create a grid object\n",
    "grid = Gridworld(5)"
   ]
  },
  {
   "cell_type": "code",
   "execution_count": 5,
   "metadata": {},
   "outputs": [],
   "source": [
    "# Initiate a random policy\n",
    "random_policy = np.random.randint(1000, size=(state_count, action_count))\n",
    "random_policy = random_policy/random_policy.sum(axis=1)[:,None]\n",
    "policy = random_policy"
   ]
  },
  {
   "cell_type": "code",
   "execution_count": 6,
   "metadata": {},
   "outputs": [
    {
     "data": {
      "text/plain": [
       "array([[4.07134548e-02, 3.38503296e-01, 3.14075223e-01, 3.06708026e-01],\n",
       "       [2.68200349e-01, 2.45486313e-01, 2.09085614e-01, 2.77227723e-01],\n",
       "       [1.93441537e-01, 3.06392845e-01, 3.20635972e-01, 1.79529646e-01],\n",
       "       [3.56673961e-01, 2.64223195e-01, 6.56455142e-03, 3.72538293e-01],\n",
       "       [3.37572674e-01, 1.70784884e-01, 1.66787791e-01, 3.24854651e-01],\n",
       "       [3.22834646e-01, 2.35193427e-01, 1.57480315e-01, 2.84491612e-01],\n",
       "       [7.74299835e-02, 7.86655684e-01, 5.43657331e-02, 8.15485997e-02],\n",
       "       [2.16335541e-01, 2.62693157e-01, 2.68579838e-01, 2.52391464e-01],\n",
       "       [3.97546570e-01, 3.61199455e-01, 2.31712858e-02, 2.18082690e-01],\n",
       "       [2.51314406e-01, 7.36067298e-02, 3.92744479e-01, 2.82334385e-01],\n",
       "       [2.83745440e-01, 3.26712606e-01, 2.52533441e-01, 1.37008512e-01],\n",
       "       [4.18223235e-01, 1.28473804e-01, 3.43963554e-01, 1.09339408e-01],\n",
       "       [1.97752809e-01, 3.49812734e-01, 8.61423221e-02, 3.66292135e-01],\n",
       "       [3.68303571e-01, 5.01488095e-01, 3.57142857e-02, 9.44940476e-02],\n",
       "       [2.24301842e-01, 2.84610814e-01, 2.19251337e-01, 2.71836007e-01],\n",
       "       [2.37399194e-01, 1.13911290e-01, 3.61895161e-01, 2.86794355e-01],\n",
       "       [9.94447249e-02, 4.68450278e-01, 2.93791015e-01, 1.38313983e-01],\n",
       "       [5.63697858e-04, 1.59526494e-01, 3.52874859e-01, 4.87034949e-01],\n",
       "       [5.30303030e-01, 3.14545455e-01, 4.42424242e-02, 1.10909091e-01],\n",
       "       [3.34845361e-01, 2.58144330e-01, 3.88041237e-01, 1.89690722e-02],\n",
       "       [1.17063492e-01, 6.41865079e-01, 5.15873016e-02, 1.89484127e-01],\n",
       "       [2.19047619e-01, 4.92698413e-01, 2.81269841e-01, 6.98412698e-03],\n",
       "       [1.48514851e-01, 2.56664128e-01, 2.77608530e-01, 3.17212490e-01],\n",
       "       [3.16992259e-01, 2.15259860e-01, 1.59601917e-01, 3.08145964e-01],\n",
       "       [1.24223602e-02, 2.90969900e-01, 3.34448161e-01, 3.62159580e-01]])"
      ]
     },
     "execution_count": 6,
     "metadata": {},
     "output_type": "execute_result"
    }
   ],
   "source": [
    "# random policy\n",
    "policy"
   ]
  },
  {
   "cell_type": "markdown",
   "metadata": {},
   "source": [
    "### Create an Episode following Policy"
   ]
  },
  {
   "cell_type": "code",
   "execution_count": 7,
   "metadata": {},
   "outputs": [],
   "source": [
    "def generate_episode(steps):\n",
    "\n",
    "    # set initial state\n",
    "    state = grid.initial_state()\n",
    "\n",
    "    # initialize state (with iniitial state), action list and reward list\n",
    "    state_list = [state]\n",
    "    action_list = []\n",
    "    reward_list = []\n",
    "\n",
    "    # generate an episode\n",
    "    for i in range(steps):\n",
    "\n",
    "        # pick an action based on categorical distribution in policy\n",
    "        action = int(np.random.choice(action_count, 1, p=policy[grid.states.index(state)])) # get index in int\n",
    "        action = actions[action] # convert the integer index (ie. 0) to action (ie. [-1, 0])\n",
    "\n",
    "        # get new state and reward after taking action from current state\n",
    "        new_state, reward = grid.transition_reward(state, action)\n",
    "        state = list(new_state)\n",
    "\n",
    "        # save state, action chosen and reward to list\n",
    "        state_list.append(state)\n",
    "        action_list.append(action)\n",
    "        reward_list.append(reward)\n",
    "        \n",
    "    return state_list, action_list, reward_list"
   ]
  },
  {
   "cell_type": "markdown",
   "metadata": {},
   "source": [
    "### First Visit MC"
   ]
  },
  {
   "cell_type": "code",
   "execution_count": 8,
   "metadata": {},
   "outputs": [],
   "source": [
    "# initialize q values for all state action pairs\n",
    "Q_values = np.zeros((state_count, action_count))"
   ]
  },
  {
   "cell_type": "code",
   "execution_count": 9,
   "metadata": {},
   "outputs": [],
   "source": [
    "# intialize parameters\n",
    "gamma = 0.99\n",
    "epsilon = 0.2"
   ]
  },
  {
   "cell_type": "code",
   "execution_count": 10,
   "metadata": {},
   "outputs": [],
   "source": [
    "# define average function\n",
    "def Average(lst): \n",
    "    return sum(lst) / len(lst) "
   ]
  },
  {
   "cell_type": "code",
   "execution_count": 11,
   "metadata": {},
   "outputs": [],
   "source": [
    "# iterate 500 times: each time, generating an episode of 200 steps\n",
    "max_steps = 200\n",
    "\n",
    "# define variables for keeping track of time steps\n",
    "Terminal = max_steps\n",
    "t_list=[]\n",
    "for i in range(1,max_steps+1):\n",
    "    t = Terminal - i\n",
    "    t_list.append(t)"
   ]
  },
  {
   "cell_type": "code",
   "execution_count": 12,
   "metadata": {},
   "outputs": [],
   "source": [
    "# iteration 500 times\n",
    "for iteration in range(500):\n",
    "  \n",
    "    # generate an episode of specified step count\n",
    "    state_list, action_list, reward_list = generate_episode(max_steps)\n",
    "    \n",
    "#     print(\"state_list: \", state_list)\n",
    "#     print(\"action_list: \", action_list)\n",
    "#     print(\"reward_list: \", reward_list)\n",
    "    \n",
    "    # intialize G\n",
    "    G = 0\n",
    "    \n",
    "    # initiate returns and visited list to none\n",
    "    returns_list = []\n",
    "    visited_list = []\n",
    "\n",
    "    # loop for each step of episode: T-1, T-2, T-3 ... 0 = 199, 198, 197 ... 0\n",
    "    for t in t_list:\n",
    "\n",
    "        # calculate G: starting with the last reward at index t (naturally accounts for pseudocode's \"t-1\")\n",
    "        G = gamma*G + reward_list[t]\n",
    "        # print(G)\n",
    "        \n",
    "        # combine state action pair, for example, state = [0,0], action = [0,1], state_action_pair = [0,0,0,1]\n",
    "        state_action_pair = []\n",
    "        state_action_pair.extend(state_list[t])\n",
    "        state_action_pair.extend(action_list[t])\n",
    "        # print(state_action_pair)\n",
    "\n",
    "        # check if state action pair have been visited before (if not: continue, else: move to the next time step)\n",
    "        if state_action_pair not in visited_list:\n",
    "\n",
    "            # add state action pair to visited list\n",
    "            visited_list.append(state_action_pair)\n",
    "\n",
    "            # append G to returns\n",
    "            returns_list.append(G)\n",
    "\n",
    "            # find state and action index, for example, converting action [-1, 0] to 0, and same for state #\n",
    "            state_index = grid.states.index(state_list[t])\n",
    "            action_index = actions.index(action_list[t])\n",
    "    #         print(\"state_index: \", state_index)\n",
    "\n",
    "            # write Q_values to the state-action pair\n",
    "            Q_values[state_index][action_index] = Average(returns_list)\n",
    "    #         print(\"average return: \", Average(returns_list))\n",
    "\n",
    "            # choose best action at given state\n",
    "            choose_action = np.argmax(Q_values[state_index])\n",
    "\n",
    "            # overwrite policy\n",
    "            for a in range(action_count): # for action in actions [0, 1, 2, 3]\n",
    "                if choose_action == a: # if the choose_action is the same as the current action\n",
    "                    policy[state_index][a] = 1 - epsilon + epsilon/action_count \n",
    "                else: # if choose_action is not the same as the current action\n",
    "                    policy[state_index][a] = epsilon/action_count"
   ]
  },
  {
   "cell_type": "code",
   "execution_count": 13,
   "metadata": {},
   "outputs": [
    {
     "name": "stdout",
     "output_type": "stream",
     "text": [
      "21\n"
     ]
    }
   ],
   "source": [
    "# total unique state action pairs at the end of one episode\n",
    "print(len(visited_list))"
   ]
  },
  {
   "cell_type": "code",
   "execution_count": 14,
   "metadata": {},
   "outputs": [
    {
     "data": {
      "text/plain": [
       "array([[ -1.        , -21.93728173, -23.01381927, -23.64873295],\n",
       "       [-14.60457783, -14.08476552, -21.2935195 , -23.93988266],\n",
       "       [ -3.832771  ,  -0.32834918,   2.64653417,   3.38598   ],\n",
       "       [ -0.95621594, -16.48602462,  -3.49026927, -23.98747016],\n",
       "       [ -4.06834033,  -3.49119409, -22.33438353, -18.70148161],\n",
       "       [ -1.48505   ,  -0.28338226, -14.8900471 , -22.52166945],\n",
       "       [ -0.72989558,   0.42648852,   0.        ,   0.        ],\n",
       "       [ -0.12607869,  -1.24944479,   0.        ,   0.        ],\n",
       "       [  0.71071429,  -7.64088088,  -9.43686549,   0.        ],\n",
       "       [-20.56809691,  -6.15909425,  -4.11254652, -13.82617144],\n",
       "       [ -1.64016633, -26.77957433, -14.37776955,  -1.9628485 ],\n",
       "       [  0.04444855,  -0.26622266,  -1.08708751,  -7.00986816],\n",
       "       [ -1.30870379,   0.        ,   0.        ,  -1.28020037],\n",
       "       [ -8.67780017,  -5.23335485,  -8.10087216,   0.        ],\n",
       "       [-11.49931407,  -1.        ,  -3.10494762,  -9.99463502],\n",
       "       [  0.88304961, -12.66171654, -28.40134202, -21.69648057],\n",
       "       [-10.32921802,   0.        ,  -2.48968521, -11.5931104 ],\n",
       "       [  0.        ,   0.        ,  -1.65239453,   0.        ],\n",
       "       [  0.        , -25.61040265, -28.26259621,  -3.34153864],\n",
       "       [ -4.06893019,  -1.98988482,  -1.0764742 ,  -6.24201585],\n",
       "       [-16.01522228, -24.84298757, -17.39606962, -18.65280913],\n",
       "       [-27.61533895,   0.        ,  -9.49747656, -20.5169533 ],\n",
       "       [  0.        ,  -1.50512605, -10.34291504,   0.        ],\n",
       "       [-27.02435524,  -0.33166667, -29.095262  ,   0.        ],\n",
       "       [-31.52814407,  -0.08333333,  -1.02949619,   0.        ]])"
      ]
     },
     "execution_count": 14,
     "metadata": {},
     "output_type": "execute_result"
    }
   ],
   "source": [
    "Q_values"
   ]
  },
  {
   "cell_type": "code",
   "execution_count": 15,
   "metadata": {},
   "outputs": [
    {
     "data": {
      "text/plain": [
       "array([[0.85, 0.05, 0.05, 0.05],\n",
       "       [0.05, 0.85, 0.05, 0.05],\n",
       "       [0.05, 0.05, 0.05, 0.85],\n",
       "       [0.85, 0.05, 0.05, 0.05],\n",
       "       [0.05, 0.85, 0.05, 0.05],\n",
       "       [0.05, 0.85, 0.05, 0.05],\n",
       "       [0.05, 0.85, 0.05, 0.05],\n",
       "       [0.05, 0.05, 0.85, 0.05],\n",
       "       [0.85, 0.05, 0.05, 0.05],\n",
       "       [0.05, 0.05, 0.85, 0.05],\n",
       "       [0.85, 0.05, 0.05, 0.05],\n",
       "       [0.85, 0.05, 0.05, 0.05],\n",
       "       [0.05, 0.85, 0.05, 0.05],\n",
       "       [0.05, 0.05, 0.05, 0.85],\n",
       "       [0.05, 0.85, 0.05, 0.05],\n",
       "       [0.85, 0.05, 0.05, 0.05],\n",
       "       [0.05, 0.85, 0.05, 0.05],\n",
       "       [0.85, 0.05, 0.05, 0.05],\n",
       "       [0.85, 0.05, 0.05, 0.05],\n",
       "       [0.05, 0.05, 0.85, 0.05],\n",
       "       [0.85, 0.05, 0.05, 0.05],\n",
       "       [0.05, 0.85, 0.05, 0.05],\n",
       "       [0.85, 0.05, 0.05, 0.05],\n",
       "       [0.05, 0.05, 0.05, 0.85],\n",
       "       [0.05, 0.05, 0.05, 0.85]])"
      ]
     },
     "execution_count": 15,
     "metadata": {},
     "output_type": "execute_result"
    }
   ],
   "source": [
    "#up, right, down, left = (clockwise from up) \n",
    "policy"
   ]
  },
  {
   "cell_type": "markdown",
   "metadata": {},
   "source": [
    "## Visualize "
   ]
  },
  {
   "cell_type": "code",
   "execution_count": 16,
   "metadata": {},
   "outputs": [
    {
     "name": "stdout",
     "output_type": "stream",
     "text": [
      "Policy Table: \n",
      "       0      1      2     3      4\n",
      "0     up  right   left    up  right\n",
      "1  right  right   down    up   down\n",
      "2     up     up  right  left  right\n",
      "3     up  right     up    up   down\n",
      "4     up  right     up  left   left\n",
      "\n"
     ]
    }
   ],
   "source": [
    "# PRINT POLICY TABLE ################################################################################\n",
    "# import pandas library\n",
    "import pandas as pd\n",
    "# define column and index\n",
    "columns=range(grid.size)\n",
    "index = range(grid.size)\n",
    "# define dataframe to represent policy table\n",
    "policy_table = pd.DataFrame(index = index, columns=columns)\n",
    "\n",
    "# iterate through policy to make a table that represents action number\n",
    "# as action name (eg. left, right, up, down)\n",
    "for state in range(len(policy)):\n",
    "    \n",
    "    # find the best action at each state\n",
    "    best_action = np.argmax(policy[state])\n",
    "\n",
    "    # get action name\n",
    "    if best_action == 0:\n",
    "        action_name = 'up'\n",
    "    elif best_action == 1:\n",
    "        action_name = 'right'\n",
    "    elif best_action == 2:\n",
    "        action_name = 'down'\n",
    "    else:\n",
    "        action_name = 'left'\n",
    "\n",
    "    # calculate the row and column coordinate of the current state number\n",
    "    row = int(state/grid.size)\n",
    "    column = round((state/grid.size - int(state/grid.size))*grid.size)\n",
    "            \n",
    "    # assign action name\n",
    "    policy_table.loc[row][column] = action_name\n",
    "\n",
    "print(\"Policy Table: \")\n",
    "print(policy_table)\n",
    "print()"
   ]
  }
 ],
 "metadata": {
  "kernelspec": {
   "display_name": "Python 3",
   "language": "python",
   "name": "python3"
  },
  "language_info": {
   "codemirror_mode": {
    "name": "ipython",
    "version": 3
   },
   "file_extension": ".py",
   "mimetype": "text/x-python",
   "name": "python",
   "nbconvert_exporter": "python",
   "pygments_lexer": "ipython3",
   "version": "3.5.2"
  }
 },
 "nbformat": 4,
 "nbformat_minor": 4
}
