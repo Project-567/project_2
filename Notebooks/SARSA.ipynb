{
 "cells": [
  {
   "cell_type": "markdown",
   "metadata": {},
   "source": [
    "# SARSA"
   ]
  },
  {
   "cell_type": "code",
   "execution_count": 1,
   "metadata": {},
   "outputs": [],
   "source": [
    "import numpy as np\n",
    "\n",
    "# display output\n",
    "from random import uniform\n",
    "import random\n",
    "import time\n",
    "from IPython.display import display, clear_output"
   ]
  },
  {
   "cell_type": "code",
   "execution_count": 2,
   "metadata": {},
   "outputs": [],
   "source": [
    "actions = [[-1, 0], [0, 1], [1, 0], [0, -1]] #up, right, down, left = (clockwise from up) \n",
    "action_count = len(actions) # total number of actions\n",
    "gridSize = 5 # create a square grid of gridSize by gridSize\n",
    "state_count = gridSize*gridSize # total number of states"
   ]
  },
  {
   "cell_type": "code",
   "execution_count": 3,
   "metadata": {},
   "outputs": [],
   "source": [
    "class Gridworld():\n",
    "    def __init__(self, gridSize):\n",
    "        self.valueMap = np.zeros((gridSize, gridSize))\n",
    "        self.states = [[i, j] for i in range(gridSize) for j in range(gridSize)]\n",
    "        self.size = gridSize\n",
    "        self.new_pos = [0, 0] # initialize new position for p_transition\n",
    "        self.transition_prob = 1 # deterministic\n",
    "    \n",
    "    def initial_state(self):        # return initial state\n",
    "        return grid.states[gridSize*gridSize-1]\n",
    "   \n",
    "    def transition_reward(self, current_pos, action): # return the transition probability\n",
    "\n",
    "        # get next position: state: [0, 0], action: [0, 1], new_state = [0, 1]\n",
    "        self.new_pos = np.array(current_pos) + np.array(action)\n",
    "\n",
    "        # normally, reward = 0\n",
    "        reward = 0\n",
    "\n",
    "        # if new pos results in off the grid, return reward -1\n",
    "        if -1 in self.new_pos or self.size in self.new_pos:\n",
    "            reward = -1\n",
    "        # if in state A, receive + 10\n",
    "        if current_pos == [0, 1]:\n",
    "            reward = 10\n",
    "        # if in state B, receive + 5\n",
    "        if current_pos == [0, 3]:\n",
    "            reward = 5\n",
    "\n",
    "        # if taking an action crosses the border; agent's new_pos is the same as the current pos\n",
    "        if -1 in self.new_pos or self.size in self.new_pos: \n",
    "            self.new_pos = current_pos\n",
    "            \n",
    "        # if in state A, transition to state A'\n",
    "        if current_pos == [0, 1]:\n",
    "            self.new_pos = [4, 1]\n",
    "            \n",
    "        # if in state B, transition to state B'\n",
    "        if current_pos == [0, 3]:\n",
    "            self.new_pos = [2, 3]\n",
    "\n",
    "        return self.new_pos, reward"
   ]
  },
  {
   "cell_type": "markdown",
   "metadata": {},
   "source": [
    "## SARSA"
   ]
  },
  {
   "cell_type": "code",
   "execution_count": 4,
   "metadata": {},
   "outputs": [],
   "source": [
    "# create a grid object\n",
    "grid = Gridworld(5)"
   ]
  },
  {
   "cell_type": "code",
   "execution_count": 5,
   "metadata": {},
   "outputs": [],
   "source": [
    "# initialize q values for all state action pairs\n",
    "Q_values = np.zeros((state_count, action_count))\n",
    "\n",
    "# initialize other parameters\n",
    "gamma = 0.99\n",
    "lr = 0.1"
   ]
  },
  {
   "cell_type": "code",
   "execution_count": 6,
   "metadata": {},
   "outputs": [],
   "source": [
    "def choose_action(state, epsilon):\n",
    "    \n",
    "    # choose an action type: explore or exploit\n",
    "    action_type = int(np.random.choice(2, 1, p=[epsilon,1-epsilon]))\n",
    "\n",
    "    # find best action based on Q values\n",
    "    best_action_index = np.argmax(Q_values[state])\n",
    "\n",
    "    # pick a random action\n",
    "    random_action_index = random.choice(range(4))\n",
    "\n",
    "    # while random action is the same as the best action, pick a new action\n",
    "    while random_action_index == best_action_index:\n",
    "        random_action_index = random.choice(range(4))\n",
    "\n",
    "    # choose an action based on exploit or explore\n",
    "    if action_type == 0:\n",
    "        # explore\n",
    "        # print(\"explore\")\n",
    "        action_index = random_action_index\n",
    "    else:\n",
    "        # exploit\n",
    "        # print(\"exploit\")\n",
    "        action_index = best_action_index\n",
    "        \n",
    "    return action_index"
   ]
  },
  {
   "cell_type": "code",
   "execution_count": 7,
   "metadata": {},
   "outputs": [],
   "source": [
    "# # randomly generate Q values (for testing purpose)\n",
    "# Q_values = np.random.randint(10, size=(state_count, action_count))\n",
    "# Q_values"
   ]
  },
  {
   "cell_type": "code",
   "execution_count": 8,
   "metadata": {},
   "outputs": [],
   "source": [
    "epsilon = 0.2\n",
    "\n",
    "# iterate over 500 episodes\n",
    "for episode in range(500):\n",
    "\n",
    "    # initialize state (output: [4, 4])\n",
    "    state_vector = grid.initial_state()\n",
    "    state_index = grid.states.index(state_vector)\n",
    "\n",
    "    # choose an action based on epsilon-greedy (output: action index ie. 0)\n",
    "    action_index = choose_action(state_index, epsilon)\n",
    "    action_vector = actions[action_index]\n",
    "\n",
    "    # iterate over 200 steps within each episode\n",
    "    for step in range(200):\n",
    "\n",
    "        # get the next state and reward after taking the chosen action in the current state\n",
    "        next_state_vector, reward = grid.transition_reward(state_vector, action_vector)\n",
    "        next_state_index = grid.states.index(list(next_state_vector))\n",
    "        \n",
    "        # choose an action based on epsilon-greedy (output: action index ie. 0)\n",
    "        next_action_index = choose_action(next_state_index, epsilon)\n",
    "        next_action_vector = actions[next_action_index]\n",
    "\n",
    "        # update Q value\n",
    "        Q_values[state_index][action_index] = Q_values[state_index][action_index] + lr*(reward + gamma*Q_values[next_state_index][next_action_index] - Q_values[state_index][action_index])\n",
    "        \n",
    "        # update state and action vector\n",
    "        state_vector = list(next_state_vector)\n",
    "        state_index = grid.states.index(state_vector)\n",
    "        action_vector = list(next_action_vector)\n",
    "        action_index = next_action_index"
   ]
  },
  {
   "cell_type": "code",
   "execution_count": 9,
   "metadata": {},
   "outputs": [
    {
     "data": {
      "text/plain": [
       "array([[ 7.25e+00,  4.49e+01,  4.02e+00,  1.11e+01],\n",
       "       [ 3.51e+01,  3.54e+01,  5.86e+01,  1.87e+01],\n",
       "       [ 3.62e+01,  9.55e+01,  4.47e+01,  2.40e+01],\n",
       "       [ 9.83e+01,  9.82e+01,  9.76e+01,  9.79e+01],\n",
       "       [ 2.85e+01,  4.30e+01,  9.15e+01,  4.88e+01],\n",
       "       [ 3.10e+01,  5.17e+00,  1.19e+00,  8.88e+00],\n",
       "       [ 3.29e+01,  8.86e+01,  4.59e+01,  1.37e+01],\n",
       "       [ 8.71e+01,  9.52e+01,  9.06e+01,  7.21e+01],\n",
       "       [ 9.73e+01,  9.15e+01,  9.38e+01,  9.19e+01],\n",
       "       [ 8.01e+01,  9.09e+01,  8.98e+01,  9.60e+01],\n",
       "       [ 1.78e+01,  3.55e+00,  2.14e+00,  2.97e+00],\n",
       "       [ 4.49e+01,  8.55e+01,  3.21e+01,  7.83e+00],\n",
       "       [ 8.95e+01,  9.40e+01,  8.41e+01,  5.82e+01],\n",
       "       [ 9.53e+01,  9.12e+01,  9.07e+01,  8.99e+01],\n",
       "       [ 9.09e+01,  8.85e+01,  8.66e+01,  9.40e+01],\n",
       "       [ 2.42e-01,  2.56e+01,  8.96e-01,  1.68e-01],\n",
       "       [ 7.02e+01,  2.55e+01,  2.79e+01,  5.84e+00],\n",
       "       [ 7.22e+01,  9.16e+01,  6.21e+01,  5.36e+01],\n",
       "       [ 9.35e+01,  8.53e+01,  7.55e+01,  8.53e+01],\n",
       "       [ 8.71e+01,  8.21e+01,  7.07e+01,  8.94e+01],\n",
       "       [ 4.41e-01,  1.91e+01,  2.06e-01, -8.54e-02],\n",
       "       [ 6.15e+01,  2.04e+01,  1.59e+01,  3.78e+00],\n",
       "       [ 7.74e+01,  1.15e+00,  1.43e+01,  9.77e+00],\n",
       "       [ 8.88e+01,  6.07e+01,  5.11e+01,  5.05e+01],\n",
       "       [ 8.69e+01,  7.44e+01,  7.57e+01,  7.64e+01]])"
      ]
     },
     "execution_count": 9,
     "metadata": {},
     "output_type": "execute_result"
    }
   ],
   "source": [
    "np.set_printoptions(precision=2)\n",
    "Q_values"
   ]
  },
  {
   "cell_type": "markdown",
   "metadata": {},
   "source": [
    "# Visualize "
   ]
  },
  {
   "cell_type": "code",
   "execution_count": 10,
   "metadata": {},
   "outputs": [
    {
     "name": "stdout",
     "output_type": "stream",
     "text": [
      "Policy Table: \n",
      "       0      1      2   3     4\n",
      "0  right   down  right  up  down\n",
      "1     up  right  right  up  left\n",
      "2     up  right  right  up  left\n",
      "3  right     up  right  up  left\n",
      "4  right     up     up  up    up\n",
      "\n"
     ]
    }
   ],
   "source": [
    "# PRINT POLICY TABLE ################################################################################\n",
    "# import pandas library\n",
    "import pandas as pd\n",
    "# define column and index\n",
    "columns=range(grid.size)\n",
    "index = range(grid.size)\n",
    "# define dataframe to represent policy table\n",
    "policy_table = pd.DataFrame(index = index, columns=columns)\n",
    "\n",
    "# iterate through policy to make a table that represents action number\n",
    "# as action name (eg. left, right, up, down)\n",
    "for state in range(len(Q_values)):\n",
    "    \n",
    "    # find the best action at each state\n",
    "    best_action = np.argmax(Q_values[state])\n",
    "\n",
    "    # get action name\n",
    "    if best_action == 0:\n",
    "        action_name = 'up'\n",
    "    elif best_action == 1:\n",
    "        action_name = 'right'\n",
    "    elif best_action == 2:\n",
    "        action_name = 'down'\n",
    "    else:\n",
    "        action_name = 'left'\n",
    "\n",
    "    # calculate the row and column coordinate of the current state number\n",
    "    row = int(state/grid.size)\n",
    "    column = round((state/grid.size - int(state/grid.size))*grid.size)\n",
    "            \n",
    "    # assign action name\n",
    "    policy_table.loc[row][column] = action_name\n",
    "\n",
    "print(\"Policy Table: \")\n",
    "print(policy_table)\n",
    "print()"
   ]
  }
 ],
 "metadata": {
  "kernelspec": {
   "display_name": "Python 3",
   "language": "python",
   "name": "python3"
  },
  "language_info": {
   "codemirror_mode": {
    "name": "ipython",
    "version": 3
   },
   "file_extension": ".py",
   "mimetype": "text/x-python",
   "name": "python",
   "nbconvert_exporter": "python",
   "pygments_lexer": "ipython3",
   "version": "3.5.2"
  }
 },
 "nbformat": 4,
 "nbformat_minor": 4
}
