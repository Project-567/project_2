{
 "cells": [
  {
   "cell_type": "markdown",
   "metadata": {},
   "source": [
    "# SARSA(lambda)"
   ]
  },
  {
   "cell_type": "code",
   "execution_count": 1,
   "metadata": {},
   "outputs": [],
   "source": [
    "# Find the value function of policy\n",
    "import numpy as np\n",
    "import matplotlib.pyplot as plt\n",
    "import pandas as pd\n",
    "# display output\n",
    "import random\n",
    "from random import uniform\n",
    "import time\n",
    "from IPython.display import display, clear_output"
   ]
  },
  {
   "cell_type": "code",
   "execution_count": 2,
   "metadata": {},
   "outputs": [],
   "source": [
    "actions = [[-1, 0], [0, 1], [1, 0], [0, -1]] #up, right, down, left = (clockwise from up) \n",
    "action_count = len(actions) # total number of actions\n",
    "gridSize = 5 # create a square grid of gridSize by gridSize\n",
    "state_count = gridSize*gridSize # total number of states"
   ]
  },
  {
   "cell_type": "code",
   "execution_count": 3,
   "metadata": {},
   "outputs": [],
   "source": [
    "class Gridworld():\n",
    "    def __init__(self, gridSize):\n",
    "        self.valueMap = np.zeros((gridSize, gridSize))\n",
    "        self.states = [[i, j] for i in range(gridSize) for j in range(gridSize)]\n",
    "        self.size = gridSize\n",
    "        self.new_pos = [0, 0] # initialize new position for p_transition\n",
    "        self.transition_prob = 1 # deterministic\n",
    "    \n",
    "    def initial_state(self):        # return initial state\n",
    "        return grid.states[gridSize*gridSize-1]\n",
    "   \n",
    "    def transition_reward(self, current_pos, action): # return the transition probability\n",
    "\n",
    "        # get next position: state: [0, 0], action: [0, 1], new_state = [0, 1]\n",
    "        self.new_pos = np.array(current_pos) + np.array(action)\n",
    "\n",
    "        # normally, reward = 0\n",
    "        reward = 0\n",
    "\n",
    "        # if new pos results in off the grid, return reward -1\n",
    "        if -1 in self.new_pos or self.size in self.new_pos:\n",
    "            reward = -1\n",
    "        # if in state A, receive + 10\n",
    "        if current_pos == [0, 1]:\n",
    "            reward = 10\n",
    "        # if in state B, receive + 5\n",
    "        if current_pos == [0, 3]:\n",
    "            reward = 5\n",
    "\n",
    "        # if taking an action crosses the border; agent's new_pos is the same as the current pos\n",
    "        if -1 in self.new_pos or self.size in self.new_pos: \n",
    "            self.new_pos = current_pos\n",
    "            \n",
    "        # if in state A, transition to state A'\n",
    "        if current_pos == [0, 1]:\n",
    "            self.new_pos = [4, 1]\n",
    "            \n",
    "        # if in state B, transition to state B'\n",
    "        if current_pos == [0, 3]:\n",
    "            self.new_pos = [2, 3]\n",
    "\n",
    "        return self.new_pos, reward"
   ]
  },
  {
   "cell_type": "markdown",
   "metadata": {},
   "source": [
    "## Define Functions "
   ]
  },
  {
   "cell_type": "code",
   "execution_count": 4,
   "metadata": {},
   "outputs": [],
   "source": [
    "# define a function that chooses action based on epsilon-greedy\n",
    "def choose_action(state, epsilon):\n",
    "    \n",
    "    # choose an action type: explore or exploit\n",
    "    action_type = int(np.random.choice(2, 1, p=[epsilon,1-epsilon]))\n",
    "\n",
    "    # find best action based on Q values\n",
    "    best_action_index = np.argmax(Q_values[state])\n",
    "\n",
    "    # pick a random action\n",
    "    random_action_index = random.choice(range(4))\n",
    "\n",
    "    # choose an action based on exploit or explore\n",
    "    if action_type == 0:\n",
    "        # explore\n",
    "        # while random action is the same as the best action, pick a new action\n",
    "        while random_action_index == best_action_index:\n",
    "            random_action_index = random.choice(range(4))\n",
    "        action_index = random_action_index\n",
    "    else:\n",
    "        # exploit\n",
    "        # print(\"exploit\")\n",
    "        action_index = best_action_index\n",
    "    \n",
    "    # if Q_values is all zero, randomly pick an action\n",
    "    if np.count_nonzero(Q_values[state]) == 0:\n",
    "        action_index = random.randint(0,3)\n",
    "        \n",
    "    return action_index"
   ]
  },
  {
   "cell_type": "code",
   "execution_count": 5,
   "metadata": {},
   "outputs": [],
   "source": [
    "# define average function\n",
    "def Average(lst): \n",
    "    return sum(lst) / len(lst) "
   ]
  },
  {
   "cell_type": "code",
   "execution_count": 6,
   "metadata": {},
   "outputs": [],
   "source": [
    "def generate_episode(steps):\n",
    "\n",
    "    # set initial state\n",
    "    state_vector = grid.initial_state()\n",
    "\n",
    "    # initialize state (with iniitial state), action list and reward list\n",
    "    state_list = [state_vector]\n",
    "    action_list = []\n",
    "    reward_list = []\n",
    "\n",
    "    # generate an episode\n",
    "    for i in range(steps):\n",
    "\n",
    "        # pick an action based on categorical distribution in policy\n",
    "        action_index = int(np.random.choice(action_count, 1, p=policy[grid.states.index(state_vector)])) \n",
    "        action_vector = actions[action_index] # convert the integer index (ie. 0) to action (ie. [-1, 0])\n",
    "\n",
    "        # get new state and reward after taking action from current state\n",
    "        new_state_vector, reward = grid.transition_reward(state_vector, action_vector)\n",
    "        state_vector = list(new_state_vector)\n",
    "\n",
    "        # save state, action chosen and reward to list\n",
    "        state_list.append(state_vector)\n",
    "        action_list.append(action_vector)\n",
    "        reward_list.append(reward)\n",
    "        \n",
    "    return state_list, action_list, reward_list"
   ]
  },
  {
   "cell_type": "markdown",
   "metadata": {},
   "source": [
    "## Sarsa(lambda) "
   ]
  },
  {
   "cell_type": "code",
   "execution_count": 7,
   "metadata": {},
   "outputs": [],
   "source": [
    "# initialize q values for all state action pairs\n",
    "Q_values = np.zeros((state_count, action_count))\n",
    "oldQ = np.zeros((state_count, action_count))\n",
    "oldZ = np.zeros((state_count, action_count))\n",
    "import copy\n",
    "# create a grid object\n",
    "grid = Gridworld(5)\n",
    "\n",
    "# intialize parameters\n",
    "gamma = 0.99\n",
    "epsilon = 0.1\n",
    "lamda = 0.9\n",
    "lr = 0.1\n",
    "\n",
    "# initialize list for plots\n",
    "average_reward_list = []\n",
    "cumulative_reward_list = []\n",
    "cumulative_reward = 0\n",
    "delta_list = []\n",
    "episode_test_reward_list=[]"
   ]
  },
  {
   "cell_type": "code",
   "execution_count": null,
   "metadata": {},
   "outputs": [
    {
     "data": {
      "text/plain": [
       "'Episode: 357'"
      ]
     },
     "metadata": {},
     "output_type": "display_data"
    }
   ],
   "source": [
    "episode_length = 500\n",
    "\n",
    "# iteration 500 times\n",
    "for episode in range(episode_length):\n",
    "    \n",
    "    # initialize delta for eligibility trace\n",
    "    delta_ = 0\n",
    "    \n",
    "    # delta for change in Q values\n",
    "    delta = 0\n",
    "    \n",
    "    # initialize S,A (? should i choose an Action using epsilon-greedy here or just select an Action?)\n",
    "    state_vector = grid.initial_state()\n",
    "    state_index = grid.states.index(state_vector)\n",
    "    \n",
    "    # initialize  eligibility traces for all state action pairs of all states to 0\n",
    "    z_values = np.zeros((state_count, action_count))\n",
    "    \n",
    "    action_index = choose_action(state_index, epsilon)\n",
    "    action_vector = actions[action_index]\n",
    "    \n",
    "    reward_list = []\n",
    "    \n",
    "   # iteration 200 steps of the episode\n",
    "    for i in range(200):\n",
    "        # Take action A\n",
    "        action_index = choose_action(state_index, epsilon)\n",
    "        action_vector = actions[action_index]\n",
    "        # observe R, S', A'\n",
    "        next_state_vector, reward = grid.transition_reward(state_vector, action_vector)\n",
    "        next_state_index = grid.states.index(list(next_state_vector))\n",
    "        next_action_index = choose_action(next_state_index, epsilon)\n",
    "        next_action_vector = actions[next_action_index]\n",
    "        reward_list.append(reward)\n",
    "        \n",
    "        #Delta for the step - update the action-value form of the TD error \n",
    "        delta_ = reward + gamma*Q_values[next_state_index][next_action_index] - Q_values[state_index][action_index]\n",
    "    \n",
    "        # accumulate traces for the episode (? big S and big A?)\n",
    "        z_values[state_index][action_index] +=1\n",
    "        \n",
    "        \n",
    "        for s in range(state_count):\n",
    "            for a in range(action_count):\n",
    "                # update Q value\n",
    "                oldQ[s][a] = copy.copy(Q_values[s][a]) \n",
    "                Q_values[s][a] = oldQ[s][a] + lr*delta_*z_values[s][a]\n",
    "                \n",
    "                # calculate Q_value change for plotting max delta\n",
    "                delta = max(delta, np.abs(Q_values[s][a] - oldQ[s][a]))  \n",
    "                \n",
    "                # update z value\n",
    "                oldZ[s][a] = copy.copy(z_values[s][a]) \n",
    "                z_values[s][a] = gamma*lamda*oldZ[s][a]         \n",
    "        \n",
    "        # update state and action vector\n",
    "        state_vector = list(next_state_vector)\n",
    "        state_index = grid.states.index(state_vector)\n",
    "        action_vector = list(next_action_vector)\n",
    "        action_index = next_action_index\n",
    "    \n",
    "    \n",
    "    # append delta\n",
    "    delta_list.append(delta)\n",
    "    \n",
    "    # append average rewards\n",
    "    average_reward_list.append(Average(reward_list))\n",
    "    \n",
    "    # append cumulative rewards\n",
    "    cumulative_reward = cumulative_reward + sum(reward_list)\n",
    "    cumulative_reward_list.append(cumulative_reward)\n",
    "    \n",
    "    # initialize q values for all state action pairs\n",
    "    policy = np.zeros((state_count, action_count))\n",
    "    \n",
    "    # Generate Greedy policy based on Q_values after each episode\n",
    "    for state in range(len(Q_values)):\n",
    "        # find the best action at each state\n",
    "        best_action = np.argmax(Q_values[state])\n",
    "        # write deterministic policy based on Q_values\n",
    "        policy[state][best_action] = 1\n",
    "    \n",
    "    # Generate test trajectory with the greedy policy\n",
    "    state_list, action_list, test_reward_list = generate_episode(200)\n",
    "    \n",
    "    # sum up all the rewards obtained during test trajectory and append to list\n",
    "    episode_test_reward_list.append(sum(test_reward_list))\n",
    "    \n",
    "    # print current episode\n",
    "    clear_output(wait=True)\n",
    "    display('Episode: ' + str(episode))"
   ]
  },
  {
   "cell_type": "markdown",
   "metadata": {},
   "source": [
    "## Plots "
   ]
  },
  {
   "cell_type": "code",
   "execution_count": null,
   "metadata": {},
   "outputs": [],
   "source": [
    "window_length = int(episode_length/20)"
   ]
  },
  {
   "cell_type": "code",
   "execution_count": null,
   "metadata": {},
   "outputs": [],
   "source": [
    "# test reward of each episode, where delta is the change in Q values\n",
    "plt.plot(episode_test_reward_list)\n",
    "plt.title('Reward per Episode during Testing')\n",
    "plt.xlabel('Episode')\n",
    "plt.ylabel('Reward')\n",
    "\n",
    "# plot moving average\n",
    "delta_frame = pd.DataFrame(episode_test_reward_list)\n",
    "rolling_mean = delta_frame.rolling(window=window_length).mean()\n",
    "plt.plot(rolling_mean, label='Moving Average', color='orange')"
   ]
  },
  {
   "cell_type": "code",
   "execution_count": null,
   "metadata": {},
   "outputs": [],
   "source": [
    "# max delta of each episode, where delta is the change in Q values\n",
    "plt.plot(delta_list)\n",
    "plt.title('Max Delta per Episode during Training')\n",
    "plt.xlabel('Episode')\n",
    "plt.ylabel('Max Delta')\n",
    "\n",
    "# plot moving average\n",
    "delta_frame = pd.DataFrame(delta_list)\n",
    "rolling_mean = delta_frame.rolling(window=window_length).mean()\n",
    "plt.plot(rolling_mean, label='Moving Average', color='orange')"
   ]
  },
  {
   "cell_type": "code",
   "execution_count": null,
   "metadata": {},
   "outputs": [],
   "source": [
    "# average reward per episode\n",
    "plt.plot(average_reward_list)\n",
    "plt.title('Average Reward per Episode during Training')\n",
    "plt.xlabel('Episode')\n",
    "plt.ylabel('Average Reward')\n",
    "\n",
    "# plot moving average\n",
    "reward_frame = pd.DataFrame(average_reward_list)\n",
    "rolling_mean = reward_frame.rolling(window=window_length).mean()\n",
    "plt.plot(rolling_mean, label='Moving Average', color='orange')"
   ]
  },
  {
   "cell_type": "code",
   "execution_count": null,
   "metadata": {},
   "outputs": [],
   "source": [
    "# cumulative reward per episode\n",
    "plt.plot(cumulative_reward_list)\n",
    "plt.title('Cumulative Reward per Episode during Training')\n",
    "plt.xlabel('Episode')\n",
    "plt.ylabel('Cumulative Reward')"
   ]
  },
  {
   "cell_type": "code",
   "execution_count": null,
   "metadata": {},
   "outputs": [],
   "source": [
    "np.set_printoptions(precision=2)\n",
    "z_values"
   ]
  },
  {
   "cell_type": "code",
   "execution_count": null,
   "metadata": {},
   "outputs": [],
   "source": [
    "np.set_printoptions(precision=2)\n",
    "Q_values"
   ]
  },
  {
   "cell_type": "markdown",
   "metadata": {},
   "source": [
    "## Visualize Final Policy"
   ]
  },
  {
   "cell_type": "code",
   "execution_count": null,
   "metadata": {},
   "outputs": [],
   "source": [
    "# PRINT POLICY TABLE ################################################################################\n",
    "# define column and index\n",
    "columns=range(grid.size)\n",
    "index = range(grid.size)\n",
    "# define dataframe to represent policy table\n",
    "policy_table = pd.DataFrame(index = index, columns=columns)\n",
    "\n",
    "# iterate through policy to make a table that represents action number\n",
    "# as action name (eg. left, right, up, down)\n",
    "for state in range(len(Q_values)):\n",
    "    \n",
    "    # find the best action at each state\n",
    "    best_action = np.argmax(Q_values[state])\n",
    "\n",
    "    # get action name\n",
    "    if best_action == 0:\n",
    "        action_name = 'up'\n",
    "    elif best_action == 1:\n",
    "        action_name = 'right'\n",
    "    elif best_action == 2:\n",
    "        action_name = 'down'\n",
    "    else:\n",
    "        action_name = 'left'\n",
    "\n",
    "    # calculate the row and column coordinate of the current state number\n",
    "    row = int(state/grid.size)\n",
    "    column = round((state/grid.size - int(state/grid.size))*grid.size)\n",
    "            \n",
    "    # assign action name\n",
    "    policy_table.loc[row][column] = action_name\n",
    "\n",
    "print(\"Policy Table: \")\n",
    "print(policy_table)\n",
    "print()"
   ]
  }
 ],
 "metadata": {
  "kernelspec": {
   "display_name": "Python 3",
   "language": "python",
   "name": "python3"
  },
  "language_info": {
   "codemirror_mode": {
    "name": "ipython",
    "version": 3
   },
   "file_extension": ".py",
   "mimetype": "text/x-python",
   "name": "python",
   "nbconvert_exporter": "python",
   "pygments_lexer": "ipython3",
   "version": "3.5.2"
  }
 },
 "nbformat": 4,
 "nbformat_minor": 4
}
