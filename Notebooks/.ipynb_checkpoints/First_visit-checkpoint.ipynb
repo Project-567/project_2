{
 "cells": [
  {
   "cell_type": "markdown",
   "metadata": {},
   "source": [
    "# Gridworld with First Visit"
   ]
  },
  {
   "cell_type": "code",
   "execution_count": 1,
   "metadata": {},
   "outputs": [],
   "source": [
    "import numpy as np\n",
    "\n",
    "# display output\n",
    "from random import uniform\n",
    "import random\n",
    "import time\n",
    "from IPython.display import display, clear_output"
   ]
  },
  {
   "cell_type": "code",
   "execution_count": 2,
   "metadata": {},
   "outputs": [],
   "source": [
    "actions = [[-1, 0], [0, 1], [1, 0], [0, -1]] #up, right, down, left = (clockwise from up) \n",
    "action_count = len(actions) # total number of actions\n",
    "gridSize = 5 # create a square grid of gridSize by gridSize\n",
    "state_count = gridSize*gridSize # total number of states"
   ]
  },
  {
   "cell_type": "code",
   "execution_count": 3,
   "metadata": {},
   "outputs": [],
   "source": [
    "class Gridworld():\n",
    "    def __init__(self, gridSize):\n",
    "        self.valueMap = np.zeros((gridSize, gridSize))\n",
    "        self.states = [[i, j] for i in range(gridSize) for j in range(gridSize)]\n",
    "        self.size = gridSize\n",
    "        self.new_pos = [0, 0] # initialize new position for p_transition\n",
    "        self.transition_prob = 1 # deterministic\n",
    "    \n",
    "    def initial_state(self):        # return initial state\n",
    "        return grid.states[gridSize*gridSize-1]\n",
    "   \n",
    "    def transition_reward(self, current_pos, action): # return the transition probability\n",
    "\n",
    "        # get next position: state: [0, 0], action: [0, 1], new_state = [0, 1]\n",
    "        self.new_pos = np.array(current_pos) + np.array(action)\n",
    "\n",
    "        # normally, reward = 0\n",
    "        reward = 0\n",
    "\n",
    "        # if new pos results in off the grid, return reward -1\n",
    "        if -1 in self.new_pos or self.size in self.new_pos:\n",
    "            reward = -1\n",
    "        # if in state A, receive + 10\n",
    "        if current_pos == [0, 1]:\n",
    "            reward = 10\n",
    "        # if in state B, receive + 5\n",
    "        if current_pos == [0, 3]:\n",
    "            reward = 5\n",
    "\n",
    "        # if taking an action crosses the border; agent's new_pos is the same as the current pos\n",
    "        if -1 in self.new_pos or self.size in self.new_pos: \n",
    "            self.new_pos = current_pos\n",
    "            \n",
    "        # if in state A, transition to state A'\n",
    "        if current_pos == [0, 1]:\n",
    "            self.new_pos = [4, 1]\n",
    "            \n",
    "        # if in state B, transition to state B'\n",
    "        if current_pos == [0, 3]:\n",
    "            self.new_pos = [2, 3]\n",
    "\n",
    "        return self.new_pos, reward"
   ]
  },
  {
   "cell_type": "markdown",
   "metadata": {},
   "source": [
    "## First-visit MC Control "
   ]
  },
  {
   "cell_type": "code",
   "execution_count": 4,
   "metadata": {},
   "outputs": [],
   "source": [
    "# create a grid object\n",
    "grid = Gridworld(5)"
   ]
  },
  {
   "cell_type": "code",
   "execution_count": 5,
   "metadata": {},
   "outputs": [],
   "source": [
    "# Initiate a random policy\n",
    "random_policy = np.random.randint(1000, size=(state_count, action_count))\n",
    "random_policy = random_policy/random_policy.sum(axis=1)[:,None]\n",
    "policy = random_policy"
   ]
  },
  {
   "cell_type": "code",
   "execution_count": 6,
   "metadata": {},
   "outputs": [
    {
     "data": {
      "text/plain": [
       "array([[0.12514899, 0.28923321, 0.32379817, 0.26181963],\n",
       "       [0.42983752, 0.02363368, 0.38453964, 0.16198917],\n",
       "       [0.12077827, 0.23604993, 0.3366373 , 0.30653451],\n",
       "       [0.19861555, 0.16613419, 0.22523962, 0.41001065],\n",
       "       [0.27924945, 0.16997792, 0.35154525, 0.19922737],\n",
       "       [0.2970297 , 0.37699924, 0.16336634, 0.16260472],\n",
       "       [0.12155213, 0.13604488, 0.43899018, 0.30341281],\n",
       "       [0.0605042 , 0.21554622, 0.40798319, 0.31596639],\n",
       "       [0.2893294 , 0.11767187, 0.40531421, 0.18768452],\n",
       "       [0.17202729, 0.19785575, 0.1837232 , 0.44639376],\n",
       "       [0.20603774, 0.37962264, 0.36075472, 0.05358491],\n",
       "       [0.20408163, 0.07849294, 0.32967033, 0.3877551 ],\n",
       "       [0.41134113, 0.21062106, 0.25382538, 0.12421242],\n",
       "       [0.42792109, 0.31006576, 0.05159332, 0.21041983],\n",
       "       [0.22417488, 0.26660952, 0.15345049, 0.35576511],\n",
       "       [0.27791986, 0.37468031, 0.19352089, 0.15387894],\n",
       "       [0.16749887, 0.07217431, 0.33091239, 0.42941443],\n",
       "       [0.30540897, 0.51912929, 0.12005277, 0.05540897],\n",
       "       [0.22183623, 0.38858561, 0.13200993, 0.25756824],\n",
       "       [0.19050802, 0.01203209, 0.52005348, 0.27740642],\n",
       "       [0.32274638, 0.01120972, 0.36851938, 0.29752452],\n",
       "       [0.09291122, 0.3413627 , 0.21679284, 0.34893324],\n",
       "       [0.52055588, 0.26172554, 0.14533874, 0.07237985],\n",
       "       [0.34462617, 0.21261682, 0.24182243, 0.20093458],\n",
       "       [0.10048267, 0.3453269 , 0.38525669, 0.16893374]])"
      ]
     },
     "execution_count": 6,
     "metadata": {},
     "output_type": "execute_result"
    }
   ],
   "source": [
    "# random policy\n",
    "policy"
   ]
  },
  {
   "cell_type": "markdown",
   "metadata": {},
   "source": [
    "### Create an Episode following Policy"
   ]
  },
  {
   "cell_type": "code",
   "execution_count": 7,
   "metadata": {},
   "outputs": [],
   "source": [
    "def generate_episode(steps):\n",
    "\n",
    "    # set initial state\n",
    "    state_vector = grid.initial_state()\n",
    "\n",
    "    # initialize state (with iniitial state), action list and reward list\n",
    "    state_list = [state_vector]\n",
    "    action_list = []\n",
    "    reward_list = []\n",
    "\n",
    "    # generate an episode\n",
    "    for i in range(steps):\n",
    "\n",
    "        # pick an action based on categorical distribution in policy\n",
    "        action_index = int(np.random.choice(action_count, 1, p=policy[grid.states.index(state_vector)])) \n",
    "        action_vector = actions[action_index] # convert the integer index (ie. 0) to action (ie. [-1, 0])\n",
    "\n",
    "        # get new state and reward after taking action from current state\n",
    "        new_state_vector, reward = grid.transition_reward(state_vector, action_vector)\n",
    "        state_vector = list(new_state_vector)\n",
    "\n",
    "        # save state, action chosen and reward to list\n",
    "        state_list.append(state_vector)\n",
    "        action_list.append(action_vector)\n",
    "        reward_list.append(reward)\n",
    "        \n",
    "    return state_list, action_list, reward_list"
   ]
  },
  {
   "cell_type": "markdown",
   "metadata": {},
   "source": [
    "### First Visit MC"
   ]
  },
  {
   "cell_type": "code",
   "execution_count": 8,
   "metadata": {},
   "outputs": [],
   "source": [
    "# initialize q values for all state action pairs\n",
    "Q_values = np.zeros((state_count, action_count))"
   ]
  },
  {
   "cell_type": "code",
   "execution_count": 9,
   "metadata": {},
   "outputs": [],
   "source": [
    "# intialize parameters\n",
    "gamma = 0.99\n",
    "epsilon = 0.2"
   ]
  },
  {
   "cell_type": "code",
   "execution_count": 10,
   "metadata": {},
   "outputs": [],
   "source": [
    "# define average function\n",
    "def Average(lst): \n",
    "    return sum(lst) / len(lst) "
   ]
  },
  {
   "cell_type": "code",
   "execution_count": 11,
   "metadata": {},
   "outputs": [],
   "source": [
    "# iterate 500 times: each time, generating an episode of 200 steps\n",
    "max_steps = 200\n",
    "\n",
    "# define variables for keeping track of time steps\n",
    "Terminal = max_steps\n",
    "t_list=[]\n",
    "for i in range(1,max_steps+1):\n",
    "    t = Terminal - i\n",
    "    t_list.append(t)"
   ]
  },
  {
   "cell_type": "code",
   "execution_count": 12,
   "metadata": {},
   "outputs": [],
   "source": [
    "# iteration 500 times\n",
    "for iteration in range(500):\n",
    "  \n",
    "    # generate an episode of specified step count\n",
    "    state_list, action_list, reward_list = generate_episode(max_steps)\n",
    "    \n",
    "#     print(\"state_list: \", state_list)\n",
    "#     print(\"action_list: \", action_list)\n",
    "#     print(\"reward_list: \", reward_list)\n",
    "    \n",
    "    # intialize G\n",
    "    G = 0\n",
    "    \n",
    "    # initiate returns and visited list to none\n",
    "    returns_list = []\n",
    "    visited_list = []\n",
    "\n",
    "    # loop for each step of episode: T-1, T-2, T-3 ... 0 = 199, 198, 197 ... 0\n",
    "    for t in t_list:\n",
    "\n",
    "        # calculate G: starting with the last reward at index t (naturally accounts for pseudocode's \"t-1\")\n",
    "        G = gamma*G + reward_list[t]\n",
    "        # print(G)\n",
    "        \n",
    "        # combine state action pair, for example, state = [0,0], action = [0,1], state_action_pair = [0,0,0,1]\n",
    "        state_action_pair = []\n",
    "        state_action_pair.extend(state_list[t])\n",
    "        state_action_pair.extend(action_list[t])\n",
    "        # print(state_action_pair)\n",
    "\n",
    "        # check if state action pair have been visited before (if not: continue, else: move to the next time step)\n",
    "        if state_action_pair not in visited_list:\n",
    "\n",
    "            # add state action pair to visited list\n",
    "            visited_list.append(state_action_pair)\n",
    "\n",
    "            # append G to returns\n",
    "            returns_list.append(G)\n",
    "\n",
    "            # find state and action index, for example, converting action [-1, 0] to 0, and same for state #\n",
    "            state_index = grid.states.index(state_list[t])\n",
    "            action_index = actions.index(action_list[t])\n",
    "    #         print(\"state_index: \", state_index)\n",
    "\n",
    "            # write Q_values to the state-action pair\n",
    "            Q_values[state_index][action_index] = Average(returns_list)\n",
    "    #         print(\"average return: \", Average(returns_list))\n",
    "\n",
    "            # choose best action at given state\n",
    "            choose_action = np.argmax(Q_values[state_index])\n",
    "\n",
    "            # overwrite policy\n",
    "            for a in range(action_count): # for action in actions [0, 1, 2, 3]\n",
    "                if choose_action == a: # if the choose_action is the same as the current action\n",
    "                    policy[state_index][a] = 1 - epsilon + epsilon/action_count \n",
    "                else: # if choose_action is not the same as the current action\n",
    "                    policy[state_index][a] = epsilon/action_count"
   ]
  },
  {
   "cell_type": "code",
   "execution_count": 13,
   "metadata": {},
   "outputs": [
    {
     "name": "stdout",
     "output_type": "stream",
     "text": [
      "29\n"
     ]
    }
   ],
   "source": [
    "# total unique state action pairs at the end of one episode\n",
    "print(len(visited_list))"
   ]
  },
  {
   "cell_type": "code",
   "execution_count": 14,
   "metadata": {},
   "outputs": [
    {
     "data": {
      "text/plain": [
       "array([[ 1.33635751e+00,  9.64007527e-01, -4.80968072e+00,\n",
       "        -5.25534815e+00],\n",
       "       [-7.44869716e+00, -2.77053487e+00, -1.65205150e+01,\n",
       "        -1.76672317e+01],\n",
       "       [-1.00000000e+00, -8.96906046e+00,  9.73461027e+00,\n",
       "        -1.75772396e+00],\n",
       "       [-8.94994963e+00,  1.65008317e-02,  1.25341756e+01,\n",
       "         1.56481833e+01],\n",
       "       [-1.41166492e+01, -4.14837661e+00, -1.48893507e+01,\n",
       "        -1.39088985e+01],\n",
       "       [-5.90783952e+00, -6.98766962e+00,  0.00000000e+00,\n",
       "        -2.10543289e+01],\n",
       "       [-1.64013779e+01,  8.03266448e+00,  1.20682295e+01,\n",
       "        -6.47166459e+00],\n",
       "       [ 1.03954757e+01,  6.92208782e+00,  1.14494033e+01,\n",
       "         8.95680703e+00],\n",
       "       [ 5.85430706e-01, -1.50631460e+01, -7.42525000e-01,\n",
       "         0.00000000e+00],\n",
       "       [-1.44881736e+01, -1.48605790e+01, -3.02144205e+01,\n",
       "        -1.50016705e+01],\n",
       "       [ 0.00000000e+00, -1.66617694e+01,  0.00000000e+00,\n",
       "        -1.61283166e+01],\n",
       "       [ 1.17808436e+01, -1.90625012e+01,  0.00000000e+00,\n",
       "         0.00000000e+00],\n",
       "       [ 1.09614532e+01, -8.96746147e+00, -1.92915083e+01,\n",
       "        -1.88130567e+01],\n",
       "       [-7.88079800e-01, -6.63333333e-01,  1.35499351e+01,\n",
       "         1.21914845e+01],\n",
       "       [-3.10933899e+01, -5.00000000e-01,  0.00000000e+00,\n",
       "        -3.37627579e+01],\n",
       "       [-1.57820251e+01,  0.00000000e+00, -1.21318243e+00,\n",
       "        -4.94039900e-01],\n",
       "       [-1.35556346e+01, -1.84817625e+01,  0.00000000e+00,\n",
       "        -2.21050826e+01],\n",
       "       [-8.92673632e+00,  1.87845103e+01,  0.00000000e+00,\n",
       "         0.00000000e+00],\n",
       "       [ 2.72562044e+00, -1.79317540e-01,  2.86970298e+01,\n",
       "        -1.50734599e-01],\n",
       "       [-3.24385029e+01,  5.56894229e+00, -3.44878824e+01,\n",
       "         4.37053807e+00],\n",
       "       [-7.26146670e-02, -1.81663949e+01, -1.62930059e+00,\n",
       "        -1.55277083e+01],\n",
       "       [-3.31742748e+00,  0.00000000e+00, -1.42857143e-01,\n",
       "        -1.03985216e-01],\n",
       "       [ 2.16335631e+01,  0.00000000e+00, -3.84615385e-02,\n",
       "        -1.32864352e-01],\n",
       "       [-2.47114047e+01, -3.45763560e+01,  2.65618302e+01,\n",
       "         2.42288384e+01],\n",
       "       [ 3.06257220e+01, -3.40868081e+01, -3.35581184e+01,\n",
       "        -8.92639441e+00]])"
      ]
     },
     "execution_count": 14,
     "metadata": {},
     "output_type": "execute_result"
    }
   ],
   "source": [
    "Q_values"
   ]
  },
  {
   "cell_type": "code",
   "execution_count": 15,
   "metadata": {},
   "outputs": [
    {
     "data": {
      "text/plain": [
       "array([[0.85, 0.05, 0.05, 0.05],\n",
       "       [0.05, 0.85, 0.05, 0.05],\n",
       "       [0.05, 0.05, 0.85, 0.05],\n",
       "       [0.05, 0.05, 0.05, 0.85],\n",
       "       [0.05, 0.85, 0.05, 0.05],\n",
       "       [0.05, 0.05, 0.85, 0.05],\n",
       "       [0.05, 0.05, 0.85, 0.05],\n",
       "       [0.05, 0.05, 0.85, 0.05],\n",
       "       [0.85, 0.05, 0.05, 0.05],\n",
       "       [0.85, 0.05, 0.05, 0.05],\n",
       "       [0.85, 0.05, 0.05, 0.05],\n",
       "       [0.85, 0.05, 0.05, 0.05],\n",
       "       [0.85, 0.05, 0.05, 0.05],\n",
       "       [0.05, 0.05, 0.85, 0.05],\n",
       "       [0.05, 0.05, 0.85, 0.05],\n",
       "       [0.05, 0.85, 0.05, 0.05],\n",
       "       [0.05, 0.05, 0.85, 0.05],\n",
       "       [0.05, 0.85, 0.05, 0.05],\n",
       "       [0.05, 0.05, 0.85, 0.05],\n",
       "       [0.05, 0.85, 0.05, 0.05],\n",
       "       [0.85, 0.05, 0.05, 0.05],\n",
       "       [0.05, 0.85, 0.05, 0.05],\n",
       "       [0.85, 0.05, 0.05, 0.05],\n",
       "       [0.05, 0.05, 0.85, 0.05],\n",
       "       [0.85, 0.05, 0.05, 0.05]])"
      ]
     },
     "execution_count": 15,
     "metadata": {},
     "output_type": "execute_result"
    }
   ],
   "source": [
    "#up, right, down, left = (clockwise from up) \n",
    "policy"
   ]
  },
  {
   "cell_type": "markdown",
   "metadata": {},
   "source": [
    "## Visualize "
   ]
  },
  {
   "cell_type": "code",
   "execution_count": 16,
   "metadata": {},
   "outputs": [
    {
     "name": "stdout",
     "output_type": "stream",
     "text": [
      "Policy Table: \n",
      "       0      1      2     3      4\n",
      "0     up  right   down  left  right\n",
      "1   down   down   down    up     up\n",
      "2     up     up     up  down   down\n",
      "3  right   down  right  down  right\n",
      "4     up  right     up  down     up\n",
      "\n"
     ]
    }
   ],
   "source": [
    "# PRINT POLICY TABLE ################################################################################\n",
    "# import pandas library\n",
    "import pandas as pd\n",
    "# define column and index\n",
    "columns=range(grid.size)\n",
    "index = range(grid.size)\n",
    "# define dataframe to represent policy table\n",
    "policy_table = pd.DataFrame(index = index, columns=columns)\n",
    "\n",
    "# iterate through policy to make a table that represents action number\n",
    "# as action name (eg. left, right, up, down)\n",
    "for state in range(len(policy)):\n",
    "    \n",
    "    # find the best action at each state\n",
    "    best_action = np.argmax(policy[state])\n",
    "\n",
    "    # get action name\n",
    "    if best_action == 0:\n",
    "        action_name = 'up'\n",
    "    elif best_action == 1:\n",
    "        action_name = 'right'\n",
    "    elif best_action == 2:\n",
    "        action_name = 'down'\n",
    "    else:\n",
    "        action_name = 'left'\n",
    "\n",
    "    # calculate the row and column coordinate of the current state number\n",
    "    row = int(state/grid.size)\n",
    "    column = round((state/grid.size - int(state/grid.size))*grid.size)\n",
    "            \n",
    "    # assign action name\n",
    "    policy_table.loc[row][column] = action_name\n",
    "\n",
    "print(\"Policy Table: \")\n",
    "print(policy_table)\n",
    "print()"
   ]
  }
 ],
 "metadata": {
  "kernelspec": {
   "display_name": "Python 3",
   "language": "python",
   "name": "python3"
  },
  "language_info": {
   "codemirror_mode": {
    "name": "ipython",
    "version": 3
   },
   "file_extension": ".py",
   "mimetype": "text/x-python",
   "name": "python",
   "nbconvert_exporter": "python",
   "pygments_lexer": "ipython3",
   "version": "3.5.2"
  }
 },
 "nbformat": 4,
 "nbformat_minor": 4
}
