{
 "cells": [
  {
   "cell_type": "markdown",
   "metadata": {},
   "source": [
    "# Gridworld with First Visit"
   ]
  },
  {
   "cell_type": "code",
   "execution_count": 1,
   "metadata": {},
   "outputs": [],
   "source": [
    "import numpy as np\n",
    "import matplotlib.pyplot as plt\n",
    "\n",
    "# display output\n",
    "from random import uniform\n",
    "import random\n",
    "import time\n",
    "from IPython.display import display, clear_output"
   ]
  },
  {
   "cell_type": "code",
   "execution_count": 2,
   "metadata": {},
   "outputs": [],
   "source": [
    "actions = [[-1, 0], [0, 1], [1, 0], [0, -1]] #up, right, down, left = (clockwise from up) \n",
    "action_count = len(actions) # total number of actions\n",
    "gridSize = 5 # create a square grid of gridSize by gridSize\n",
    "state_count = gridSize*gridSize # total number of states"
   ]
  },
  {
   "cell_type": "code",
   "execution_count": 3,
   "metadata": {},
   "outputs": [],
   "source": [
    "class Gridworld():\n",
    "    def __init__(self, gridSize):\n",
    "        self.valueMap = np.zeros((gridSize, gridSize))\n",
    "        self.states = [[i, j] for i in range(gridSize) for j in range(gridSize)]\n",
    "        self.size = gridSize\n",
    "        self.new_pos = [0, 0] # initialize new position for p_transition\n",
    "        self.transition_prob = 1 # deterministic\n",
    "    \n",
    "    def initial_state(self):        # return initial state\n",
    "        return grid.states[gridSize*gridSize-1]\n",
    "   \n",
    "    def transition_reward(self, current_pos, action): # return the transition probability\n",
    "\n",
    "        # get next position: state: [0, 0], action: [0, 1], new_state = [0, 1]\n",
    "        self.new_pos = np.array(current_pos) + np.array(action)\n",
    "\n",
    "        # normally, reward = 0\n",
    "        reward = 0\n",
    "\n",
    "        # if new pos results in off the grid, return reward -1\n",
    "        if -1 in self.new_pos or self.size in self.new_pos:\n",
    "            reward = -1\n",
    "        # if in state A, receive + 10\n",
    "        if current_pos == [0, 1]:\n",
    "            reward = 10\n",
    "        # if in state B, receive + 5\n",
    "        if current_pos == [0, 3]:\n",
    "            reward = 5\n",
    "\n",
    "        # if taking an action crosses the border; agent's new_pos is the same as the current pos\n",
    "        if -1 in self.new_pos or self.size in self.new_pos: \n",
    "            self.new_pos = current_pos\n",
    "            \n",
    "        # if in state A, transition to state A'\n",
    "        if current_pos == [0, 1]:\n",
    "            self.new_pos = [4, 1]\n",
    "            \n",
    "        # if in state B, transition to state B'\n",
    "        if current_pos == [0, 3]:\n",
    "            self.new_pos = [2, 3]\n",
    "\n",
    "        return self.new_pos, reward"
   ]
  },
  {
   "cell_type": "markdown",
   "metadata": {},
   "source": [
    "## First-visit MC Control "
   ]
  },
  {
   "cell_type": "code",
   "execution_count": 4,
   "metadata": {},
   "outputs": [],
   "source": [
    "# create a grid object\n",
    "grid = Gridworld(5)"
   ]
  },
  {
   "cell_type": "code",
   "execution_count": 5,
   "metadata": {},
   "outputs": [],
   "source": [
    "# Initiate a random policy\n",
    "random_policy = np.random.randint(1000, size=(state_count, action_count))\n",
    "random_policy = random_policy/random_policy.sum(axis=1)[:,None]\n",
    "policy = random_policy"
   ]
  },
  {
   "cell_type": "code",
   "execution_count": 6,
   "metadata": {},
   "outputs": [
    {
     "data": {
      "text/plain": [
       "array([[0.20317146, 0.09514371, 0.54707631, 0.15460852],\n",
       "       [0.01182732, 0.40626848, 0.03370787, 0.54819633],\n",
       "       [0.45153934, 0.11801596, 0.0604333 , 0.3700114 ],\n",
       "       [0.27956004, 0.45462878, 0.26581118, 0.        ],\n",
       "       [0.02796053, 0.53536184, 0.21134868, 0.22532895],\n",
       "       [0.38801712, 0.40180694, 0.02757965, 0.18259629],\n",
       "       [0.20774065, 0.29507112, 0.29474032, 0.2024479 ],\n",
       "       [0.58599222, 0.01867704, 0.08326848, 0.31206226],\n",
       "       [0.19132501, 0.47890671, 0.1503268 , 0.17944147],\n",
       "       [0.12368024, 0.1892911 , 0.02111614, 0.66591252],\n",
       "       [0.31534434, 0.03302457, 0.33709223, 0.31453886],\n",
       "       [0.33294664, 0.12683681, 0.35382831, 0.18638824],\n",
       "       [0.21068249, 0.24510386, 0.29525223, 0.24896142],\n",
       "       [0.1746685 , 0.45084591, 0.12894376, 0.24554184],\n",
       "       [0.062     , 0.566     , 0.154     , 0.218     ],\n",
       "       [0.08477237, 0.19387755, 0.        , 0.72135008],\n",
       "       [0.26519634, 0.26304465, 0.21247983, 0.25927918],\n",
       "       [0.36074961, 0.08485164, 0.38469547, 0.16970328],\n",
       "       [0.24277674, 0.25816135, 0.26979362, 0.22926829],\n",
       "       [0.28337062, 0.3158091 , 0.20656227, 0.19425802],\n",
       "       [0.1436673 , 0.11153119, 0.39634531, 0.34845621],\n",
       "       [0.40210177, 0.27986726, 0.24004425, 0.07798673],\n",
       "       [0.60875912, 0.07518248, 0.0270073 , 0.28905109],\n",
       "       [0.22289157, 0.12349398, 0.5060241 , 0.14759036],\n",
       "       [0.11859528, 0.38572251, 0.25158319, 0.24409902]])"
      ]
     },
     "execution_count": 6,
     "metadata": {},
     "output_type": "execute_result"
    }
   ],
   "source": [
    "# random policy\n",
    "policy"
   ]
  },
  {
   "cell_type": "markdown",
   "metadata": {},
   "source": [
    "### Create an Episode following Policy"
   ]
  },
  {
   "cell_type": "code",
   "execution_count": 7,
   "metadata": {},
   "outputs": [],
   "source": [
    "def generate_episode(steps):\n",
    "\n",
    "    # set initial state\n",
    "    state_vector = grid.initial_state()\n",
    "\n",
    "    # initialize state (with iniitial state), action list and reward list\n",
    "    state_list = [state_vector]\n",
    "    action_list = []\n",
    "    reward_list = []\n",
    "\n",
    "    # generate an episode\n",
    "    for i in range(steps):\n",
    "\n",
    "        # pick an action based on categorical distribution in policy\n",
    "        action_index = int(np.random.choice(action_count, 1, p=policy[grid.states.index(state_vector)])) \n",
    "        action_vector = actions[action_index] # convert the integer index (ie. 0) to action (ie. [-1, 0])\n",
    "\n",
    "        # get new state and reward after taking action from current state\n",
    "        new_state_vector, reward = grid.transition_reward(state_vector, action_vector)\n",
    "        state_vector = list(new_state_vector)\n",
    "\n",
    "        # save state, action chosen and reward to list\n",
    "        state_list.append(state_vector)\n",
    "        action_list.append(action_vector)\n",
    "        reward_list.append(reward)\n",
    "        \n",
    "    return state_list, action_list, reward_list"
   ]
  },
  {
   "cell_type": "markdown",
   "metadata": {},
   "source": [
    "### First Visit MC"
   ]
  },
  {
   "cell_type": "code",
   "execution_count": 8,
   "metadata": {},
   "outputs": [],
   "source": [
    "# initialize q values for all state action pairs\n",
    "Q_values = np.zeros((state_count, action_count))"
   ]
  },
  {
   "cell_type": "code",
   "execution_count": 9,
   "metadata": {},
   "outputs": [],
   "source": [
    "# intialize parameters\n",
    "gamma = 0.99\n",
    "epsilon = 0.1"
   ]
  },
  {
   "cell_type": "code",
   "execution_count": 10,
   "metadata": {},
   "outputs": [],
   "source": [
    "# define average function\n",
    "def Average(lst): \n",
    "    return sum(lst) / len(lst) "
   ]
  },
  {
   "cell_type": "code",
   "execution_count": 11,
   "metadata": {},
   "outputs": [],
   "source": [
    "# iterate 500 times: each time, generating an episode of 200 steps\n",
    "max_steps = 200\n",
    "\n",
    "# define variables for keeping track of time steps\n",
    "Terminal = max_steps\n",
    "t_list=[]\n",
    "for i in range(1,max_steps+1):\n",
    "    t = Terminal - i\n",
    "    t_list.append(t)"
   ]
  },
  {
   "cell_type": "code",
   "execution_count": 12,
   "metadata": {},
   "outputs": [],
   "source": [
    "average_reward_list = []\n",
    "cumulative_reward_list = []\n",
    "cumulative_reward = 0\n",
    "delta_list = []\n",
    "\n",
    "# iteration 500 times\n",
    "for iteration in range(500):\n",
    "  \n",
    "    # generate an episode of specified step count\n",
    "    state_list, action_list, reward_list = generate_episode(max_steps)\n",
    "    \n",
    "    # calculate average reward of each episode\n",
    "    average_reward_list.append(Average(reward_list))\n",
    "    \n",
    "    # obtain cumulative reward for plotting\n",
    "    cumulative_reward = cumulative_reward + sum(reward_list)\n",
    "    cumulative_reward_list.append(cumulative_reward)\n",
    "\n",
    "    # intialize variables\n",
    "    G = 0\n",
    "    delta = 0\n",
    "    \n",
    "    # initiate returns and visited list to none\n",
    "    returns_list = []\n",
    "    visited_list = []\n",
    "\n",
    "    # loop for each step of episode: T-1, T-2, T-3 ... 0 = 199, 198, 197 ... 0\n",
    "    for t in t_list:\n",
    "\n",
    "        # calculate G: starting with the last reward at index t (naturally accounts for pseudocode's \"t-1\")\n",
    "        G = gamma*G + reward_list[t]\n",
    "        \n",
    "        # combine state action pair, for example, state = [0,0], action = [0,1], state_action_pair = [0,0,0,1]\n",
    "        state_action_pair = []\n",
    "        state_action_pair.extend(state_list[t])\n",
    "        state_action_pair.extend(action_list[t])\n",
    "\n",
    "        # check if state action pair have been visited before (if not: continue, else: move to the next time step)\n",
    "        if state_action_pair not in visited_list:\n",
    "\n",
    "            # add state action pair to visited list\n",
    "            visited_list.append(state_action_pair)\n",
    "\n",
    "            # append G to returns\n",
    "            returns_list.append(G)\n",
    "\n",
    "            # find state and action index, for example, converting action [-1, 0] to 0, and same for state #\n",
    "            state_index = grid.states.index(state_list[t])\n",
    "            action_index = actions.index(action_list[t])\n",
    "\n",
    "            # calculate max delta change for plotting max q value change\n",
    "            delta = max(delta, np.abs(Average(returns_list) - Q_values[state_index][action_index]))      \n",
    "            \n",
    "            # write Q_values to the state-action pair\n",
    "            Q_values[state_index][action_index] = Average(returns_list)\n",
    "\n",
    "            # choose best action at given state\n",
    "            choose_action = np.argmax(Q_values[state_index])\n",
    "\n",
    "            # overwrite policy\n",
    "            for a in range(action_count): # for action in actions [0, 1, 2, 3]\n",
    "                if choose_action == a: # if the choose_action is the same as the current action\n",
    "                    policy[state_index][a] = 1 - epsilon + epsilon/action_count \n",
    "                else: # if choose_action is not the same as the current action\n",
    "                    policy[state_index][a] = epsilon/action_count\n",
    "    \n",
    "    # append delta to list\n",
    "    delta_list.append(delta)"
   ]
  },
  {
   "cell_type": "code",
   "execution_count": 13,
   "metadata": {},
   "outputs": [
    {
     "data": {
      "text/plain": [
       "Text(0, 0.5, 'Max Delta')"
      ]
     },
     "execution_count": 13,
     "metadata": {},
     "output_type": "execute_result"
    },
    {
     "data": {
      "image/png": "[encoded data removed]",
      "text/plain": [
       "<Figure size 432x288 with 1 Axes>"
      ]
     },
     "metadata": {
      "needs_background": "light"
     },
     "output_type": "display_data"
    }
   ],
   "source": [
    "# max delta of each episode, where delta is the change in Q values\n",
    "plt.plot(delta_list)\n",
    "plt.title('Max Delta per Episode during Training')\n",
    "plt.xlabel('Episode')\n",
    "plt.ylabel('Max Delta')"
   ]
  },
  {
   "cell_type": "code",
   "execution_count": 14,
   "metadata": {},
   "outputs": [
    {
     "data": {
      "text/plain": [
       "Text(0, 0.5, 'Average Reward')"
      ]
     },
     "execution_count": 14,
     "metadata": {},
     "output_type": "execute_result"
    },
    {
     "data": {
      "image/png": "[encoded data removed]",
      "text/plain": [
       "<Figure size 432x288 with 1 Axes>"
      ]
     },
     "metadata": {
      "needs_background": "light"
     },
     "output_type": "display_data"
    }
   ],
   "source": [
    "# average reward per episode\n",
    "plt.plot(average_reward_list)\n",
    "plt.title('Average Reward per Episode during Training')\n",
    "plt.xlabel('Episode')\n",
    "plt.ylabel('Average Reward')"
   ]
  },
  {
   "cell_type": "code",
   "execution_count": 15,
   "metadata": {},
   "outputs": [
    {
     "data": {
      "text/plain": [
       "Text(0, 0.5, 'Cumulative Reward')"
      ]
     },
     "execution_count": 15,
     "metadata": {},
     "output_type": "execute_result"
    },
    {
     "data": {
      "image/png": "[encoded data removed]",
      "text/plain": [
       "<Figure size 432x288 with 1 Axes>"
      ]
     },
     "metadata": {
      "needs_background": "light"
     },
     "output_type": "display_data"
    }
   ],
   "source": [
    "# cumulative reward per episode\n",
    "plt.plot(cumulative_reward_list)\n",
    "plt.title('Cumulative Reward per Episode during Training')\n",
    "plt.xlabel('Episode')\n",
    "plt.ylabel('Cumulative Reward')"
   ]
  },
  {
   "cell_type": "code",
   "execution_count": 16,
   "metadata": {},
   "outputs": [
    {
     "name": "stdout",
     "output_type": "stream",
     "text": [
      "7\n"
     ]
    }
   ],
   "source": [
    "# total unique state action pairs at the end of one episode\n",
    "print(len(visited_list))"
   ]
  },
  {
   "cell_type": "code",
   "execution_count": 17,
   "metadata": {},
   "outputs": [
    {
     "data": {
      "text/plain": [
       "array([[-1.76e+01, -1.62e+01, -1.50e+01, -7.06e+00],\n",
       "       [-1.41e+01, -1.68e+01, -4.13e+00, -1.08e+01],\n",
       "       [-1.80e+01, -2.17e+01, -1.36e+01, -3.59e+01],\n",
       "       [-1.91e+01, -2.14e+01, -3.04e+01, -1.93e+01],\n",
       "       [-1.00e+00, -1.28e+01,  5.43e-01, -2.98e+01],\n",
       "       [-1.56e+01, -2.42e+01, -1.11e+01, -2.43e+01],\n",
       "       [-2.16e-02, -1.29e+01, -1.23e+01, -1.45e+01],\n",
       "       [-1.33e+01, -2.40e+01, -3.25e+01, -1.41e+01],\n",
       "       [-2.00e+01, -2.39e+01, -3.40e+00, -2.51e+00],\n",
       "       [-2.11e+01, -2.10e+01, -2.38e+01, -2.08e+01],\n",
       "       [-1.02e+01, -2.75e+01, -2.95e+01, -2.60e+01],\n",
       "       [-1.26e+01, -1.17e+01, -1.73e+00, -9.72e+00],\n",
       "       [-1.59e+01, -3.26e+01, -2.30e+01, -1.20e+01],\n",
       "       [-2.13e+01, -1.79e+01, -2.04e+01, -2.33e+01],\n",
       "       [-2.15e+01, -2.13e+01, -3.09e+01, -2.36e+01],\n",
       "       [-2.86e+01, -1.71e+00, -1.74e+00, -1.60e+00],\n",
       "       [-9.25e+00, -2.18e+01, -3.68e+01, -1.75e+00],\n",
       "       [-1.14e+01, -2.09e+01, -1.66e+01, -8.80e+00],\n",
       "       [-2.07e+01, -1.64e+01, -1.16e+01, -3.29e+01],\n",
       "       [-1.52e+01, -1.73e+01, -9.10e+00, -3.02e+01],\n",
       "       [-3.05e+01, -3.48e+01, -3.15e+01, -3.27e+01],\n",
       "       [-3.72e+01, -1.76e+01, -2.28e+01, -3.38e+01],\n",
       "       [-1.72e+01, -7.12e+00, -1.37e+01, -3.74e+01],\n",
       "       [-1.29e+01, -2.00e+01, -1.01e+01, -7.76e+00],\n",
       "       [-1.17e+01, -1.00e+00, -1.34e+01, -2.19e+01]])"
      ]
     },
     "execution_count": 17,
     "metadata": {},
     "output_type": "execute_result"
    }
   ],
   "source": [
    "np.set_printoptions(precision=2)\n",
    "Q_values"
   ]
  },
  {
   "cell_type": "code",
   "execution_count": 18,
   "metadata": {},
   "outputs": [
    {
     "data": {
      "text/plain": [
       "array([[0.05, 0.05, 0.05, 0.85],\n",
       "       [0.05, 0.05, 0.85, 0.05],\n",
       "       [0.05, 0.05, 0.85, 0.05],\n",
       "       [0.85, 0.05, 0.05, 0.05],\n",
       "       [0.05, 0.05, 0.85, 0.05],\n",
       "       [0.05, 0.05, 0.85, 0.05],\n",
       "       [0.85, 0.05, 0.05, 0.05],\n",
       "       [0.85, 0.05, 0.05, 0.05],\n",
       "       [0.05, 0.05, 0.05, 0.85],\n",
       "       [0.05, 0.05, 0.05, 0.85],\n",
       "       [0.85, 0.05, 0.05, 0.05],\n",
       "       [0.05, 0.05, 0.85, 0.05],\n",
       "       [0.05, 0.05, 0.05, 0.85],\n",
       "       [0.05, 0.85, 0.05, 0.05],\n",
       "       [0.05, 0.85, 0.05, 0.05],\n",
       "       [0.05, 0.05, 0.05, 0.85],\n",
       "       [0.05, 0.05, 0.05, 0.85],\n",
       "       [0.05, 0.05, 0.05, 0.85],\n",
       "       [0.05, 0.05, 0.85, 0.05],\n",
       "       [0.05, 0.05, 0.85, 0.05],\n",
       "       [0.85, 0.05, 0.05, 0.05],\n",
       "       [0.05, 0.85, 0.05, 0.05],\n",
       "       [0.05, 0.85, 0.05, 0.05],\n",
       "       [0.05, 0.05, 0.05, 0.85],\n",
       "       [0.05, 0.85, 0.05, 0.05]])"
      ]
     },
     "execution_count": 18,
     "metadata": {},
     "output_type": "execute_result"
    }
   ],
   "source": [
    "#up, right, down, left = (clockwise from up) \n",
    "policy"
   ]
  },
  {
   "cell_type": "markdown",
   "metadata": {},
   "source": [
    "## Visualize "
   ]
  },
  {
   "cell_type": "code",
   "execution_count": 19,
   "metadata": {},
   "outputs": [
    {
     "name": "stdout",
     "output_type": "stream",
     "text": [
      "Policy Table: \n",
      "      0      1      2      3      4\n",
      "0  left   down   down     up   down\n",
      "1  down     up     up   left   left\n",
      "2    up   down   left  right  right\n",
      "3  left   left   left   down   down\n",
      "4    up  right  right   left  right\n",
      "\n"
     ]
    }
   ],
   "source": [
    "# PRINT POLICY TABLE ################################################################################\n",
    "# import pandas library\n",
    "import pandas as pd\n",
    "# define column and index\n",
    "columns=range(grid.size)\n",
    "index = range(grid.size)\n",
    "# define dataframe to represent policy table\n",
    "policy_table = pd.DataFrame(index = index, columns=columns)\n",
    "\n",
    "# iterate through policy to make a table that represents action number\n",
    "# as action name (eg. left, right, up, down)\n",
    "for state in range(len(policy)):\n",
    "    \n",
    "    # find the best action at each state\n",
    "    best_action = np.argmax(policy[state])\n",
    "\n",
    "    # get action name\n",
    "    if best_action == 0:\n",
    "        action_name = 'up'\n",
    "    elif best_action == 1:\n",
    "        action_name = 'right'\n",
    "    elif best_action == 2:\n",
    "        action_name = 'down'\n",
    "    else:\n",
    "        action_name = 'left'\n",
    "\n",
    "    # calculate the row and column coordinate of the current state number\n",
    "    row = int(state/grid.size)\n",
    "    column = round((state/grid.size - int(state/grid.size))*grid.size)\n",
    "            \n",
    "    # assign action name\n",
    "    policy_table.loc[row][column] = action_name\n",
    "\n",
    "print(\"Policy Table: \")\n",
    "print(policy_table)\n",
    "print()"
   ]
  }
 ],
 "metadata": {
  "kernelspec": {
   "display_name": "Python 3",
   "language": "python",
   "name": "python3"
  },
  "language_info": {
   "codemirror_mode": {
    "name": "ipython",
    "version": 3
   },
   "file_extension": ".py",
   "mimetype": "text/x-python",
   "name": "python",
   "nbconvert_exporter": "python",
   "pygments_lexer": "ipython3",
   "version": "3.5.2"
  }
 },
 "nbformat": 4,
 "nbformat_minor": 4
}
