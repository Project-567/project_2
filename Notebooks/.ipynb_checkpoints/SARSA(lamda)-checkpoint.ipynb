{
 "cells": [
  {
   "cell_type": "markdown",
   "metadata": {},
   "source": [
    "# SARSA(lambda)"
   ]
  },
  {
   "cell_type": "code",
   "execution_count": 1,
   "metadata": {},
   "outputs": [],
   "source": [
    "# Find the value function of policy\n",
    "import numpy as np\n",
    "\n",
    "# display output\n",
    "import random\n",
    "from random import uniform\n",
    "import time\n",
    "from IPython.display import display, clear_output"
   ]
  },
  {
   "cell_type": "code",
   "execution_count": 2,
   "metadata": {},
   "outputs": [],
   "source": [
    "actions = [[-1, 0], [0, 1], [1, 0], [0, -1]] #up, right, down, left = (clockwise from up) \n",
    "action_count = len(actions) # total number of actions\n",
    "gridSize = 5 # create a square grid of gridSize by gridSize\n",
    "state_count = gridSize*gridSize # total number of states"
   ]
  },
  {
   "cell_type": "code",
   "execution_count": 3,
   "metadata": {},
   "outputs": [],
   "source": [
    "class Gridworld():\n",
    "    def __init__(self, gridSize):\n",
    "        self.valueMap = np.zeros((gridSize, gridSize))\n",
    "        self.states = [[i, j] for i in range(gridSize) for j in range(gridSize)]\n",
    "        self.size = gridSize\n",
    "        self.new_pos = [0, 0] # initialize new position for p_transition\n",
    "        self.transition_prob = 1 # deterministic\n",
    "    \n",
    "    def initial_state(self):        # return initial state\n",
    "        return grid.states[gridSize*gridSize-1]\n",
    "   \n",
    "    def transition_reward(self, current_pos, action): # return the transition probability\n",
    "\n",
    "        # get next position: state: [0, 0], action: [0, 1], new_state = [0, 1]\n",
    "        self.new_pos = np.array(current_pos) + np.array(action)\n",
    "\n",
    "        # normally, reward = 0\n",
    "        reward = 0\n",
    "\n",
    "        # if new pos results in off the grid, return reward -1\n",
    "        if -1 in self.new_pos or self.size in self.new_pos:\n",
    "            reward = -1\n",
    "        # if in state A, receive + 10\n",
    "        if current_pos == [0, 1]:\n",
    "            reward = 10\n",
    "        # if in state B, receive + 5\n",
    "        if current_pos == [0, 3]:\n",
    "            reward = 5\n",
    "\n",
    "        # if taking an action crosses the border; agent's new_pos is the same as the current pos\n",
    "        if -1 in self.new_pos or self.size in self.new_pos: \n",
    "            self.new_pos = current_pos\n",
    "            \n",
    "        # if in state A, transition to state A'\n",
    "        if current_pos == [0, 1]:\n",
    "            self.new_pos = [4, 1]\n",
    "            \n",
    "        # if in state B, transition to state B'\n",
    "        if current_pos == [0, 3]:\n",
    "            self.new_pos = [2, 3]\n",
    "\n",
    "        return self.new_pos, reward"
   ]
  },
  {
   "cell_type": "code",
   "execution_count": 4,
   "metadata": {},
   "outputs": [],
   "source": [
    "# create a grid object\n",
    "grid = Gridworld(5)"
   ]
  },
  {
   "cell_type": "code",
   "execution_count": 5,
   "metadata": {},
   "outputs": [
    {
     "data": {
      "text/plain": [
       "[4, 4]"
      ]
     },
     "execution_count": 5,
     "metadata": {},
     "output_type": "execute_result"
    }
   ],
   "source": [
    "# get initial state (bottom right)\n",
    "grid.initial_state()"
   ]
  },
  {
   "cell_type": "markdown",
   "metadata": {},
   "source": [
    "### SARSA(Lamda)"
   ]
  },
  {
   "cell_type": "code",
   "execution_count": 6,
   "metadata": {},
   "outputs": [
    {
     "data": {
      "text/plain": [
       "array([[812, 956, 618, 304],\n",
       "       [848, 840, 479, 487],\n",
       "       [536, 876, 133, 449],\n",
       "       [595, 773, 757, 691],\n",
       "       [189, 252, 219, 304],\n",
       "       [926, 957, 878, 357],\n",
       "       [  6, 297, 294, 771],\n",
       "       [920, 341, 423, 157],\n",
       "       [707, 568, 687,  12],\n",
       "       [846,  14, 370, 116],\n",
       "       [ 96, 435, 478, 896],\n",
       "       [511,  67, 839, 929],\n",
       "       [473, 591, 971, 972],\n",
       "       [205, 424, 817, 386],\n",
       "       [307, 352, 827, 783],\n",
       "       [235, 436, 924, 342],\n",
       "       [511, 561,  86, 877],\n",
       "       [861, 362, 926, 834],\n",
       "       [734, 719, 576, 234],\n",
       "       [605,  88, 978, 455],\n",
       "       [737, 675, 176, 834],\n",
       "       [879, 666, 723, 386],\n",
       "       [468, 818, 972, 191],\n",
       "       [459, 960, 366,  23],\n",
       "       [ 51, 442, 276, 216]])"
      ]
     },
     "execution_count": 6,
     "metadata": {},
     "output_type": "execute_result"
    }
   ],
   "source": [
    "# initialize q values for all state action pairs\n",
    "Q_values = np.random.randint(0,1000,size = (state_count, action_count))\n",
    "Q_values"
   ]
  },
  {
   "cell_type": "code",
   "execution_count": 7,
   "metadata": {},
   "outputs": [],
   "source": [
    "# intialize parameters\n",
    "gamma = 0.99\n",
    "epsilon = 0.8\n",
    "lamda = 0.9\n",
    "alpha = 0.1"
   ]
  },
  {
   "cell_type": "code",
   "execution_count": 8,
   "metadata": {},
   "outputs": [],
   "source": [
    "# iterate 500 times: each time, generating an episode of 200 steps\n",
    "max_steps = 200\n",
    "\n",
    "# define variables for keeping track of time steps\n",
    "Terminal = max_steps\n",
    "t_list=[]\n",
    "for i in range(1,max_steps+1):\n",
    "    t = Terminal - i\n",
    "    t_list.append(t)"
   ]
  },
  {
   "cell_type": "code",
   "execution_count": 9,
   "metadata": {},
   "outputs": [],
   "source": [
    "def choose_action(state, epsilon):\n",
    "    \n",
    "    # choose an action type: explore or exploit\n",
    "    action_type = int(np.random.choice(2, 1, p=[epsilon,1-epsilon]))\n",
    "\n",
    "    # find best action based on Q values\n",
    "    best_action_index = np.argmax(Q_values[state])\n",
    "\n",
    "    # pick a random action\n",
    "    random_action_index = random.choice(range(4))\n",
    "\n",
    "    # choose an action based on exploit or explore\n",
    "    if action_type == 0:\n",
    "        \n",
    "        # while random action is the same as the best action, pick a new action\n",
    "        while random_action_index == best_action_index:\n",
    "            random_action_index = random.choice(range(4))\n",
    "        \n",
    "        # explore\n",
    "        # print(\"explore\")\n",
    "        action_index = random_action_index\n",
    "    else:\n",
    "        # exploit\n",
    "        # print(\"exploit\")\n",
    "        action_index = best_action_index\n",
    "        \n",
    "    return action_index"
   ]
  },
  {
   "cell_type": "code",
   "execution_count": 11,
   "metadata": {},
   "outputs": [],
   "source": [
    "# initialize q values for all state action pairs\n",
    "Q_values = np.zeros((state_count, action_count))"
   ]
  },
  {
   "cell_type": "code",
   "execution_count": 12,
   "metadata": {},
   "outputs": [],
   "source": [
    "# iteration 500 times\n",
    "for iteration in range(500):\n",
    "    \n",
    "    # initialize delta\n",
    "    delta = 0\n",
    "    \n",
    "    # initialize S,A (? should i choose an Action using epsilon-greedy here or just select an Action?)\n",
    "    state_vector = grid.initial_state()\n",
    "    state_index = grid.states.index(state_vector)\n",
    "    \n",
    "    # initialize  eligibility traces for all state action pairs of all states to 0\n",
    "    z_values = np.zeros((state_count, action_count))\n",
    "    \n",
    "    action_index = choose_action(state_index, epsilon)\n",
    "    action_vector = actions[action_index]\n",
    "    \n",
    "#     print(\"EPISODE--------------------------------------------------\")\n",
    "#     print(\"state: \", state_index)\n",
    "#     print(\"action: \", action_index)\n",
    "    \n",
    "    # iteration 200 steps of the episode\n",
    "    for i in range(max_steps):\n",
    "#         print(\"STEP-------------------------------------------------\")\n",
    "        # Take action A, oberserve R, S'\n",
    "        next_state_vector, reward = grid.transition_reward(state_vector, action_vector)\n",
    "        next_state_index = grid.states.index(list(next_state_vector))\n",
    "        \n",
    "#         print(\"next_state: \", next_state_index)\n",
    "#         print(\"reward: \", reward)\n",
    "        # Choose A' from S' using policy derived from Q (eg. epsilon-greedy)\n",
    "        next_action_index = choose_action(next_state_index, epsilon)\n",
    "        next_action_vector = actions[next_action_index]\n",
    "        \n",
    "#         print(\"next_action: \", next_action_index)\n",
    "        \n",
    "        # update the action-value form of the TD error\n",
    "        delta = reward + gamma*Q_values[next_state_index][next_action_index] - Q_values[state_index][action_index]\n",
    "        \n",
    "#         print(\"delta: \", delta)\n",
    "        \n",
    "        # accumulate traces (? big S and big A?)\n",
    "        z_values[state_index][action_index] +=1\n",
    "        \n",
    "#         print(\"z_values: \", z_values[state_index][action_index])\n",
    "        \n",
    "        # update Q value\n",
    "        Q_values[state_index][action_index] = Q_values[state_index][action_index] + alpha*delta*z_values[state_index][action_index]\n",
    "        \n",
    "#         print(\"Q_values: \", Q_values[state_index][action_index])\n",
    "        \n",
    "        # update z value\n",
    "        z_values[state_index][action_index] = gamma*lamda*z_values[state_index][action_index]\n",
    "        \n",
    "#         print(\"z_values: \", z_values[state_index][action_index])\n",
    "        \n",
    "        # update state and action vector\n",
    "        state_vector = list(next_state_vector)\n",
    "        state_index = grid.states.index(state_vector)\n",
    "        action_vector = list(next_action_vector)\n",
    "        action_index = next_action_index"
   ]
  },
  {
   "cell_type": "code",
   "execution_count": 13,
   "metadata": {},
   "outputs": [
    {
     "data": {
      "text/plain": [
       "array([[0.        , 0.        , 0.        , 0.        ],\n",
       "       [0.        , 0.        , 0.        , 0.        ],\n",
       "       [0.        , 0.        , 0.        , 0.        ],\n",
       "       [0.        , 0.        , 0.        , 0.        ],\n",
       "       [0.        , 0.        , 0.        , 0.        ],\n",
       "       [0.        , 1.684881  , 0.        , 0.        ],\n",
       "       [0.        , 0.        , 1.684881  , 0.891     ],\n",
       "       [0.        , 0.        , 0.        , 0.        ],\n",
       "       [0.        , 0.891     , 0.        , 0.        ],\n",
       "       [0.        , 2.39222897, 1.684881  , 0.891     ],\n",
       "       [0.891     , 2.39222897, 1.684881  , 0.891     ],\n",
       "       [0.891     , 0.891     , 3.02247601, 1.684881  ],\n",
       "       [0.        , 0.        , 0.891     , 0.891     ],\n",
       "       [0.        , 0.        , 0.891     , 0.        ],\n",
       "       [1.684881  , 0.        , 0.891     , 0.        ],\n",
       "       [3.02247601, 0.891     , 4.08436728, 4.08436728],\n",
       "       [1.684881  , 3.02247601, 0.891     , 3.58402613],\n",
       "       [0.891     , 1.684881  , 3.58402613, 2.39222897],\n",
       "       [0.891     , 3.02247601, 1.684881  , 2.39222897],\n",
       "       [0.891     , 3.58402613, 2.39222897, 3.02247601],\n",
       "       [3.02247601, 3.02247601, 5.28129788, 5.59663641],\n",
       "       [3.02247601, 3.58402613, 2.39222897, 2.39222897],\n",
       "       [2.39222897, 4.53017125, 4.08436728, 4.53017125],\n",
       "       [2.39222897, 3.02247601, 3.58402613, 4.53017125],\n",
       "       [2.39222897, 4.92738258, 3.02247601, 3.58402613]])"
      ]
     },
     "execution_count": 13,
     "metadata": {},
     "output_type": "execute_result"
    }
   ],
   "source": [
    "z_values"
   ]
  },
  {
   "cell_type": "code",
   "execution_count": 14,
   "metadata": {},
   "outputs": [
    {
     "data": {
      "text/plain": [
       "array([[ -4.69,   0.46,  -4.62,  -3.85],\n",
       "       [  0.54,   0.59,   0.5 ,   0.78],\n",
       "       [ -2.94,  -2.07,  -4.49,   0.71],\n",
       "       [ -2.15,  -2.17,  -2.43,  -2.54],\n",
       "       [ -6.97,  -5.4 ,  -6.06,  -2.35],\n",
       "       [ -3.14,  -4.99,  -8.05,  -6.85],\n",
       "       [  0.49,  -4.35,  -7.53,  -5.6 ],\n",
       "       [ -2.52,  -5.76,  -7.75,  -3.67],\n",
       "       [ -2.44,  -6.23,  -7.54,  -4.67],\n",
       "       [ -5.98,  -7.01,  -7.84,  -4.33],\n",
       "       [ -5.48,  -8.05,  -8.77,  -8.62],\n",
       "       [ -4.37,  -7.83,  -8.67,  -8.53],\n",
       "       [ -5.02,  -8.3 ,  -8.9 ,  -6.24],\n",
       "       [ -5.63,  -8.43,  -9.68,  -6.98],\n",
       "       [ -7.36,  -8.95,  -9.4 ,  -7.45],\n",
       "       [ -7.67,  -8.68,  -9.67,  -9.48],\n",
       "       [ -7.98,  -8.47,  -9.12,  -9.73],\n",
       "       [ -7.41,  -8.89,  -9.76,  -8.29],\n",
       "       [ -8.07,  -9.54,  -9.91,  -9.41],\n",
       "       [ -7.71, -10.13,  -9.88,  -9.17],\n",
       "       [ -8.74,  -9.5 , -11.34, -12.75],\n",
       "       [ -8.53,  -9.68, -10.62,  -9.74],\n",
       "       [ -8.29, -10.38,  -9.93,  -9.76],\n",
       "       [ -8.78,  -9.75, -10.97,  -9.83],\n",
       "       [ -9.36, -11.91, -11.08,  -9.35]])"
      ]
     },
     "execution_count": 14,
     "metadata": {},
     "output_type": "execute_result"
    }
   ],
   "source": [
    "np.set_printoptions(precision=2)\n",
    "Q_values"
   ]
  },
  {
   "cell_type": "code",
   "execution_count": 15,
   "metadata": {},
   "outputs": [
    {
     "name": "stdout",
     "output_type": "stream",
     "text": [
      "Policy Table: \n",
      "       0     1     2   3     4\n",
      "0  right  left  left  up  left\n",
      "1     up    up    up  up  left\n",
      "2     up    up    up  up    up\n",
      "3     up    up    up  up    up\n",
      "4     up    up    up  up  left\n",
      "\n"
     ]
    }
   ],
   "source": [
    "# PRINT POLICY TABLE ################################################################################\n",
    "# import pandas library\n",
    "import pandas as pd\n",
    "# define column and index\n",
    "columns=range(grid.size)\n",
    "index = range(grid.size)\n",
    "# define dataframe to represent policy table\n",
    "policy_table = pd.DataFrame(index = index, columns=columns)\n",
    "\n",
    "# iterate through policy to make a table that represents action number\n",
    "# as action name (eg. left, right, up, down)\n",
    "for state in range(len(Q_values)):\n",
    "    \n",
    "    # find the best action at each state\n",
    "    best_action = np.argmax(Q_values[state])\n",
    "\n",
    "    # get action name\n",
    "    if best_action == 0:\n",
    "        action_name = 'up'\n",
    "    elif best_action == 1:\n",
    "        action_name = 'right'\n",
    "    elif best_action == 2:\n",
    "        action_name = 'down'\n",
    "    else:\n",
    "        action_name = 'left'\n",
    "\n",
    "    # calculate the row and column coordinate of the current state number\n",
    "    row = int(state/grid.size)\n",
    "    column = round((state/grid.size - int(state/grid.size))*grid.size)\n",
    "            \n",
    "    # assign action name\n",
    "    policy_table.loc[row][column] = action_name\n",
    "\n",
    "print(\"Policy Table: \")\n",
    "print(policy_table)\n",
    "print()"
   ]
  }
 ],
 "metadata": {
  "kernelspec": {
   "display_name": "Python 3",
   "language": "python",
   "name": "python3"
  },
  "language_info": {
   "codemirror_mode": {
    "name": "ipython",
    "version": 3
   },
   "file_extension": ".py",
   "mimetype": "text/x-python",
   "name": "python",
   "nbconvert_exporter": "python",
   "pygments_lexer": "ipython3",
   "version": "3.5.2"
  }
 },
 "nbformat": 4,
 "nbformat_minor": 4
}
