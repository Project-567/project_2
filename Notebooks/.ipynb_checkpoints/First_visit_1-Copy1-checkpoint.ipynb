{
 "cells": [
  {
   "cell_type": "markdown",
   "metadata": {},
   "source": [
    "# Gridworld with First Visit"
   ]
  },
  {
   "cell_type": "code",
   "execution_count": 2,
   "metadata": {},
   "outputs": [],
   "source": [
    "import numpy as np\n",
    "import matplotlib.pyplot as plt\n",
    "import pandas as pd\n",
    "from random import uniform\n",
    "import random\n",
    "from IPython.display import display, clear_output"
   ]
  },
  {
   "cell_type": "code",
   "execution_count": 3,
   "metadata": {},
   "outputs": [],
   "source": [
    "actions = [[-1, 0], [0, 1], [1, 0], [0, -1]] #up, right, down, left = (clockwise from up) \n",
    "action_count = len(actions) # total number of actions\n",
    "gridSize = 5 # create a square grid of gridSize by gridSize\n",
    "state_count = gridSize*gridSize # total number of states"
   ]
  },
  {
   "cell_type": "code",
   "execution_count": 4,
   "metadata": {},
   "outputs": [],
   "source": [
    "class Gridworld():\n",
    "    def __init__(self, gridSize):\n",
    "        self.valueMap = np.zeros((gridSize, gridSize))\n",
    "        self.states = [[i, j] for i in range(gridSize) for j in range(gridSize)]\n",
    "        self.size = gridSize\n",
    "        self.new_pos = [0, 0] # initialize new position for p_transition\n",
    "        self.transition_prob = 1 # deterministic\n",
    "    \n",
    "    def initial_state(self):        # return initial state\n",
    "        return grid.states[gridSize*gridSize-1]\n",
    "   \n",
    "    def transition_reward(self, current_pos, action): # return the transition probability\n",
    "\n",
    "        # get next position: state: [0, 0], action: [0, 1], new_state = [0, 1]\n",
    "        self.new_pos = np.array(current_pos) + np.array(action)\n",
    "\n",
    "        # normally, reward = 0\n",
    "        reward = 0\n",
    "\n",
    "        # if new pos results in off the grid, return reward -1\n",
    "        if -1 in self.new_pos or self.size in self.new_pos:\n",
    "            reward = -1\n",
    "        # if in state A, receive + 10\n",
    "        if current_pos == [0, 1]:\n",
    "            reward = 10\n",
    "        # if in state B, receive + 5\n",
    "        if current_pos == [0, 3]:\n",
    "            reward = 5\n",
    "\n",
    "        # if taking an action crosses the border; agent's new_pos is the same as the current pos\n",
    "        if -1 in self.new_pos or self.size in self.new_pos: \n",
    "            self.new_pos = current_pos\n",
    "            \n",
    "        # if in state A, transition to state A'\n",
    "        if current_pos == [0, 1]:\n",
    "            self.new_pos = [4, 1]\n",
    "            \n",
    "        # if in state B, transition to state B'\n",
    "        if current_pos == [0, 3]:\n",
    "            self.new_pos = [2, 3]\n",
    "\n",
    "        return self.new_pos, reward"
   ]
  },
  {
   "cell_type": "markdown",
   "metadata": {},
   "source": [
    "## Define Functions"
   ]
  },
  {
   "cell_type": "code",
   "execution_count": 5,
   "metadata": {},
   "outputs": [],
   "source": [
    "def generate_episode(steps, policy): #Modification: added policy to the function \n",
    "\n",
    "    # set initial state\n",
    "    state_vector = grid.initial_state()\n",
    "\n",
    "    # initialize state (with iniitial state), action list and reward list\n",
    "    state_list = [state_vector]\n",
    "    action_list = []\n",
    "    reward_list = []\n",
    "\n",
    "    # generate an episode\n",
    "    for i in range(steps):\n",
    "\n",
    "        # pick an action based on categorical distribution in policy\n",
    "        action_index = int(np.random.choice(action_count, 1, p=policy[grid.states.index(state_vector)])) \n",
    "        \n",
    "        action_vector = actions[action_index] # convert the integer index (ie. 0) to action (ie. [-1, 0])\n",
    "\n",
    "        # get new state and reward after taking action from current state\n",
    "        new_state_vector, reward = grid.transition_reward(state_vector, action_vector)\n",
    "        state_vector = list(new_state_vector) \n",
    "        # save state, action chosen and reward to list\n",
    "        state_list.append(state_vector)\n",
    "        action_list.append(action_vector)\n",
    "        reward_list.append(reward)\n",
    "       \n",
    "    return state_list, action_list, reward_list"
   ]
  },
  {
   "cell_type": "code",
   "execution_count": 6,
   "metadata": {},
   "outputs": [],
   "source": [
    "# define average function\n",
    "def Average(lst): \n",
    "    return sum(lst) / len(lst) "
   ]
  },
  {
   "cell_type": "markdown",
   "metadata": {},
   "source": [
    "## First Visit MC"
   ]
  },
  {
   "cell_type": "code",
   "execution_count": 45,
   "metadata": {},
   "outputs": [],
   "source": [
    "# create a grid object\n",
    "grid = Gridworld(5)\n",
    "\n",
    "# initialize q values for all state action pairs\n",
    "Q_values = np.zeros((state_count, action_count))\n",
    "\n",
    "# intialize parameters\n",
    "gamma = 0.99\n",
    "epsilon = 0.1\n",
    "\n",
    "# iterate 500 times: each time, generating an episode of 200 steps\n",
    "max_steps = 5\n",
    "# Define lists for plots\n",
    "average_reward_list = []\n",
    "cumulative_reward_list = []\n",
    "cumulative_reward = 0\n",
    "delta_list = []\n",
    "episode_test_reward_list = []"
   ]
  },
  {
   "cell_type": "code",
   "execution_count": 46,
   "metadata": {},
   "outputs": [],
   "source": [
    "policy = np.zeros((state_count, action_count))"
   ]
  },
  {
   "cell_type": "code",
   "execution_count": 47,
   "metadata": {},
   "outputs": [],
   "source": [
    "# random e soft policy\n",
    "policy = np.zeros((state_count, action_count))\n",
    "for state in range(len(policy)):\n",
    "    random_action = random.randint(0,3)\n",
    "#     random_action = 0\n",
    "    for action in range(action_count):\n",
    "        if action == random_action:\n",
    "            policy[state][action] = 1 - epsilon + epsilon/action_count \n",
    "        else: # if choose_action is not the same as the current action \n",
    "            policy[state][action] = epsilon/action_count"
   ]
  },
  {
   "cell_type": "code",
   "execution_count": 48,
   "metadata": {},
   "outputs": [],
   "source": [
    "# define variables for keeping track of time steps\n",
    "Terminal = max_steps\n",
    "t_list=[]\n",
    "for i in range(max_steps):\n",
    "    t = Terminal - i - 1\n",
    "    t_list.append(t)"
   ]
  },
  {
   "cell_type": "code",
   "execution_count": 49,
   "metadata": {},
   "outputs": [
    {
     "name": "stdout",
     "output_type": "stream",
     "text": [
      "timestep:  4\n",
      "G:  -1.0\n",
      "timestep:  3\n",
      "G:  -0.99\n",
      "timestep:  2\n",
      "G:  -0.9801\n",
      "timestep:  1\n",
      "G:  -1.9702989999999998\n",
      "timestep:  0\n",
      "G:  -2.95059601\n"
     ]
    }
   ],
   "source": [
    "episode_length = 1\n",
    "\n",
    "#Modification: added a dictionary of state and list of returns received\n",
    "returns_list = {}\n",
    "for s in range(state_count):\n",
    "    for a in range(action_count):\n",
    "        returns_list[(s,a)] = []\n",
    "\n",
    "# iteration 500 times\n",
    "for episode in range(episode_length):\n",
    "  \n",
    "    # generate an episode of specified step count\n",
    "    state_list, action_list, reward_list = generate_episode(max_steps, policy)\n",
    "    # calculate average reward of each episode\n",
    "    average_reward_list.append(Average(reward_list))\n",
    "    \n",
    "    # obtain cumulative reward for plotting\n",
    "    cumulative_reward = cumulative_reward + sum(reward_list)\n",
    "    cumulative_reward_list.append(cumulative_reward)\n",
    "\n",
    "    # intialize variables\n",
    "    G = 0\n",
    "    delta = 0\n",
    "    \n",
    "    # initiate visited list to none\n",
    "    visited_list = []\n",
    "\n",
    "    # loop for each step of episode: T-1, T-2, T-3 ... 0 = 199, 198, 197 ... 0\n",
    "    for t in t_list:\n",
    "\n",
    "        # calculate G: starting with the last reward at index t (naturally accounts for pseudocode's \"t-1\")\n",
    "        G = gamma*G + reward_list[t]\n",
    "        print(\"timestep: \", t)\n",
    "        print(\"G: \", G)\n",
    "#         # combine state action pair, for example, state = [0,0], action = [0,1], state_action_pair = [0,0,0,1]\n",
    "#         state_action_pair = []\n",
    "#         state_action_pair.extend(state_list[t])\n",
    "#         state_action_pair.extend(action_list[t])\n",
    "\n",
    "#         # check if state action pair have been visited before (if not: continue, else: move to the next time step)\n",
    "#         if state_action_pair not in visited_list:\n",
    "\n",
    "#             # add state action pair to visited list\n",
    "#             visited_list.append(state_action_pair)\n",
    "            \n",
    "#             # find state and action index, for example, converting action [-1, 0] to 0, and same for state #\n",
    "#             state_index = grid.states.index(state_list[t])\n",
    "#             action_index = actions.index(action_list[t])\n",
    "\n",
    "#             # append G to returns\n",
    "#             returns_list[(state_index,action_index)].append(G)\n",
    "\n",
    "#             # calculate max delta change for plotting max q value change\n",
    "#             delta = max(delta, np.abs(Average(returns_list[(state_index,action_index)]) - Q_values[state_index][action_index]))      \n",
    "            \n",
    "#             # write Q_values to the state-action pair\n",
    "#             Q_values[state_index][action_index] = Average(returns_list[(state_index,action_index)])   \n",
    "    \n",
    "#     #MODIFICATION: adjusted updating rule    \n",
    "#     for s in range(state_count):\n",
    "#         if np.count_nonzero(Q_values[s]) == 0:  # if Q_values is all zero, randomly pick an action\n",
    "#             choose_action = random.randint(0,3)\n",
    "#         else:\n",
    "#             choose_action = np.argmax(Q_values[s]) # choose best action at given state\n",
    "#         # overwrite policy\n",
    "#         for a in range(action_count): # for action in actions [0, 1, 2, 3]\n",
    "#             if choose_action == a: # if the choose_action is the same as the current action\n",
    "#                 policy[s][a] = 1 - epsilon + epsilon/action_count \n",
    "#             else: # if choose_action is not the same as the current action \n",
    "#                 policy[s][a] = epsilon/(action_count)\n",
    "    \n",
    "\n",
    "#     # append delta to list\n",
    "#     delta_list.append(delta)\n",
    "    \n",
    "#     # TEST POLICY after each episode\n",
    "#     # Generate test trajectory with the greedy policy\n",
    "#     state_list, action_list, test_reward_list = generate_episode(200, policy)\n",
    "    \n",
    "#     # sum up all the rewards obtained during test trajectory and append to list\n",
    "#     episode_test_reward_list.append(sum(test_reward_list))\n",
    "    \n",
    "#     # print current episode\n",
    "#     clear_output(wait=True)\n",
    "#     display('Episode: ' + str(episode))\n"
   ]
  },
  {
   "cell_type": "code",
   "execution_count": 50,
   "metadata": {},
   "outputs": [
    {
     "data": {
      "text/plain": [
       "[[4, 4], [4, 4], [4, 4], [3, 4], [4, 4], [4, 4]]"
      ]
     },
     "execution_count": 50,
     "metadata": {},
     "output_type": "execute_result"
    }
   ],
   "source": [
    "state_list"
   ]
  },
  {
   "cell_type": "code",
   "execution_count": 51,
   "metadata": {},
   "outputs": [
    {
     "data": {
      "text/plain": [
       "[[0, 1], [1, 0], [-1, 0], [1, 0], [0, 1]]"
      ]
     },
     "execution_count": 51,
     "metadata": {},
     "output_type": "execute_result"
    }
   ],
   "source": [
    "action_list"
   ]
  },
  {
   "cell_type": "code",
   "execution_count": 52,
   "metadata": {},
   "outputs": [
    {
     "data": {
      "text/plain": [
       "[-1, -1, 0, 0, -1]"
      ]
     },
     "execution_count": 52,
     "metadata": {},
     "output_type": "execute_result"
    }
   ],
   "source": [
    "reward_list"
   ]
  },
  {
   "cell_type": "code",
   "execution_count": 114,
   "metadata": {},
   "outputs": [],
   "source": [
    "G = 0"
   ]
  },
  {
   "cell_type": "code",
   "execution_count": 115,
   "metadata": {},
   "outputs": [
    {
     "data": {
      "text/plain": [
       "-1.0"
      ]
     },
     "execution_count": 115,
     "metadata": {},
     "output_type": "execute_result"
    }
   ],
   "source": [
    "t = 4\n",
    "G = gamma*G + reward_list[t]\n",
    "G"
   ]
  },
  {
   "cell_type": "code",
   "execution_count": 118,
   "metadata": {},
   "outputs": [
    {
     "name": "stdout",
     "output_type": "stream",
     "text": [
      "not repeated\n"
     ]
    }
   ],
   "source": [
    "# combine state action pair, for example, state = [0,0], action = [0,1], state_action_pair = [0,0,0,1]\n",
    "state_action_pair = []\n",
    "state_action_pair.extend(state_list[t])\n",
    "state_action_pair.extend(action_list[t])\n",
    "\n",
    "# check if state action pair have been visited before (if not: continue, else: move to the next time step)\n",
    "if state_action_pair not in visited_list:\n",
    "    visited_list.append(state_action_pair)\n",
    "    print(\"not repeated\")"
   ]
  },
  {
   "cell_type": "code",
   "execution_count": 119,
   "metadata": {},
   "outputs": [
    {
     "data": {
      "text/plain": [
       "1"
      ]
     },
     "execution_count": 119,
     "metadata": {},
     "output_type": "execute_result"
    }
   ],
   "source": [
    "# find state and action index, for example, converting action [-1, 0] to 0, and same for state #\n",
    "state_index = grid.states.index(state_list[t])\n",
    "action_index = actions.index(action_list[t])\n",
    "action_index"
   ]
  },
  {
   "cell_type": "code",
   "execution_count": 120,
   "metadata": {},
   "outputs": [
    {
     "data": {
      "text/plain": [
       "{(0, 0): [],\n",
       " (0, 1): [],\n",
       " (0, 2): [],\n",
       " (0, 3): [],\n",
       " (1, 0): [],\n",
       " (1, 1): [],\n",
       " (1, 2): [],\n",
       " (1, 3): [],\n",
       " (2, 0): [],\n",
       " (2, 1): [],\n",
       " (2, 2): [],\n",
       " (2, 3): [],\n",
       " (3, 0): [],\n",
       " (3, 1): [],\n",
       " (3, 2): [],\n",
       " (3, 3): [],\n",
       " (4, 0): [],\n",
       " (4, 1): [],\n",
       " (4, 2): [],\n",
       " (4, 3): [],\n",
       " (5, 0): [],\n",
       " (5, 1): [],\n",
       " (5, 2): [],\n",
       " (5, 3): [],\n",
       " (6, 0): [],\n",
       " (6, 1): [],\n",
       " (6, 2): [],\n",
       " (6, 3): [],\n",
       " (7, 0): [],\n",
       " (7, 1): [],\n",
       " (7, 2): [],\n",
       " (7, 3): [],\n",
       " (8, 0): [],\n",
       " (8, 1): [],\n",
       " (8, 2): [],\n",
       " (8, 3): [],\n",
       " (9, 0): [],\n",
       " (9, 1): [],\n",
       " (9, 2): [],\n",
       " (9, 3): [],\n",
       " (10, 0): [],\n",
       " (10, 1): [],\n",
       " (10, 2): [],\n",
       " (10, 3): [],\n",
       " (11, 0): [],\n",
       " (11, 1): [],\n",
       " (11, 2): [],\n",
       " (11, 3): [],\n",
       " (12, 0): [],\n",
       " (12, 1): [],\n",
       " (12, 2): [],\n",
       " (12, 3): [],\n",
       " (13, 0): [],\n",
       " (13, 1): [],\n",
       " (13, 2): [],\n",
       " (13, 3): [],\n",
       " (14, 0): [],\n",
       " (14, 1): [],\n",
       " (14, 2): [],\n",
       " (14, 3): [],\n",
       " (15, 0): [],\n",
       " (15, 1): [],\n",
       " (15, 2): [],\n",
       " (15, 3): [],\n",
       " (16, 0): [],\n",
       " (16, 1): [],\n",
       " (16, 2): [],\n",
       " (16, 3): [],\n",
       " (17, 0): [],\n",
       " (17, 1): [],\n",
       " (17, 2): [],\n",
       " (17, 3): [],\n",
       " (18, 0): [],\n",
       " (18, 1): [],\n",
       " (18, 2): [],\n",
       " (18, 3): [],\n",
       " (19, 0): [],\n",
       " (19, 1): [],\n",
       " (19, 2): [],\n",
       " (19, 3): [],\n",
       " (20, 0): [],\n",
       " (20, 1): [],\n",
       " (20, 2): [],\n",
       " (20, 3): [],\n",
       " (21, 0): [],\n",
       " (21, 1): [],\n",
       " (21, 2): [],\n",
       " (21, 3): [],\n",
       " (22, 0): [],\n",
       " (22, 1): [],\n",
       " (22, 2): [],\n",
       " (22, 3): [],\n",
       " (23, 0): [],\n",
       " (23, 1): [],\n",
       " (23, 2): [],\n",
       " (23, 3): [],\n",
       " (24, 0): [],\n",
       " (24, 1): [-1.0],\n",
       " (24, 2): [],\n",
       " (24, 3): []}"
      ]
     },
     "execution_count": 120,
     "metadata": {},
     "output_type": "execute_result"
    }
   ],
   "source": [
    "# append G to returns\n",
    "returns_list[(state_index,action_index)].append(G)\n",
    "returns_list"
   ]
  },
  {
   "cell_type": "code",
   "execution_count": 121,
   "metadata": {},
   "outputs": [
    {
     "data": {
      "text/plain": [
       "1.9702989999999998"
      ]
     },
     "execution_count": 121,
     "metadata": {},
     "output_type": "execute_result"
    }
   ],
   "source": [
    "# calculate max delta change for plotting max q value change\n",
    "delta = max(delta, np.abs(Average(returns_list[(state_index,action_index)]) - Q_values[state_index][action_index]))      \n",
    "delta"
   ]
  },
  {
   "cell_type": "code",
   "execution_count": 122,
   "metadata": {},
   "outputs": [
    {
     "data": {
      "text/plain": [
       "array([[ 0.      ,  0.      ,  0.      ,  0.      ],\n",
       "       [ 0.      ,  0.      ,  0.      ,  0.      ],\n",
       "       [ 0.      ,  0.      ,  0.      ,  0.      ],\n",
       "       [ 0.      ,  0.      ,  0.      ,  0.      ],\n",
       "       [ 0.      ,  0.      ,  0.      ,  0.      ],\n",
       "       [ 0.      ,  0.      ,  0.      ,  0.      ],\n",
       "       [ 0.      ,  0.      ,  0.      ,  0.      ],\n",
       "       [ 0.      ,  0.      ,  0.      ,  0.      ],\n",
       "       [ 0.      ,  0.      ,  0.      ,  0.      ],\n",
       "       [ 0.      ,  0.      ,  0.      ,  0.      ],\n",
       "       [ 0.      ,  0.      ,  0.      ,  0.      ],\n",
       "       [ 0.      ,  0.      ,  0.      ,  0.      ],\n",
       "       [ 0.      ,  0.      ,  0.      ,  0.      ],\n",
       "       [ 0.      ,  0.      ,  0.      ,  0.      ],\n",
       "       [ 0.      ,  0.      ,  0.      ,  0.      ],\n",
       "       [ 0.      ,  0.      ,  0.      ,  0.      ],\n",
       "       [ 0.      ,  0.      ,  0.      ,  0.      ],\n",
       "       [ 0.      ,  0.      ,  0.      ,  0.      ],\n",
       "       [ 0.      ,  0.      ,  0.      ,  0.      ],\n",
       "       [ 0.      ,  0.      , -0.99    ,  0.      ],\n",
       "       [ 0.      ,  0.      ,  0.      ,  0.      ],\n",
       "       [ 0.      ,  0.      ,  0.      ,  0.      ],\n",
       "       [ 0.      ,  0.      ,  0.      ,  0.      ],\n",
       "       [ 0.      ,  0.      ,  0.      ,  0.      ],\n",
       "       [-0.9801  , -1.      , -1.970299,  0.      ]])"
      ]
     },
     "execution_count": 122,
     "metadata": {},
     "output_type": "execute_result"
    }
   ],
   "source": [
    "# write Q_values to the state-action pair\n",
    "Q_values[state_index][action_index] = Average(returns_list[(state_index,action_index)])\n",
    "Q_values"
   ]
  },
  {
   "cell_type": "code",
   "execution_count": 103,
   "metadata": {},
   "outputs": [],
   "source": [
    "#MODIFICATION: adjusted updating rule    \n",
    "for s in range(state_count):\n",
    "    if np.count_nonzero(Q_values[s]) == 0:  # if Q_values is all zero, randomly pick an action\n",
    "        choose_action = random.randint(0,3)\n",
    "    else:\n",
    "        choose_action = np.argmax(Q_values[s]) # choose best action at given state\n",
    "    # overwrite policy\n",
    "    for a in range(action_count): # for action in actions [0, 1, 2, 3]\n",
    "        if choose_action == a: # if the choose_action is the same as the current action\n",
    "            policy[s][a] = 1 - epsilon\n",
    "        else: # if choose_action is not the same as the current action \n",
    "            policy[s][a] = epsilon/(action_count-1)"
   ]
  },
  {
   "cell_type": "code",
   "execution_count": 104,
   "metadata": {},
   "outputs": [
    {
     "data": {
      "text/plain": [
       "array([[0.03333333, 0.9       , 0.03333333, 0.03333333],\n",
       "       [0.03333333, 0.03333333, 0.9       , 0.03333333],\n",
       "       [0.03333333, 0.03333333, 0.9       , 0.03333333],\n",
       "       [0.03333333, 0.9       , 0.03333333, 0.03333333],\n",
       "       [0.9       , 0.03333333, 0.03333333, 0.03333333],\n",
       "       [0.03333333, 0.03333333, 0.03333333, 0.9       ],\n",
       "       [0.03333333, 0.9       , 0.03333333, 0.03333333],\n",
       "       [0.9       , 0.03333333, 0.03333333, 0.03333333],\n",
       "       [0.03333333, 0.03333333, 0.9       , 0.03333333],\n",
       "       [0.9       , 0.03333333, 0.03333333, 0.03333333],\n",
       "       [0.03333333, 0.03333333, 0.9       , 0.03333333],\n",
       "       [0.03333333, 0.03333333, 0.03333333, 0.9       ],\n",
       "       [0.03333333, 0.03333333, 0.9       , 0.03333333],\n",
       "       [0.9       , 0.03333333, 0.03333333, 0.03333333],\n",
       "       [0.03333333, 0.03333333, 0.03333333, 0.9       ],\n",
       "       [0.03333333, 0.03333333, 0.03333333, 0.9       ],\n",
       "       [0.03333333, 0.03333333, 0.9       , 0.03333333],\n",
       "       [0.9       , 0.03333333, 0.03333333, 0.03333333],\n",
       "       [0.03333333, 0.03333333, 0.9       , 0.03333333],\n",
       "       [0.9       , 0.03333333, 0.03333333, 0.03333333],\n",
       "       [0.03333333, 0.03333333, 0.03333333, 0.9       ],\n",
       "       [0.03333333, 0.9       , 0.03333333, 0.03333333],\n",
       "       [0.03333333, 0.03333333, 0.9       , 0.03333333],\n",
       "       [0.9       , 0.03333333, 0.03333333, 0.03333333],\n",
       "       [0.03333333, 0.03333333, 0.03333333, 0.9       ]])"
      ]
     },
     "execution_count": 104,
     "metadata": {},
     "output_type": "execute_result"
    }
   ],
   "source": [
    "policy"
   ]
  },
  {
   "cell_type": "code",
   "execution_count": 105,
   "metadata": {},
   "outputs": [
    {
     "name": "stdout",
     "output_type": "stream",
     "text": [
      "Policy Table: \n",
      "       0      1      2      3     4\n",
      "0  right   down     up   left  left\n",
      "1  right   down   down  right  down\n",
      "2   down  right  right   down  down\n",
      "3   down   left     up   down    up\n",
      "4     up     up   down   down  left\n",
      "\n"
     ]
    }
   ],
   "source": [
    "# PRINT POLICY TABLE ################################################################################\n",
    "# import pandas library\n",
    "import pandas as pd\n",
    "# define column and index\n",
    "columns=range(grid.size)\n",
    "index = range(grid.size)\n",
    "# define dataframe to represent policy table\n",
    "policy_table = pd.DataFrame(index = index, columns=columns)\n",
    "\n",
    "# iterate through policy to make a table that represents action number\n",
    "# as action name (eg. left, right, up, down)\n",
    "for state in range(len(policy)):\n",
    "    \n",
    "    # find the best action at each state\n",
    "    best_action = np.argmax(policy[state])\n",
    "    \n",
    "    # if Q_values is all zero, randomly pick an action\n",
    "    if np.count_nonzero(Q_values[state]) == 0:\n",
    "        best_action = random.randint(0,3)\n",
    "\n",
    "    # get action name\n",
    "    if best_action == 0:\n",
    "        action_name = 'up'\n",
    "    elif best_action == 1:\n",
    "        action_name = 'right'\n",
    "    elif best_action == 2:\n",
    "        action_name = 'down'\n",
    "    else:\n",
    "        action_name = 'left'\n",
    "\n",
    "    # calculate the row and column coordinate of the current state number\n",
    "    row = int(state/grid.size)\n",
    "    column = round((state/grid.size - int(state/grid.size))*grid.size)\n",
    "\n",
    "    # assign action name\n",
    "    policy_table.loc[row][column] = action_name\n",
    "\n",
    "print(\"Policy Table: \")\n",
    "print(policy_table)\n",
    "print()"
   ]
  },
  {
   "cell_type": "markdown",
   "metadata": {},
   "source": [
    "## Plots "
   ]
  },
  {
   "cell_type": "code",
   "execution_count": 19,
   "metadata": {},
   "outputs": [],
   "source": [
    "window_length = int(episode_length/20)"
   ]
  },
  {
   "cell_type": "code",
   "execution_count": 20,
   "metadata": {},
   "outputs": [
    {
     "data": {
      "text/plain": [
       "[<matplotlib.lines.Line2D at 0x7f01c541ce10>]"
      ]
     },
     "execution_count": 20,
     "metadata": {},
     "output_type": "execute_result"
    },
    {
     "data": {
      "image/png": "[encoded data removed]",
      "text/plain": [
       "<Figure size 432x288 with 1 Axes>"
      ]
     },
     "metadata": {
      "needs_background": "light"
     },
     "output_type": "display_data"
    }
   ],
   "source": [
    "# test reward of each episode\n",
    "plt.plot(episode_test_reward_list)\n",
    "plt.title('Reward per Episode during Testing')\n",
    "plt.xlabel('Episode')\n",
    "plt.ylabel('Reward')\n",
    "\n",
    "# plot moving average\n",
    "delta_frame = pd.DataFrame(episode_test_reward_list)\n",
    "rolling_mean = delta_frame.rolling(window=window_length).mean()\n",
    "plt.plot(rolling_mean, label='Moving Average', color='orange')"
   ]
  },
  {
   "cell_type": "code",
   "execution_count": 21,
   "metadata": {},
   "outputs": [
    {
     "data": {
      "text/plain": [
       "[<matplotlib.lines.Line2D at 0x7f01c541cc18>]"
      ]
     },
     "execution_count": 21,
     "metadata": {},
     "output_type": "execute_result"
    },
    {
     "data": {
      "image/png": "[encoded data removed]",
      "text/plain": [
       "<Figure size 432x288 with 1 Axes>"
      ]
     },
     "metadata": {
      "needs_background": "light"
     },
     "output_type": "display_data"
    }
   ],
   "source": [
    "# max delta of each episode, where delta is the change in Q values\n",
    "plt.plot(delta_list)\n",
    "plt.title('Max Delta per Episode during Training')\n",
    "plt.xlabel('Episode')\n",
    "plt.ylabel('Max Delta')\n",
    "\n",
    "# plot moving average\n",
    "delta_frame = pd.DataFrame(delta_list)\n",
    "rolling_mean = delta_frame.rolling(window=window_length).mean()\n",
    "plt.plot(rolling_mean, label='Moving Average', color='orange')"
   ]
  },
  {
   "cell_type": "code",
   "execution_count": 22,
   "metadata": {},
   "outputs": [
    {
     "data": {
      "text/plain": [
       "[<matplotlib.lines.Line2D at 0x7f01c536e400>]"
      ]
     },
     "execution_count": 22,
     "metadata": {},
     "output_type": "execute_result"
    },
    {
     "data": {
      "image/png": "[encoded data removed]",
      "text/plain": [
       "<Figure size 432x288 with 1 Axes>"
      ]
     },
     "metadata": {
      "needs_background": "light"
     },
     "output_type": "display_data"
    }
   ],
   "source": [
    "# average reward per episode\n",
    "plt.plot(average_reward_list)\n",
    "plt.title('Average Reward per Episode during Training')\n",
    "plt.xlabel('Episode')\n",
    "plt.ylabel('Average Reward')\n",
    "\n",
    "# plot moving average\n",
    "reward_frame = pd.DataFrame(average_reward_list)\n",
    "rolling_mean = reward_frame.rolling(window=window_length).mean()\n",
    "plt.plot(rolling_mean, label='Moving Average', color='orange')"
   ]
  },
  {
   "cell_type": "code",
   "execution_count": 23,
   "metadata": {},
   "outputs": [
    {
     "data": {
      "text/plain": [
       "Text(0, 0.5, 'Cumulative Reward')"
      ]
     },
     "execution_count": 23,
     "metadata": {},
     "output_type": "execute_result"
    },
    {
     "data": {
      "image/png": "[encoded data removed]",
      "text/plain": [
       "<Figure size 432x288 with 1 Axes>"
      ]
     },
     "metadata": {
      "needs_background": "light"
     },
     "output_type": "display_data"
    }
   ],
   "source": [
    "# cumulative reward per episode\n",
    "plt.plot(cumulative_reward_list)\n",
    "plt.title('Cumulative Reward per Episode during Training')\n",
    "plt.xlabel('Episode')\n",
    "plt.ylabel('Cumulative Reward')"
   ]
  },
  {
   "cell_type": "code",
   "execution_count": 24,
   "metadata": {},
   "outputs": [
    {
     "data": {
      "text/plain": [
       "array([[  3.2282,   0.2682,  -5.0376,  -6.648 ],\n",
       "       [  1.1025,   7.7951,   2.4956,   0.7401],\n",
       "       [  2.6456,   0.4401,  -0.5119,   6.702 ],\n",
       "       [  0.5451,   0.27  ,   0.9981,  -0.2655],\n",
       "       [ -5.1075,  -3.0805,  -9.8154,  -3.5181],\n",
       "       [ -2.5355, -10.4731,  -6.8304,  -3.7289],\n",
       "       [ -1.7124,  -1.4678,  -0.2721,  -4.1176],\n",
       "       [  2.2287,  -8.7716,  -3.5408,  -5.0441],\n",
       "       [ -1.2281,   0.574 ,  -0.945 ,   4.8867],\n",
       "       [-11.082 , -12.3842,  -8.9641,   2.1236],\n",
       "       [ -6.1857,  -1.117 ,  -5.9599,  -2.3782],\n",
       "       [ -2.3483,  -2.9191,  -1.7154,  -5.5726],\n",
       "       [ -3.483 ,  -4.5388,  -2.4567,  -4.9065],\n",
       "       [ -1.1003,  -7.5103,  -3.1075,  -4.4931],\n",
       "       [ -9.6091,  -6.8678, -17.1185,  -4.0671],\n",
       "       [ -6.2259,  -4.3735,  -1.5318,  -5.6353],\n",
       "       [ -2.0822,  -2.256 ,  -2.0943,  -2.9719],\n",
       "       [ -3.5469,  -4.5882,  -4.5571,  -2.1534],\n",
       "       [ -0.9209, -12.5234, -11.481 ,  -5.9808],\n",
       "       [ -5.5903,  -4.6874, -12.3702,  -4.8284],\n",
       "       [ -6.6865,  -1.664 ,  -5.0148,  -4.5247],\n",
       "       [ -2.591 ,  -5.9868,  -5.0543,  -4.9942],\n",
       "       [ -2.3371, -14.1377,  -5.4034,  -7.4927],\n",
       "       [ -4.157 , -11.0605,  -0.0631,  -2.6671],\n",
       "       [-12.594 , -15.8334, -16.2736,  -9.5643]])"
      ]
     },
     "execution_count": 24,
     "metadata": {},
     "output_type": "execute_result"
    }
   ],
   "source": [
    "np.set_printoptions(precision=4)\n",
    "Q_values"
   ]
  },
  {
   "cell_type": "markdown",
   "metadata": {},
   "source": [
    "## Visualize Final Policy"
   ]
  },
  {
   "cell_type": "code",
   "execution_count": 25,
   "metadata": {},
   "outputs": [
    {
     "name": "stdout",
     "output_type": "stream",
     "text": [
      "Policy Table: \n",
      "       0      1     2     3      4\n",
      "0     up  right  left  down  right\n",
      "1     up   down    up  left   left\n",
      "2  right   down  down    up   left\n",
      "3   down     up  left    up  right\n",
      "4  right     up    up  down   left\n",
      "\n"
     ]
    }
   ],
   "source": [
    "# PRINT POLICY TABLE ################################################################################\n",
    "# import pandas library\n",
    "import pandas as pd\n",
    "# define column and index\n",
    "columns=range(grid.size)\n",
    "index = range(grid.size)\n",
    "# define dataframe to represent policy table\n",
    "policy_table = pd.DataFrame(index = index, columns=columns)\n",
    "\n",
    "# iterate through policy to make a table that represents action number\n",
    "# as action name (eg. left, right, up, down)\n",
    "for state in range(len(policy)):\n",
    "    \n",
    "    # find the best action at each state\n",
    "    best_action = np.argmax(policy[state])\n",
    "    \n",
    "    # if Q_values is all zero, randomly pick an action\n",
    "    if np.count_nonzero(Q_values[state]) == 0:\n",
    "        best_action = random.randint(0,3)\n",
    "\n",
    "    # get action name\n",
    "    if best_action == 0:\n",
    "        action_name = 'up'\n",
    "    elif best_action == 1:\n",
    "        action_name = 'right'\n",
    "    elif best_action == 2:\n",
    "        action_name = 'down'\n",
    "    else:\n",
    "        action_name = 'left'\n",
    "\n",
    "    # calculate the row and column coordinate of the current state number\n",
    "    row = int(state/grid.size)\n",
    "    column = round((state/grid.size - int(state/grid.size))*grid.size)\n",
    "\n",
    "    # assign action name\n",
    "    policy_table.loc[row][column] = action_name\n",
    "\n",
    "print(\"Policy Table: \")\n",
    "print(policy_table)\n",
    "print()"
   ]
  }
 ],
 "metadata": {
  "kernelspec": {
   "display_name": "Python 3",
   "language": "python",
   "name": "python3"
  },
  "language_info": {
   "codemirror_mode": {
    "name": "ipython",
    "version": 3
   },
   "file_extension": ".py",
   "mimetype": "text/x-python",
   "name": "python",
   "nbconvert_exporter": "python",
   "pygments_lexer": "ipython3",
   "version": "3.5.2"
  }
 },
 "nbformat": 4,
 "nbformat_minor": 4
}
